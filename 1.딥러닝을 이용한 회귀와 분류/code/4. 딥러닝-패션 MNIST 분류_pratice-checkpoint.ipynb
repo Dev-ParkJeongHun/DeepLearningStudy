{
 "cells": [
  {
   "cell_type": "markdown",
   "metadata": {},
   "source": [
    "# 딥러닝으로 패션 MNIST 분류"
   ]
  },
  {
   "cell_type": "markdown",
   "metadata": {},
   "source": [
    "### 텐서플로우와 케라스 라이브러리 import 및 버전 확인"
   ]
  },
  {
   "cell_type": "code",
   "execution_count": null,
   "metadata": {},
   "outputs": [],
   "source": []
  },
  {
   "cell_type": "markdown",
   "metadata": {},
   "source": [
    "### 패션 MNIST 데이타셋\n",
    "- 10개의 클래스\n",
    "- 28*28 픽셀 크기의 흑백이미지 70,000개\n",
    "- 픽셀 강도 : 0 ~ 255의 정수로 표현\n",
    "- 패션 아이템 이미지"
   ]
  },
  {
   "cell_type": "markdown",
   "metadata": {},
   "source": [
    "<img src=\"./img/fashon-mnist.png\" width=600 align=\"left\">"
   ]
  },
  {
   "cell_type": "markdown",
   "metadata": {},
   "source": [
    "### 1. Fashion-MNIST 데이터셋 다운로드"
   ]
  },
  {
   "cell_type": "code",
   "execution_count": null,
   "metadata": {
    "scrolled": true
   },
   "outputs": [],
   "source": [
    "from tensorflow.keras.datasets.fashion_mnist import load_data\n",
    "\n",
    "# Fashion-MNIST 데이터를 다운받습니다.\n"
   ]
  },
  {
   "cell_type": "markdown",
   "metadata": {},
   "source": [
    "### 데이터 그려보기"
   ]
  },
  {
   "cell_type": "code",
   "execution_count": null,
   "metadata": {},
   "outputs": [],
   "source": [
    "import matplotlib.pyplot as plt\n",
    "import numpy as np\n",
    "np.random.seed(777)\n",
    "\n",
    "# Fashion-MNIST의 레이블에 해당하는 품목입니다.\n",
    "class_names = ['T-shirt/top', 'Trouser', 'Pullover', 'Dress', 'Coat',\n",
    "               'Sandal', 'Shirt', 'Sneaker', 'Bag', 'Ankle boot']\n",
    "\n"
   ]
  },
  {
   "cell_type": "markdown",
   "metadata": {},
   "source": [
    "### 2. 전처리 및 검증 데이터셋 만들기"
   ]
  },
  {
   "cell_type": "code",
   "execution_count": null,
   "metadata": {},
   "outputs": [],
   "source": [
    "# 값의 범위를 0 ~ 1로 만들어줍니다.\n",
    "\n",
    "from tensorflow.keras.utils import to_categorical\n",
    "\n",
    "# 각 데이터의 레이블을 범주형 형태로 변경합니다.\n",
    "\n",
    "# 검증 데이터 세트를 만듭니다.\n",
    "\n",
    "# 훈련/검증 데이터를 0.7/0.3의 비율로 분리합니다."
   ]
  },
  {
   "cell_type": "markdown",
   "metadata": {},
   "source": [
    "### 3. 딥러닝 모델 구성하기"
   ]
  },
  {
   "cell_type": "markdown",
   "metadata": {},
   "source": [
    "### 1) 첫 번째 모델 구성하기"
   ]
  },
  {
   "cell_type": "code",
   "execution_count": null,
   "metadata": {},
   "outputs": [],
   "source": []
  },
  {
   "cell_type": "code",
   "execution_count": null,
   "metadata": {},
   "outputs": [],
   "source": []
  },
  {
   "cell_type": "markdown",
   "metadata": {},
   "source": [
    "###  학습 과정 설정 및 학습하기"
   ]
  },
  {
   "cell_type": "code",
   "execution_count": null,
   "metadata": {},
   "outputs": [],
   "source": []
  },
  {
   "cell_type": "code",
   "execution_count": null,
   "metadata": {},
   "outputs": [],
   "source": []
  },
  {
   "cell_type": "markdown",
   "metadata": {},
   "source": [
    "### 2) 두 번째 모델 구성하기"
   ]
  },
  {
   "cell_type": "code",
   "execution_count": null,
   "metadata": {},
   "outputs": [],
   "source": []
  },
  {
   "cell_type": "code",
   "execution_count": null,
   "metadata": {},
   "outputs": [],
   "source": []
  },
  {
   "cell_type": "markdown",
   "metadata": {},
   "source": [
    "### 학습 과정 설정 및 학습하기"
   ]
  },
  {
   "cell_type": "code",
   "execution_count": null,
   "metadata": {
    "scrolled": true
   },
   "outputs": [],
   "source": []
  },
  {
   "cell_type": "code",
   "execution_count": null,
   "metadata": {},
   "outputs": [],
   "source": []
  },
  {
   "cell_type": "markdown",
   "metadata": {},
   "source": [
    "### 4. 두 모델의 학습 과정 그려보기"
   ]
  },
  {
   "cell_type": "code",
   "execution_count": null,
   "metadata": {},
   "outputs": [],
   "source": [
    "import numpy as np\n",
    "import matplotlib.pyplot as plt\n",
    "\n",
    "def draw_loss_acc(history_1, history_2, epochs):\n",
    "    his_dict_1 = history_1.history\n",
    "    his_dict_2 = history_2.history\n",
    "    keys = list(his_dict_1.keys())\n",
    "    \n",
    "    epochs = range(1, epochs)\n",
    "    fig = plt.figure(figsize = (8,6))\n",
    "    ax = fig.add_subplot(1, 1, 1)\n",
    "    # axis 선과 ax의 축 레이블을 제거합니다.\n",
    "    ax.spines['top'].set_color('none')\n",
    "    ax.spines['bottom'].set_color('none')\n",
    "    ax.spines['left'].set_color('none')\n",
    "    ax.spines['right'].set_color('none')\n",
    "    ax.tick_params(labelcolor='w', top=False, bottom=False, left=False, right=False)\n",
    "    \n",
    "    for i in range(len(his_dict_1)):\n",
    "        temp_ax = fig.add_subplot(2, 2, i + 1)\n",
    "        temp = keys[i%2]\n",
    "        val_temp = keys[(i + 2)%2 + 2]\n",
    "        temp_history = his_dict_1 if i < 2 else his_dict_2\n",
    "        temp_ax.plot(epochs, temp_history[temp][1:], color = 'blue', label = 'train_' + temp)\n",
    "        temp_ax.plot(epochs, temp_history[val_temp][1:], color = 'orange', label = val_temp)\n",
    "        if(i == 1 or i == 3):\n",
    "            start, end = temp_ax.get_ylim()\n",
    "            temp_ax.yaxis.set_ticks(np.arange(np.round(start, 2), end, 0.01))\n",
    "        temp_ax.legend()\n",
    "    ax.set_ylabel('loss', size = 20)\n",
    "    ax.set_xlabel('Epochs', size = 20)\n",
    "    plt.tight_layout()\n",
    "    plt.show()\n",
    "    \n",
    "draw_loss_acc(first_history, second_history, 30)"
   ]
  }
 ],
 "metadata": {
  "kernelspec": {
   "display_name": "Python 3 (ipykernel)",
   "language": "python",
   "name": "python3"
  },
  "language_info": {
   "codemirror_mode": {
    "name": "ipython",
    "version": 3
   },
   "file_extension": ".py",
   "mimetype": "text/x-python",
   "name": "python",
   "nbconvert_exporter": "python",
   "pygments_lexer": "ipython3",
   "version": "3.7.6"
  }
 },
 "nbformat": 4,
 "nbformat_minor": 2
}
