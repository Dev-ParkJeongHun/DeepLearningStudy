{
 "cells": [
  {
   "cell_type": "markdown",
   "metadata": {},
   "source": [
    "# 케라스 콜백(Keras Callback) \n",
    "- 모델의 학습 방향, 저장 시점, 학습 정지 시점 등에 관한 상황을 모니터링하기 위해 주로 사용\n",
    "- 모델의 fit() 함수를 통해 반환되는 History 객체를 활용하여 학습 과정 시각화애 사용\n",
    "    - -> 케라스 콜백 중 하나인 History 콜백이 모든 케라스 모델에 자동으로 적용되어 있기 때문\n",
    "\n",
    "### 케라스 콜백 4가지와 주요 인자\n",
    "- ModelCheckpoint\n",
    "- EarlyStopping\n",
    "- ReduceROnPlateau\n",
    "- TensorBoard\n",
    "\n",
    "### 1) ModelCheckpoint 콜백\n",
    "- 지정한 평가 지표를 기준으로 가장 뛰어난 성능을 보여주는 모델을 저장할 때 사용\n",
    "- ModelCheckpoint(filepath, mointor='val_loss', verbose=0, save_best_only=False, save_weights_only=False, mode='auto')\n",
    "- filepath : 모델의 저장 경로 지정\n",
    "- monitor : 모니터링할 평가 지표를 설정, 모델이 포함하고 있는 모든 지표를 사용할 수 있음\n",
    "- verbose : 콜백의 수행 과정 노출 여부를 지정, 0(아무런 표시하지 않음), 1(프로그래스바로 나타남), 2(매 에폭마다 수행과정을 설명)\n",
    "- save_best_only : True인 경우, 가장 뛰어난 모델만 저장. 그보다 좋지 않은 모델의 경우에는 덮어쓰지 않음\n",
    "- save_weights_only : 모델의 가중치만 저장\n",
    "- mode : ['auto', 'min', 'max'] 중 하나를 사용, monitor에서 지정한 평가지표를 기준으로 작동\n",
    "    - 평가지표가 val_acc 인 경우 max를 선택\n",
    "    - 평가지표가 val_loss인 경우 min을 선택,\n",
    "    - auto인 경우 평가지표의 이름을 통해 자동으로 유추하여 결정\n",
    "    \n",
    "### 2) EarlyStopping 콜백   \n",
    "- 이른 멈춤\n",
    "- 모델 학습 시에 지정된 기간 동안 모니터링하는 평가지표에서 성능 향상이 일어나지 않은 경우 학습을 중단\n",
    "- EarlyStopping(monitor='val_loss', patience=0, verbose=0, mode='auto')\n",
    "- patience : 지정한 수만큼의 기간에서 평가지표의 향상이 일어나지 않을 경우 학습을 중단함\n",
    "    - patience=5일 때, 5에폭 동안 성능 향상이 일어나지 않으면 학습을 중단한다.\n",
    "\n",
    "### 3) ReduceROnPlateau 콜백 \n",
    "- EarlyStopping 콜백과 같이 patience 인자를 지정하여, 지정된 기간 동안 평가지표에서 성능 행상이 일어나지 않으면 학습률을 보정하는 콜백\n",
    "- ReduceROnPlateau(monitor='val_loss', factor=0.1, patience=10, min_lr=0)\n",
    "- factor : 학습률 조정에 사용되는 값(새로운 학습률 = factor * 기존 학습률)\n",
    "- patience : 지정한 수만큼의 기간에서 성능 향상이 일어나지 않을 경우, 학습률을 조정\n",
    "- min_lr : 학습률의 하한을 지정, le-5로 지정할 경우, 이보다 낮은 학습률로 조정되지 않는다.\n",
    "- 일반적으로 factor는 0.1이나 0.2, min_lr은 1e-6 또는 1e-7을 사용\n",
    "\n",
    "### 4) TensorBoard 콜백 \n",
    "- 텐서 보드(TensorBoard)는 학습과정을 편리하게 모니터링할 수 있도록 텐서플로우에서 제공하고 있는 도구\n",
    "- 여러가지 지표를 그래프로 시각화해주어 모델을 쉽게 분석할 수 있도록 도와준다.\n",
    "- TensorBoard(log_dir='./logs', histogram_freq=0, batch_size=32, write_graph=True, wirte_images=True)\n",
    "- log_dir : 텐서보드를 사용할 로그 파일의 저장 경로\n",
    "- histogram_freq : 활성화 및 가중치를 히스토그램으로 얼마나 자주 나타낼지를 결정\n",
    "    - 0인 경우 히스토그램을 생성하지 않음\n",
    "    - 히스토그램을 생성하기 위해서는 학습 시에 검증 데이타가 전달되어야 한다.\n",
    "- batch_size : 히스토그램을 계산하기 위한 배치 크기\n",
    "- write_grpah : 텐서보드에서 그래프 시각화에 대한 여부를 나타냄\n",
    "- wirte_images : 텐서보드에서 이미지로 시각화하기 위한 가중치의 기록 여부를 나타냄\n",
    "- TensorBoard 콜백 사용 준비 \n",
    "    - 텐서보드를 사용하기 위해 logs 폴더를 생성\n",
    "    - 학습을 진행하여 텐서보드의 로그파일을 생성\n",
    "    - 로그파일은 텐서보드 콜백을 통해 자동으로 생성됨"
   ]
  },
  {
   "cell_type": "markdown",
   "metadata": {},
   "source": [
    "## 1. MNIST 데이타셋에 케라스 ModelCheckpoint 콜백 사용하기"
   ]
  },
  {
   "cell_type": "markdown",
   "metadata": {},
   "source": [
    "### 1) 딥러닝 모델 설정"
   ]
  },
  {
   "cell_type": "code",
   "execution_count": 1,
   "metadata": {},
   "outputs": [],
   "source": [
    "import tensorflow as tf\n",
    "from tensorflow.keras.datasets.mnist import load_data\n",
    "\n",
    "from tensorflow.keras.models import Sequential\n",
    "from tensorflow.keras.layers import Dense\n",
    "from tensorflow.keras.utils import to_categorical\n",
    "\n",
    "from sklearn.model_selection import train_test_split\n",
    "tf.random.set_seed(777)\n",
    "\n",
    "# 1. 데이타 로드\n",
    "(x_train, y_train), (x_test, y_test) = load_data(path='mnist.npz')\n",
    "\n",
    "# 2. 검증 데이타 분할\n",
    "x_train, x_val, y_train, y_val = train_test_split(x_train, y_train, \n",
    "                                                  test_size = 0.3, \n",
    "                                                  random_state = 777)\n",
    "# 3. 피쳐 정규화/레이블 원-핫 인코딩\n",
    "num_x_train = x_train.shape[0]\n",
    "num_x_val = x_val.shape[0]\n",
    "num_x_test = x_test.shape[0]\n",
    "\n",
    "x_train = (x_train.reshape((num_x_train, 28 * 28))) / 255\n",
    "x_val = (x_val.reshape((num_x_val, 28 * 28))) / 255\n",
    "x_test = (x_test.reshape((num_x_test, 28 * 28))) / 255\n",
    "\n",
    "y_train = to_categorical(y_train)\n",
    "y_val = to_categorical(y_val)\n",
    "y_test = to_categorical(y_test)\n",
    "\n",
    "# 4. 딥러닝 모델 구성\n",
    "model = Sequential()\n",
    "model.add(Dense(64, activation = 'relu', input_shape = (784, )))\n",
    "model.add(Dense(32, activation = 'relu'))\n",
    "model.add(Dense(10, activation = 'softmax'))\n",
    "\n",
    "# 5. 컴파일 설정\n",
    "model.compile(optimizer='adam', \n",
    "              loss = 'categorical_crossentropy', \n",
    "              metrics=['acc'])\n"
   ]
  },
  {
   "cell_type": "markdown",
   "metadata": {},
   "source": [
    "### 2) ModelCheckpoint 콜백 사용하기"
   ]
  },
  {
   "cell_type": "code",
   "execution_count": 2,
   "metadata": {},
   "outputs": [
    {
     "name": "stdout",
     "output_type": "stream",
     "text": [
      "Epoch 1/10\n",
      "1299/1313 [============================>.] - ETA: 0s - loss: 0.3429 - acc: 0.8974\n",
      "Epoch 00001: val_loss improved from inf to 0.18802, saving model to ./best_model.hdf5\n",
      "1313/1313 [==============================] - 6s 5ms/step - loss: 0.3412 - acc: 0.8979 - val_loss: 0.1880 - val_acc: 0.9456\n",
      "Epoch 2/10\n",
      "1297/1313 [============================>.] - ETA: 0s - loss: 0.1521 - acc: 0.9546\n",
      "Epoch 00002: val_loss improved from 0.18802 to 0.14144, saving model to ./best_model.hdf5\n",
      "1313/1313 [==============================] - 6s 5ms/step - loss: 0.1518 - acc: 0.9546 - val_loss: 0.1414 - val_acc: 0.9601\n",
      "Epoch 3/10\n",
      "1307/1313 [============================>.] - ETA: 0s - loss: 0.1095 - acc: 0.9678\n",
      "Epoch 00003: val_loss improved from 0.14144 to 0.13732, saving model to ./best_model.hdf5\n",
      "1313/1313 [==============================] - 7s 6ms/step - loss: 0.1097 - acc: 0.9677 - val_loss: 0.1373 - val_acc: 0.9605\n",
      "Epoch 4/10\n",
      "1302/1313 [============================>.] - ETA: 0s - loss: 0.0876 - acc: 0.9733\n",
      "Epoch 00004: val_loss improved from 0.13732 to 0.10975, saving model to ./best_model.hdf5\n",
      "1313/1313 [==============================] - 7s 5ms/step - loss: 0.0874 - acc: 0.9734 - val_loss: 0.1098 - val_acc: 0.9681\n",
      "Epoch 5/10\n",
      "1304/1313 [============================>.] - ETA: 0s - loss: 0.0714 - acc: 0.9780\n",
      "Epoch 00005: val_loss did not improve from 0.10975\n",
      "1313/1313 [==============================] - 7s 5ms/step - loss: 0.0713 - acc: 0.9780 - val_loss: 0.1218 - val_acc: 0.9640\n",
      "Epoch 6/10\n",
      "1309/1313 [============================>.] - ETA: 0s - loss: 0.0594 - acc: 0.9815\n",
      "Epoch 00006: val_loss improved from 0.10975 to 0.10796, saving model to ./best_model.hdf5\n",
      "1313/1313 [==============================] - 6s 5ms/step - loss: 0.0595 - acc: 0.9815 - val_loss: 0.1080 - val_acc: 0.9688\n",
      "Epoch 7/10\n",
      "1299/1313 [============================>.] - ETA: 0s - loss: 0.0520 - acc: 0.9841\n",
      "Epoch 00007: val_loss improved from 0.10796 to 0.10654, saving model to ./best_model.hdf5\n",
      "1313/1313 [==============================] - 6s 5ms/step - loss: 0.0520 - acc: 0.9840 - val_loss: 0.1065 - val_acc: 0.9698\n",
      "Epoch 8/10\n",
      "1312/1313 [============================>.] - ETA: 0s - loss: 0.0409 - acc: 0.9875\n",
      "Epoch 00008: val_loss did not improve from 0.10654\n",
      "1313/1313 [==============================] - 7s 5ms/step - loss: 0.0409 - acc: 0.9875 - val_loss: 0.1102 - val_acc: 0.9706\n",
      "Epoch 9/10\n",
      "1313/1313 [==============================] - ETA: 0s - loss: 0.0373 - acc: 0.9880\n",
      "Epoch 00009: val_loss did not improve from 0.10654\n",
      "1313/1313 [==============================] - 7s 5ms/step - loss: 0.0373 - acc: 0.9880 - val_loss: 0.1232 - val_acc: 0.9673\n",
      "Epoch 10/10\n",
      "1313/1313 [==============================] - ETA: 0s - loss: 0.0312 - acc: 0.9905- ETA: 0s - loss: 0.0306 \n",
      "Epoch 00010: val_loss did not improve from 0.10654\n",
      "1313/1313 [==============================] - 7s 6ms/step - loss: 0.0312 - acc: 0.9905 - val_loss: 0.1144 - val_acc: 0.9697\n"
     ]
    },
    {
     "data": {
      "text/plain": [
       "<tensorflow.python.keras.callbacks.History at 0x24868973048>"
      ]
     },
     "execution_count": 2,
     "metadata": {},
     "output_type": "execute_result"
    }
   ],
   "source": [
    "from tensorflow.keras.callbacks import ModelCheckpoint\n",
    "\n",
    "filepath = './best_model.hdf5'\n",
    "\n",
    "# 6. 콜백 정의\n",
    "callbacks = [ModelCheckpoint(filepath = filepath, monitor = 'val_loss', verbose = 1,\n",
    "                           save_best_only = True)]\n",
    "\n",
    "# 7. 모델 학습, callbacks 인자를 통해 정의한 콜백을 전달\n",
    "model.fit(x_train, y_train,\n",
    "         batch_size = 32,\n",
    "         validation_data = (x_val, y_val),\n",
    "         epochs = 10,\n",
    "         callbacks = callbacks)"
   ]
  },
  {
   "cell_type": "markdown",
   "metadata": {},
   "source": [
    "## 2. MNIST 데이타셋에 케라스 EarlyStopping 콜백 사용하기"
   ]
  },
  {
   "cell_type": "markdown",
   "metadata": {},
   "source": [
    "### 1) 딥러닝 모델 설정"
   ]
  },
  {
   "cell_type": "code",
   "execution_count": 3,
   "metadata": {},
   "outputs": [],
   "source": [
    "import tensorflow as tf\n",
    "from tensorflow.keras.datasets.mnist import load_data\n",
    "\n",
    "from tensorflow.keras.models import Sequential\n",
    "from tensorflow.keras.layers import Dense\n",
    "from tensorflow.keras.utils import to_categorical\n",
    "\n",
    "from sklearn.model_selection import train_test_split\n",
    "tf.random.set_seed(777)\n",
    "\n",
    "# 1. 데이타 로드\n",
    "(x_train, y_train), (x_test, y_test) = load_data(path='mnist.npz')\n",
    "\n",
    "# 2. 검증 데이타 분할\n",
    "x_train, x_val, y_train, y_val = train_test_split(x_train, y_train, \n",
    "                                                  test_size = 0.3, \n",
    "                                                  random_state = 777)\n",
    "# 3. 피쳐 정규화/레이블 원-핫 인코딩\n",
    "num_x_train = x_train.shape[0]\n",
    "num_x_val = x_val.shape[0]\n",
    "num_x_test = x_test.shape[0]\n",
    "\n",
    "x_train = (x_train.reshape((num_x_train, 28 * 28))) / 255\n",
    "x_val = (x_val.reshape((num_x_val, 28 * 28))) / 255\n",
    "x_test = (x_test.reshape((num_x_test, 28 * 28))) / 255\n",
    "\n",
    "y_train = to_categorical(y_train)\n",
    "y_val = to_categorical(y_val)\n",
    "y_test = to_categorical(y_test)\n",
    "\n",
    "# 4. 딥러닝 모델 구성\n",
    "model = Sequential()\n",
    "model.add(Dense(64, activation = 'relu', input_shape = (784, )))\n",
    "model.add(Dense(32, activation = 'relu'))\n",
    "model.add(Dense(10, activation = 'softmax'))\n",
    "\n",
    "# 5. 컴파일 설정\n",
    "model.compile(optimizer='adam', \n",
    "              loss = 'categorical_crossentropy', \n",
    "              metrics=['acc'])\n"
   ]
  },
  {
   "cell_type": "markdown",
   "metadata": {},
   "source": [
    "### 2) EarlyStopping 콜백 사용하기"
   ]
  },
  {
   "cell_type": "code",
   "execution_count": 4,
   "metadata": {},
   "outputs": [
    {
     "name": "stdout",
     "output_type": "stream",
     "text": [
      "Epoch 1/30\n",
      "1313/1313 [==============================] - 7s 5ms/step - loss: 0.3412 - acc: 0.8979 - val_loss: 0.1880 - val_acc: 0.9456\n",
      "Epoch 2/30\n",
      "1313/1313 [==============================] - 8s 6ms/step - loss: 0.1518 - acc: 0.9546 - val_loss: 0.1414 - val_acc: 0.9601\n",
      "Epoch 3/30\n",
      "1313/1313 [==============================] - 6s 4ms/step - loss: 0.1097 - acc: 0.9677 - val_loss: 0.1373 - val_acc: 0.9605\n",
      "Epoch 4/30\n",
      "1313/1313 [==============================] - 6s 4ms/step - loss: 0.0874 - acc: 0.9734 - val_loss: 0.1098 - val_acc: 0.9681\n",
      "Epoch 5/30\n",
      "1313/1313 [==============================] - 6s 5ms/step - loss: 0.0713 - acc: 0.9780 - val_loss: 0.1218 - val_acc: 0.9640\n",
      "Epoch 6/30\n",
      "1313/1313 [==============================] - 8s 6ms/step - loss: 0.0595 - acc: 0.9815 - val_loss: 0.1080 - val_acc: 0.9688\n",
      "Epoch 7/30\n",
      "1313/1313 [==============================] - 8s 6ms/step - loss: 0.0520 - acc: 0.9840 - val_loss: 0.1065 - val_acc: 0.9698\n",
      "Epoch 8/30\n",
      "1313/1313 [==============================] - 7s 5ms/step - loss: 0.0409 - acc: 0.9875 - val_loss: 0.1102 - val_acc: 0.9706\n",
      "Epoch 9/30\n",
      "1313/1313 [==============================] - 8s 6ms/step - loss: 0.0373 - acc: 0.9880 - val_loss: 0.1232 - val_acc: 0.9673\n",
      "Epoch 10/30\n",
      "1313/1313 [==============================] - 7s 6ms/step - loss: 0.0312 - acc: 0.9905 - val_loss: 0.1144 - val_acc: 0.9697\n",
      "Epoch 00010: early stopping\n"
     ]
    },
    {
     "data": {
      "text/plain": [
       "<tensorflow.python.keras.callbacks.History at 0x24869018308>"
      ]
     },
     "execution_count": 4,
     "metadata": {},
     "output_type": "execute_result"
    }
   ],
   "source": [
    "from tensorflow.keras.callbacks import EarlyStopping\n",
    "\n",
    "# 6. 콜백 정의.\n",
    "callbacks = [EarlyStopping(monitor = 'val_loss', patience = 3, verbose = 1)]\n",
    "\n",
    "# 7. 모델 학습, callbacks 인자를 통해 정의한 콜백 전달\n",
    "model.fit(x_train, y_train,\n",
    "         batch_size = 32,\n",
    "         validation_data = (x_val, y_val),\n",
    "         epochs = 30,\n",
    "         callbacks = callbacks)"
   ]
  },
  {
   "cell_type": "markdown",
   "metadata": {},
   "source": [
    "## 3. MNIST 데이타셋에 케라스 ReduceROnPlateau 콜백 사용하기"
   ]
  },
  {
   "cell_type": "markdown",
   "metadata": {},
   "source": [
    "### 1) 딥러닝 모델 설정"
   ]
  },
  {
   "cell_type": "code",
   "execution_count": 5,
   "metadata": {},
   "outputs": [],
   "source": [
    "import tensorflow as tf\n",
    "from tensorflow.keras.datasets.mnist import load_data\n",
    "\n",
    "from tensorflow.keras.models import Sequential\n",
    "from tensorflow.keras.layers import Dense\n",
    "from tensorflow.keras.utils import to_categorical\n",
    "\n",
    "from sklearn.model_selection import train_test_split\n",
    "tf.random.set_seed(777)\n",
    "\n",
    "# 1. 데이타 로드\n",
    "(x_train, y_train), (x_test, y_test) = load_data(path='mnist.npz')\n",
    "\n",
    "# 2. 검증 데이타 분할\n",
    "x_train, x_val, y_train, y_val = train_test_split(x_train, y_train, \n",
    "                                                  test_size = 0.3, \n",
    "                                                  random_state = 777)\n",
    "# 3. 피쳐 정규화/레이블 원-핫 인코딩\n",
    "num_x_train = x_train.shape[0]\n",
    "num_x_val = x_val.shape[0]\n",
    "num_x_test = x_test.shape[0]\n",
    "\n",
    "x_train = (x_train.reshape((num_x_train, 28 * 28))) / 255\n",
    "x_val = (x_val.reshape((num_x_val, 28 * 28))) / 255\n",
    "x_test = (x_test.reshape((num_x_test, 28 * 28))) / 255\n",
    "\n",
    "y_train = to_categorical(y_train)\n",
    "y_val = to_categorical(y_val)\n",
    "y_test = to_categorical(y_test)\n",
    "\n",
    "# 4. 딥러닝 모델 구성\n",
    "model = Sequential()\n",
    "model.add(Dense(64, activation = 'relu', input_shape = (784, )))\n",
    "model.add(Dense(32, activation = 'relu'))\n",
    "model.add(Dense(10, activation = 'softmax'))\n",
    "\n",
    "# 5. 컴파일 설정\n",
    "model.compile(optimizer='adam', \n",
    "              loss = 'categorical_crossentropy', \n",
    "              metrics=['acc'])\n"
   ]
  },
  {
   "cell_type": "markdown",
   "metadata": {},
   "source": [
    "### 2) ReduceROnPlateau 콜백 사용하기"
   ]
  },
  {
   "cell_type": "code",
   "execution_count": 6,
   "metadata": {},
   "outputs": [
    {
     "name": "stdout",
     "output_type": "stream",
     "text": [
      "Epoch 1/50\n",
      "1313/1313 [==============================] - 6s 5ms/step - loss: 0.3412 - acc: 0.8979 - val_loss: 0.1880 - val_acc: 0.9456 - lr: 0.0010\n",
      "Epoch 2/50\n",
      "1313/1313 [==============================] - 7s 6ms/step - loss: 0.1518 - acc: 0.9546 - val_loss: 0.1414 - val_acc: 0.9601 - lr: 0.0010\n",
      "Epoch 3/50\n",
      "1313/1313 [==============================] - 8s 6ms/step - loss: 0.1097 - acc: 0.9677 - val_loss: 0.1373 - val_acc: 0.9605 - lr: 0.0010\n",
      "Epoch 4/50\n",
      "1313/1313 [==============================] - 7s 5ms/step - loss: 0.0874 - acc: 0.9734 - val_loss: 0.1098 - val_acc: 0.9681 - lr: 0.0010\n",
      "Epoch 5/50\n",
      "1313/1313 [==============================] - 8s 6ms/step - loss: 0.0713 - acc: 0.9780 - val_loss: 0.1218 - val_acc: 0.9640 - lr: 0.0010\n",
      "Epoch 6/50\n",
      "1313/1313 [==============================] - 7s 5ms/step - loss: 0.0595 - acc: 0.9815 - val_loss: 0.1080 - val_acc: 0.9688 - lr: 0.0010\n",
      "Epoch 7/50\n",
      "1313/1313 [==============================] - 7s 5ms/step - loss: 0.0520 - acc: 0.9840 - val_loss: 0.1065 - val_acc: 0.9698 - lr: 0.0010\n",
      "Epoch 8/50\n",
      "1313/1313 [==============================] - 7s 5ms/step - loss: 0.0409 - acc: 0.9875 - val_loss: 0.1102 - val_acc: 0.9706 - lr: 0.0010\n",
      "Epoch 9/50\n",
      "1313/1313 [==============================] - 7s 5ms/step - loss: 0.0373 - acc: 0.9880 - val_loss: 0.1232 - val_acc: 0.9673 - lr: 0.0010\n",
      "Epoch 10/50\n",
      "1300/1313 [============================>.] - ETA: 0s - loss: 0.0312 - acc: 0.9906\n",
      "Epoch 00010: ReduceLROnPlateau reducing learning rate to 0.00020000000949949026.\n",
      "1313/1313 [==============================] - 6s 5ms/step - loss: 0.0312 - acc: 0.9905 - val_loss: 0.1144 - val_acc: 0.9697 - lr: 0.0010\n",
      "Epoch 11/50\n",
      "1313/1313 [==============================] - 6s 5ms/step - loss: 0.0144 - acc: 0.9961 - val_loss: 0.1005 - val_acc: 0.9736 - lr: 2.0000e-04\n",
      "Epoch 12/50\n",
      "1313/1313 [==============================] - 5s 4ms/step - loss: 0.0101 - acc: 0.9981 - val_loss: 0.1018 - val_acc: 0.9743 - lr: 2.0000e-04\n",
      "Epoch 13/50\n",
      "1313/1313 [==============================] - 4s 3ms/step - loss: 0.0085 - acc: 0.9987 - val_loss: 0.1032 - val_acc: 0.9749 - lr: 2.0000e-045 - acc: 0.99\n",
      "Epoch 14/50\n",
      "1310/1313 [============================>.] - ETA: 0s - loss: 0.0078 - acc: 0.9989\n",
      "Epoch 00014: ReduceLROnPlateau reducing learning rate to 4.0000001899898055e-05.\n",
      "1313/1313 [==============================] - 5s 4ms/step - loss: 0.0078 - acc: 0.9989 - val_loss: 0.1031 - val_acc: 0.9748 - lr: 2.0000e-04\n",
      "Epoch 15/50\n",
      "1313/1313 [==============================] - 4s 3ms/step - loss: 0.0054 - acc: 0.9994 - val_loss: 0.1015 - val_acc: 0.9749 - lr: 4.0000e-05\n",
      "Epoch 16/50\n",
      "1313/1313 [==============================] - 4s 3ms/step - loss: 0.0050 - acc: 0.9994 - val_loss: 0.1021 - val_acc: 0.9747 - lr: 4.0000e-05\n",
      "Epoch 17/50\n",
      "1310/1313 [============================>.] - ETA: 0s - loss: 0.0047 - acc: 0.9995\n",
      "Epoch 00017: ReduceLROnPlateau reducing learning rate to 1e-05.\n",
      "1313/1313 [==============================] - 4s 3ms/step - loss: 0.0048 - acc: 0.9995 - val_loss: 0.1025 - val_acc: 0.9754 - lr: 4.0000e-05\n",
      "Epoch 18/50\n",
      "1313/1313 [==============================] - 5s 4ms/step - loss: 0.0044 - acc: 0.9995 - val_loss: 0.1027 - val_acc: 0.9753 - lr: 1.0000e-05\n",
      "Epoch 19/50\n",
      "1313/1313 [==============================] - 5s 4ms/step - loss: 0.0043 - acc: 0.9995 - val_loss: 0.1029 - val_acc: 0.9752 - lr: 1.0000e-05\n",
      "Epoch 20/50\n",
      "1313/1313 [==============================] - 6s 4ms/step - loss: 0.0042 - acc: 0.9996 - val_loss: 0.1030 - val_acc: 0.9751 - lr: 1.0000e-05\n",
      "Epoch 21/50\n",
      "1313/1313 [==============================] - 6s 4ms/step - loss: 0.0042 - acc: 0.9996 - val_loss: 0.1033 - val_acc: 0.9750 - lr: 1.0000e-05\n",
      "Epoch 22/50\n",
      "1313/1313 [==============================] - 6s 5ms/step - loss: 0.0041 - acc: 0.9996 - val_loss: 0.1030 - val_acc: 0.9752 - lr: 1.0000e-05\n",
      "Epoch 23/50\n",
      "1313/1313 [==============================] - 5s 3ms/step - loss: 0.0041 - acc: 0.9996 - val_loss: 0.1034 - val_acc: 0.9751 - lr: 1.0000e-05\n",
      "Epoch 24/50\n",
      "1313/1313 [==============================] - 6s 4ms/step - loss: 0.0040 - acc: 0.9996 - val_loss: 0.1036 - val_acc: 0.9751 - lr: 1.0000e-05\n",
      "Epoch 25/50\n",
      "1313/1313 [==============================] - 6s 5ms/step - loss: 0.0040 - acc: 0.9996 - val_loss: 0.1038 - val_acc: 0.9750 - lr: 1.0000e-05\n",
      "Epoch 26/50\n",
      "1313/1313 [==============================] - 6s 5ms/step - loss: 0.0039 - acc: 0.9996 - val_loss: 0.1038 - val_acc: 0.9750 - lr: 1.0000e-05\n",
      "Epoch 27/50\n",
      "1313/1313 [==============================] - 6s 5ms/step - loss: 0.0039 - acc: 0.9997 - val_loss: 0.1041 - val_acc: 0.9747 - lr: 1.0000e-05\n",
      "Epoch 28/50\n",
      "1313/1313 [==============================] - 7s 5ms/step - loss: 0.0038 - acc: 0.9996 - val_loss: 0.1043 - val_acc: 0.9751 - lr: 1.0000e-05\n",
      "Epoch 29/50\n",
      "1313/1313 [==============================] - 7s 5ms/step - loss: 0.0038 - acc: 0.9997 - val_loss: 0.1043 - val_acc: 0.9751 - lr: 1.0000e-05\n",
      "Epoch 30/50\n",
      "1313/1313 [==============================] - 7s 5ms/step - loss: 0.0037 - acc: 0.9997 - val_loss: 0.1044 - val_acc: 0.9753 - lr: 1.0000e-05\n",
      "Epoch 31/50\n",
      "1313/1313 [==============================] - 6s 4ms/step - loss: 0.0037 - acc: 0.9997 - val_loss: 0.1046 - val_acc: 0.9752 - lr: 1.0000e-05\n",
      "Epoch 32/50\n",
      "1313/1313 [==============================] - 7s 5ms/step - loss: 0.0036 - acc: 0.9998 - val_loss: 0.1047 - val_acc: 0.9751 - lr: 1.0000e-05\n",
      "Epoch 33/50\n",
      "1313/1313 [==============================] - 6s 4ms/step - loss: 0.0036 - acc: 0.9998 - val_loss: 0.1051 - val_acc: 0.9751 - lr: 1.0000e-05\n",
      "Epoch 34/50\n",
      "1313/1313 [==============================] - 6s 5ms/step - loss: 0.0036 - acc: 0.9998 - val_loss: 0.1051 - val_acc: 0.9749 - lr: 1.0000e-05\n",
      "Epoch 35/50\n",
      "1313/1313 [==============================] - 6s 5ms/step - loss: 0.0035 - acc: 0.9998 - val_loss: 0.1053 - val_acc: 0.9752 - lr: 1.0000e-05\n",
      "Epoch 36/50\n",
      "1313/1313 [==============================] - 6s 5ms/step - loss: 0.0035 - acc: 0.9998 - val_loss: 0.1055 - val_acc: 0.9752 - lr: 1.0000e-05\n",
      "Epoch 37/50\n",
      "1313/1313 [==============================] - 7s 5ms/step - loss: 0.0034 - acc: 0.9999 - val_loss: 0.1054 - val_acc: 0.9752 - lr: 1.0000e-05\n",
      "Epoch 38/50\n",
      "1313/1313 [==============================] - 6s 4ms/step - loss: 0.0034 - acc: 0.9999 - val_loss: 0.1057 - val_acc: 0.9751 - lr: 1.0000e-05\n",
      "Epoch 39/50\n",
      "1313/1313 [==============================] - 6s 5ms/step - loss: 0.0033 - acc: 0.9999 - val_loss: 0.1059 - val_acc: 0.9751 - lr: 1.0000e-05\n",
      "Epoch 40/50\n",
      "1313/1313 [==============================] - 5s 4ms/step - loss: 0.0033 - acc: 0.9999 - val_loss: 0.1061 - val_acc: 0.9750 - lr: 1.0000e-05\n",
      "Epoch 41/50\n",
      "1313/1313 [==============================] - 6s 5ms/step - loss: 0.0033 - acc: 0.9999 - val_loss: 0.1061 - val_acc: 0.9751 - lr: 1.0000e-05\n",
      "Epoch 42/50\n",
      "1313/1313 [==============================] - 6s 5ms/step - loss: 0.0032 - acc: 0.9999 - val_loss: 0.1065 - val_acc: 0.9753 - lr: 1.0000e-05\n",
      "Epoch 43/50\n",
      "1313/1313 [==============================] - 7s 5ms/step - loss: 0.0032 - acc: 0.9999 - val_loss: 0.1065 - val_acc: 0.9748 - lr: 1.0000e-05\n",
      "Epoch 44/50\n",
      "1313/1313 [==============================] - 6s 5ms/step - loss: 0.0032 - acc: 0.9999 - val_loss: 0.1066 - val_acc: 0.9753 - lr: 1.0000e-05\n",
      "Epoch 45/50\n",
      "1313/1313 [==============================] - 5s 4ms/step - loss: 0.0031 - acc: 0.9999 - val_loss: 0.1069 - val_acc: 0.9751 - lr: 1.0000e-05\n",
      "Epoch 46/50\n",
      "1313/1313 [==============================] - 6s 4ms/step - loss: 0.0031 - acc: 0.9999 - val_loss: 0.1070 - val_acc: 0.9752 - lr: 1.0000e-05\n",
      "Epoch 47/50\n",
      "1313/1313 [==============================] - 6s 5ms/step - loss: 0.0030 - acc: 0.9999 - val_loss: 0.1073 - val_acc: 0.9752 - lr: 1.0000e-05\n",
      "Epoch 48/50\n",
      "1313/1313 [==============================] - 6s 5ms/step - loss: 0.0030 - acc: 0.9999 - val_loss: 0.1074 - val_acc: 0.9751 - lr: 1.0000e-05\n",
      "Epoch 49/50\n",
      "1313/1313 [==============================] - 6s 5ms/step - loss: 0.0030 - acc: 0.9999 - val_loss: 0.1076 - val_acc: 0.9750 - lr: 1.0000e-05\n",
      "Epoch 50/50\n",
      "1313/1313 [==============================] - 6s 5ms/step - loss: 0.0029 - acc: 0.9999 - val_loss: 0.1076 - val_acc: 0.9749 - lr: 1.0000e-05\n"
     ]
    },
    {
     "data": {
      "text/plain": [
       "<tensorflow.python.keras.callbacks.History at 0x24815d60588>"
      ]
     },
     "execution_count": 6,
     "metadata": {},
     "output_type": "execute_result"
    }
   ],
   "source": [
    "from tensorflow.keras.callbacks import ReduceLROnPlateau\n",
    "\n",
    "# 6. 콜백을 정의합니다.\n",
    "callbacks = [ReduceLROnPlateau(monitor = 'val_loss', patience = 3, factor = 0.2, \n",
    "                               verbose = 1, min_lr = 1e-5)]\n",
    "\n",
    "# 7. 모델 학습, callbacks 인자를 통해 정의한 콜백을 전달\n",
    "model.fit(x_train, y_train,\n",
    "         batch_size = 32,\n",
    "         validation_data = (x_val, y_val),\n",
    "         epochs = 50,\n",
    "         callbacks = callbacks)"
   ]
  },
  {
   "cell_type": "markdown",
   "metadata": {},
   "source": [
    "## 4. MNIST 데이타셋에 케라스 TensorBoard 콜백 사용하기"
   ]
  },
  {
   "cell_type": "markdown",
   "metadata": {},
   "source": [
    "### 1) 딥러닝 모델 설정"
   ]
  },
  {
   "cell_type": "code",
   "execution_count": 7,
   "metadata": {},
   "outputs": [],
   "source": [
    "import tensorflow as tf\n",
    "from tensorflow.keras.datasets.mnist import load_data\n",
    "\n",
    "from tensorflow.keras.models import Sequential\n",
    "from tensorflow.keras.layers import Dense\n",
    "from tensorflow.keras.utils import to_categorical\n",
    "\n",
    "from sklearn.model_selection import train_test_split\n",
    "tf.random.set_seed(777)\n",
    "\n",
    "# 1. 데이타 로드\n",
    "(x_train, y_train), (x_test, y_test) = load_data(path='mnist.npz')\n",
    "\n",
    "# 2. 검증 데이타 분할\n",
    "x_train, x_val, y_train, y_val = train_test_split(x_train, y_train, \n",
    "                                                  test_size = 0.3, \n",
    "                                                  random_state = 777)\n",
    "# 3. 피쳐 정규화/레이블 원-핫 인코딩\n",
    "num_x_train = x_train.shape[0]\n",
    "num_x_val = x_val.shape[0]\n",
    "num_x_test = x_test.shape[0]\n",
    "\n",
    "x_train = (x_train.reshape((num_x_train, 28 * 28))) / 255\n",
    "x_val = (x_val.reshape((num_x_val, 28 * 28))) / 255\n",
    "x_test = (x_test.reshape((num_x_test, 28 * 28))) / 255\n",
    "\n",
    "y_train = to_categorical(y_train)\n",
    "y_val = to_categorical(y_val)\n",
    "y_test = to_categorical(y_test)\n",
    "\n",
    "# 4. 딥러닝 모델 구성\n",
    "model = Sequential()\n",
    "model.add(Dense(64, activation = 'relu', input_shape = (784, )))\n",
    "model.add(Dense(32, activation = 'relu'))\n",
    "model.add(Dense(10, activation = 'softmax'))\n",
    "\n",
    "# 5. 컴파일 설정\n",
    "model.compile(optimizer='adam', \n",
    "              loss = 'categorical_crossentropy', \n",
    "              metrics=['acc'])\n"
   ]
  },
  {
   "cell_type": "markdown",
   "metadata": {},
   "source": [
    "### 2) TensorBoard 콜백 사용하기"
   ]
  },
  {
   "cell_type": "code",
   "execution_count": 8,
   "metadata": {},
   "outputs": [
    {
     "name": "stdout",
     "output_type": "stream",
     "text": [
      "Epoch 1/30\n",
      "1313/1313 [==============================] - 8s 6ms/step - loss: 0.3412 - acc: 0.8979 - val_loss: 0.1880 - val_acc: 0.9456\n",
      "Epoch 2/30\n",
      "1313/1313 [==============================] - 8s 6ms/step - loss: 0.1518 - acc: 0.9546 - val_loss: 0.1414 - val_acc: 0.9601\n",
      "Epoch 3/30\n",
      "1313/1313 [==============================] - 8s 6ms/step - loss: 0.1097 - acc: 0.9677 - val_loss: 0.1373 - val_acc: 0.9605\n",
      "Epoch 4/30\n",
      "1313/1313 [==============================] - 7s 5ms/step - loss: 0.0874 - acc: 0.9734 - val_loss: 0.1098 - val_acc: 0.9681\n",
      "Epoch 5/30\n",
      "1313/1313 [==============================] - 9s 7ms/step - loss: 0.0713 - acc: 0.9780 - val_loss: 0.1218 - val_acc: 0.9640\n",
      "Epoch 6/30\n",
      "1313/1313 [==============================] - 9s 7ms/step - loss: 0.0595 - acc: 0.9815 - val_loss: 0.1080 - val_acc: 0.9688\n",
      "Epoch 7/30\n",
      "1313/1313 [==============================] - 8s 6ms/step - loss: 0.0520 - acc: 0.9840 - val_loss: 0.1065 - val_acc: 0.9698\n",
      "Epoch 8/30\n",
      "1313/1313 [==============================] - 10s 7ms/step - loss: 0.0409 - acc: 0.9875 - val_loss: 0.1102 - val_acc: 0.9706\n",
      "Epoch 9/30\n",
      "1313/1313 [==============================] - 8s 6ms/step - loss: 0.0373 - acc: 0.9880 - val_loss: 0.1232 - val_acc: 0.9673\n",
      "Epoch 10/30\n",
      "1313/1313 [==============================] - 8s 6ms/step - loss: 0.0312 - acc: 0.9905 - val_loss: 0.1144 - val_acc: 0.9697\n",
      "Epoch 11/30\n",
      "1313/1313 [==============================] - 8s 6ms/step - loss: 0.0297 - acc: 0.9903 - val_loss: 0.1173 - val_acc: 0.9709\n",
      "Epoch 12/30\n",
      "1313/1313 [==============================] - 9s 7ms/step - loss: 0.0255 - acc: 0.9918 - val_loss: 0.1305 - val_acc: 0.9686\n",
      "Epoch 13/30\n",
      "1313/1313 [==============================] - 8s 6ms/step - loss: 0.0229 - acc: 0.9923 - val_loss: 0.1261 - val_acc: 0.9697\n",
      "Epoch 14/30\n",
      "1313/1313 [==============================] - 8s 6ms/step - loss: 0.0210 - acc: 0.9931 - val_loss: 0.1320 - val_acc: 0.9710\n",
      "Epoch 15/30\n",
      "1313/1313 [==============================] - 8s 6ms/step - loss: 0.0185 - acc: 0.9937 - val_loss: 0.1374 - val_acc: 0.9710\n",
      "Epoch 16/30\n",
      "1313/1313 [==============================] - 9s 7ms/step - loss: 0.0169 - acc: 0.9941 - val_loss: 0.1368 - val_acc: 0.9706\n",
      "Epoch 17/30\n",
      "1313/1313 [==============================] - 8s 6ms/step - loss: 0.0138 - acc: 0.9953 - val_loss: 0.1379 - val_acc: 0.9717\n",
      "Epoch 18/30\n",
      "1313/1313 [==============================] - 8s 6ms/step - loss: 0.0153 - acc: 0.9950 - val_loss: 0.1343 - val_acc: 0.9714\n",
      "Epoch 19/30\n",
      "1313/1313 [==============================] - 8s 6ms/step - loss: 0.0128 - acc: 0.9957 - val_loss: 0.1470 - val_acc: 0.9716\n",
      "Epoch 20/30\n",
      "1313/1313 [==============================] - 8s 6ms/step - loss: 0.0148 - acc: 0.9952 - val_loss: 0.1720 - val_acc: 0.9672\n",
      "Epoch 21/30\n",
      "1313/1313 [==============================] - 8s 6ms/step - loss: 0.0120 - acc: 0.9960 - val_loss: 0.1429 - val_acc: 0.9732\n",
      "Epoch 22/30\n",
      "1313/1313 [==============================] - 7s 6ms/step - loss: 0.0120 - acc: 0.9956 - val_loss: 0.1589 - val_acc: 0.9707\n",
      "Epoch 23/30\n",
      "1313/1313 [==============================] - 8s 6ms/step - loss: 0.0127 - acc: 0.9957 - val_loss: 0.1704 - val_acc: 0.9684\n",
      "Epoch 24/30\n",
      "1313/1313 [==============================] - 8s 6ms/step - loss: 0.0067 - acc: 0.9978 - val_loss: 0.1729 - val_acc: 0.9706\n",
      "Epoch 25/30\n",
      "1313/1313 [==============================] - 8s 6ms/step - loss: 0.0117 - acc: 0.9958 - val_loss: 0.1764 - val_acc: 0.9714\n",
      "Epoch 26/30\n",
      "1313/1313 [==============================] - 8s 6ms/step - loss: 0.0084 - acc: 0.9973 - val_loss: 0.1709 - val_acc: 0.9703\n",
      "Epoch 27/30\n",
      "1313/1313 [==============================] - 8s 6ms/step - loss: 0.0126 - acc: 0.9957 - val_loss: 0.1878 - val_acc: 0.9669\n",
      "Epoch 28/30\n",
      "1313/1313 [==============================] - 8s 6ms/step - loss: 0.0086 - acc: 0.9972 - val_loss: 0.1701 - val_acc: 0.9718\n",
      "Epoch 29/30\n",
      "1313/1313 [==============================] - 8s 6ms/step - loss: 0.0078 - acc: 0.9976 - val_loss: 0.1859 - val_acc: 0.9696\n",
      "Epoch 30/30\n",
      "1313/1313 [==============================] - 8s 6ms/step - loss: 0.0088 - acc: 0.9970 - val_loss: 0.1901 - val_acc: 0.9698\n"
     ]
    },
    {
     "data": {
      "text/plain": [
       "<tensorflow.python.keras.callbacks.History at 0x24868dbf888>"
      ]
     },
     "execution_count": 8,
     "metadata": {},
     "output_type": "execute_result"
    }
   ],
   "source": [
    "from tensorflow.keras.callbacks import TensorBoard\n",
    "\n",
    "logdir = './logs'\n",
    "\n",
    "# 6. 콜백을 정의합니다.\n",
    "callbacks = [TensorBoard(log_dir = logdir, histogram_freq = 1, \n",
    "                        write_graph = True, write_images = True)]\n",
    "\n",
    "# 7. 모델 학습, callbacks 인자를 통해 정의한 콜백을 전달\n",
    "model.fit(x_train, y_train,\n",
    "         batch_size = 32,\n",
    "         validation_data = (x_val, y_val),\n",
    "         epochs = 30,\n",
    "         callbacks = callbacks)"
   ]
  },
  {
   "cell_type": "markdown",
   "metadata": {},
   "source": [
    "### 3) Tensorboard 실행-1"
   ]
  },
  {
   "cell_type": "code",
   "execution_count": 9,
   "metadata": {},
   "outputs": [],
   "source": [
    "# !tensorboard --logdir ./logs"
   ]
  },
  {
   "cell_type": "markdown",
   "metadata": {},
   "source": [
    "- 명령프로프트의 마지막 줄에 있는 http://localhost:6006 주소로 접속\n",
    "- 첫 페이지는 학습 및 검증 데이터의 평가지표 및 손실을 볼 수 있다.\n",
    "- IMAGES와 HISTOGRAMS 탭에서는 각각 모델이 포함하고 있는 활성화 층에 대한 이미지 형태와 히스토그램 형태의 그래프를 보여준다."
   ]
  },
  {
   "cell_type": "markdown",
   "metadata": {},
   "source": [
    "### 4) Tensorboard 실행-2"
   ]
  },
  {
   "cell_type": "code",
   "execution_count": null,
   "metadata": {},
   "outputs": [],
   "source": [
    "# !tensorboard dev upload --logdir ./logs/ --name \"My test\" --description \"This is my first tensorboard\""
   ]
  },
  {
   "cell_type": "code",
   "execution_count": null,
   "metadata": {},
   "outputs": [],
   "source": []
  }
 ],
 "metadata": {
  "kernelspec": {
   "display_name": "Python 3 (ipykernel)",
   "language": "python",
   "name": "python3"
  },
  "language_info": {
   "codemirror_mode": {
    "name": "ipython",
    "version": 3
   },
   "file_extension": ".py",
   "mimetype": "text/x-python",
   "name": "python",
   "nbconvert_exporter": "python",
   "pygments_lexer": "ipython3",
   "version": "3.7.6"
  }
 },
 "nbformat": 4,
 "nbformat_minor": 2
}
