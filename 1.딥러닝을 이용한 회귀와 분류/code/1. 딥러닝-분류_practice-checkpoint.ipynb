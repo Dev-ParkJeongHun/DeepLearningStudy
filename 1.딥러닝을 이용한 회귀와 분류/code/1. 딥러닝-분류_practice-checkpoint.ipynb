{
 "cells": [
  {
   "cell_type": "markdown",
   "metadata": {},
   "source": [
    "# 딥러닝 - 분류"
   ]
  },
  {
   "cell_type": "markdown",
   "metadata": {},
   "source": [
    "### 아이리스 품종 예측  \n",
    "- 데이타 셋 : ./dataset/iris.csv<br>\n",
    "<img src=\"./img/iris_data.PNG\" align=left width=600>"
   ]
  },
  {
   "cell_type": "markdown",
   "metadata": {},
   "source": [
    "- 아이리스는 꽃잎의 모양과 길이에 따라 여러 가지 품종으로 나뉨\n",
    "- 딥러닝을 사용하여 아이리스의 품종을 구별해 낼 수 있을까?\n",
    "- 아이리스 품종이 3개의 품종으로 구분되야 하므로 이항 분류가 아니라 다중 분류 사용"
   ]
  },
  {
   "cell_type": "markdown",
   "metadata": {},
   "source": [
    "### 아이리스 데이타 셋\n",
    "<img src=\"./img/iris_dataset.PNG\" align=left width=600>\n",
    "<img src=\"./img/iris_dataset2.PNG\" align=left width=500>"
   ]
  },
  {
   "cell_type": "markdown",
   "metadata": {},
   "source": [
    "### 이항 분류와 다중 분류\n",
    "- 여러 개의 답 중 하나를 고르는 분류 문제를 다중 분류(multi classification) 라고 함\n",
    "- 다중 분류 문제는 둘 중에 하나를 고르는 이항 분류(binary classification)와는 접근 방식이 조금 다름"
   ]
  },
  {
   "cell_type": "markdown",
   "metadata": {},
   "source": [
    "### 데이타 불러오기 "
   ]
  },
  {
   "cell_type": "code",
   "execution_count": null,
   "metadata": {},
   "outputs": [],
   "source": [
    "import pandas as pd\n",
    "\n",
    "df = pd.read_csv('./dataset/iris.csv', \n",
    "                 names = [\"sepal_length\", \"sepal_width\", \n",
    "                          \"petal_length\", \"petal_width\", \"species\"])"
   ]
  },
  {
   "cell_type": "code",
   "execution_count": null,
   "metadata": {},
   "outputs": [],
   "source": [
    "df.tail(5)"
   ]
  },
  {
   "cell_type": "code",
   "execution_count": null,
   "metadata": {},
   "outputs": [],
   "source": [
    "df.info()"
   ]
  },
  {
   "cell_type": "code",
   "execution_count": null,
   "metadata": {},
   "outputs": [],
   "source": [
    "df.describe()"
   ]
  },
  {
   "cell_type": "markdown",
   "metadata": {},
   "source": [
    "### 데이타 시각화 \n",
    "- pairplot() : 상관도 그래프\n",
    "- 꽃잎과 꽃받침의 크기와 너비가 품종별로 차이가 있음을 확인"
   ]
  },
  {
   "cell_type": "code",
   "execution_count": null,
   "metadata": {},
   "outputs": [],
   "source": [
    "import seaborn as sns\n",
    "import matplotlib.pyplot as plt\n",
    "\n",
    "sns.pairplot(df, hue='species');\n",
    "plt.show()"
   ]
  },
  {
   "cell_type": "markdown",
   "metadata": {},
   "source": [
    "### 케라스를 이용하여 아이리스 품종 예측"
   ]
  },
  {
   "cell_type": "markdown",
   "metadata": {},
   "source": [
    "### pandas를 이용하여 속성과 클래스 구분\n",
    "- 데이타 안에 문자열이 포함('Iris-setosa', 'Iris-versicolor', 'Iris-virginica' 등)되어 있으면 numpy보다 pandas에서 처리가 바람직 "
   ]
  },
  {
   "cell_type": "code",
   "execution_count": null,
   "metadata": {},
   "outputs": [],
   "source": [
    "import pandas as pd\n",
    "\n",
    "df = pd.read_csv('./dataset/iris.csv', \n",
    "                 names = [\"sepal_length\", \"sepal_width\", \n",
    "                          \"petal_length\", \"petal_width\", \"species\"])\n",
    "\n",
    "dataset = df.values\n"
   ]
  },
  {
   "cell_type": "markdown",
   "metadata": {},
   "source": [
    "### 클래스의 문자열을 원핫 인코딩(one-hot encoding)을 이용하여 변환\n",
    "- 1) sklearn 라이브러리의 LabelEncoder() : 문자열을 숫자로 변환\n",
    "- 2) keras.util의 np_utils.categorical() : 숫자를 0과 1로만 이루어진 형태로 바꿔주는 함수 "
   ]
  },
  {
   "cell_type": "code",
   "execution_count": null,
   "metadata": {},
   "outputs": [],
   "source": [
    "# 문자열을 숫자로 변환\n",
    "\n",
    "\n",
    "# 1) sklearn 라이브러리의 LabelEncoder() \n",
    "\n",
    "\n",
    "# 2) keras.util의 np_utils.categorical() 함수\n"
   ]
  },
  {
   "cell_type": "code",
   "execution_count": null,
   "metadata": {},
   "outputs": [],
   "source": []
  },
  {
   "cell_type": "code",
   "execution_count": null,
   "metadata": {},
   "outputs": [],
   "source": []
  },
  {
   "cell_type": "markdown",
   "metadata": {},
   "source": [
    "### 모델의 설정\n",
    "- 최종 출력 값이 3개 중 하나여야 하므로 출력층에 해당하는 Dense의 노드 수를 3으로 설정함\n",
    "- 활성화 함수로 소프트맥스(softmax)를 사용"
   ]
  },
  {
   "cell_type": "code",
   "execution_count": null,
   "metadata": {},
   "outputs": [],
   "source": [
    "# 모델의 설정\n",
    "\n",
    "\n"
   ]
  },
  {
   "cell_type": "markdown",
   "metadata": {},
   "source": [
    "### 소프트맥스(softmax) 활성화 함수\n",
    "<img src=\"./img/softmax.PNG\" width=500 align=left>"
   ]
  },
  {
   "cell_type": "markdown",
   "metadata": {},
   "source": [
    "### 컴파일 및 실행\n",
    "- 다중 분류에 적절한 오차 함수인 categorical_crossentropy를 사용\n",
    "- 최적화 함수로 adam 사용\n",
    "- 전체 샘플이 50회 반복될 때까지 실험을 진행하되 한 번에 입력되는 값은 1개"
   ]
  },
  {
   "cell_type": "code",
   "execution_count": null,
   "metadata": {},
   "outputs": [],
   "source": [
    "# 모델 컴파일\n",
    "\n",
    "\n",
    "# 모델 실행\n",
    "\n",
    "\n",
    "# 결과 출력\n"
   ]
  },
  {
   "cell_type": "markdown",
   "metadata": {},
   "source": [
    "### 결과 해석\n",
    "- 예측 정확도가 97.33%로 측정됨\n",
    "- 150개의 샘플을 한 번씩 테스트한 결과 146개의 품종을 정확히 맞추는 확률"
   ]
  },
  {
   "cell_type": "code",
   "execution_count": null,
   "metadata": {},
   "outputs": [],
   "source": []
  },
  {
   "cell_type": "markdown",
   "metadata": {},
   "source": [
    "### 전체 소스 코드"
   ]
  },
  {
   "cell_type": "code",
   "execution_count": null,
   "metadata": {},
   "outputs": [],
   "source": []
  },
  {
   "cell_type": "code",
   "execution_count": null,
   "metadata": {},
   "outputs": [],
   "source": []
  },
  {
   "cell_type": "code",
   "execution_count": null,
   "metadata": {},
   "outputs": [],
   "source": []
  }
 ],
 "metadata": {
  "kernelspec": {
   "display_name": "Python 3 (ipykernel)",
   "language": "python",
   "name": "python3"
  },
  "language_info": {
   "codemirror_mode": {
    "name": "ipython",
    "version": 3
   },
   "file_extension": ".py",
   "mimetype": "text/x-python",
   "name": "python",
   "nbconvert_exporter": "python",
   "pygments_lexer": "ipython3",
   "version": "3.7.6"
  }
 },
 "nbformat": 4,
 "nbformat_minor": 4
}
