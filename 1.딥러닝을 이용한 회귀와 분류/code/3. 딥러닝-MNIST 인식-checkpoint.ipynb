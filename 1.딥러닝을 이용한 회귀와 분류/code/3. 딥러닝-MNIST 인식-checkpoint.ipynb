{
 "cells": [
  {
   "cell_type": "markdown",
   "metadata": {},
   "source": [
    "# 딥러닝으로 MNIST 손글씨 인식하기 "
   ]
  },
  {
   "cell_type": "markdown",
   "metadata": {},
   "source": [
    "## MNIST 손글씨 데이타 세트"
   ]
  },
  {
   "cell_type": "markdown",
   "metadata": {},
   "source": [
    "<img src=\"./img/mnist_data.png\" align=left width=500>"
   ]
  },
  {
   "cell_type": "markdown",
   "metadata": {},
   "source": [
    "- MNIST 데이터셋은 미국 국립표준기술원(NIST)이 고등학생과 인구조사국 직원등이 \n",
    "     - 쓴 손글씨를 이용해 만든 데이터로 구성\n",
    "- 70,000개의 28*28 글자 이미지에 각각 0부터 9까지 이름표를 붙인 데이터셋\n",
    "    - 60,000개의 학습 데이타셋, 10,000개의 테스트 데이타셋으로 구성\n",
    "- 머신러닝을 배우는 사람이라면 자신의 알고리즘과 다른 알고리즘의 성과를 비교해 보고자 \n",
    "     - 한 번씩 도전해 보는 가장 유명한 데이터 중 하나"
   ]
  },
  {
   "cell_type": "markdown",
   "metadata": {},
   "source": [
    "### 1. MNIST 데이터셋 다운로드"
   ]
  },
  {
   "cell_type": "code",
   "execution_count": 2,
   "metadata": {},
   "outputs": [],
   "source": [
    "from tensorflow.keras.datasets.mnist import load_data\n",
    "\n",
    "# 텐서플로우 저장소에서 데이터를 다운 받기\n",
    "(x_train, y_train), (x_test, y_test) = load_data(path='mnist.npz')"
   ]
  },
  {
   "cell_type": "markdown",
   "metadata": {},
   "source": [
    "### 1) 데이터의 형태 확인하기"
   ]
  },
  {
   "cell_type": "code",
   "execution_count": 3,
   "metadata": {
    "scrolled": true
   },
   "outputs": [
    {
     "name": "stdout",
     "output_type": "stream",
     "text": [
      "(60000, 28, 28) (60000,)\n",
      "(10000, 28, 28) (10000,)\n"
     ]
    }
   ],
   "source": [
    "# 학습 데이타, 테스트 데이터 확인하기\n",
    "print(x_train.shape, y_train.shape)\n",
    "print(x_test.shape, y_test.shape)"
   ]
  },
  {
   "cell_type": "code",
   "execution_count": 9,
   "metadata": {},
   "outputs": [
    {
     "data": {
      "text/plain": [
       "(28, 28)"
      ]
     },
     "execution_count": 9,
     "metadata": {},
     "output_type": "execute_result"
    }
   ],
   "source": [
    "x_train[0].shape"
   ]
  },
  {
   "cell_type": "code",
   "execution_count": 10,
   "metadata": {},
   "outputs": [
    {
     "data": {
      "text/plain": [
       "2"
      ]
     },
     "execution_count": 10,
     "metadata": {},
     "output_type": "execute_result"
    }
   ],
   "source": [
    "y_train[0]"
   ]
  },
  {
   "cell_type": "markdown",
   "metadata": {},
   "source": [
    "### 2) 데이터 그려보기"
   ]
  },
  {
   "cell_type": "code",
   "execution_count": 4,
   "metadata": {},
   "outputs": [
    {
     "name": "stdout",
     "output_type": "stream",
     "text": [
      "[47919 15931 52134]\n"
     ]
    },
    {
     "data": {
      "image/png": "[encoded data removed]",
      "text/plain": [
       "<Figure size 432x288 with 1 Axes>"
      ]
     },
     "metadata": {
      "needs_background": "light"
     },
     "output_type": "display_data"
    },
    {
     "data": {
      "image/png": "[encoded data removed]",
      "text/plain": [
       "<Figure size 432x288 with 1 Axes>"
      ]
     },
     "metadata": {
      "needs_background": "light"
     },
     "output_type": "display_data"
    },
    {
     "data": {
      "image/png": "[encoded data removed]",
      "text/plain": [
       "<Figure size 432x288 with 1 Axes>"
      ]
     },
     "metadata": {
      "needs_background": "light"
     },
     "output_type": "display_data"
    }
   ],
   "source": [
    "import matplotlib.pyplot as plt\n",
    "import numpy as np\n",
    "np.random.seed(777)\n",
    "\n",
    "sample_size = 3\n",
    "# 0~59999의 범위에서 무작위로 3개의 정수를 뽑아서 해당 그림 확인\n",
    "random_idx = np.random.randint(60000, size = sample_size)\n",
    "print(random_idx)\n",
    "\n",
    "for idx in random_idx:\n",
    "    img = x_train[idx, :]\n",
    "    label = y_train[idx]\n",
    "    plt.figure()\n",
    "    plt.imshow(img)\n",
    "    plt.title('%d-th data, label is %d' % (idx,label), fontsize = 15)"
   ]
  },
  {
   "cell_type": "markdown",
   "metadata": {},
   "source": [
    "- cmap = 'Greys' 옵션을 지정해 흑백으로 출력"
   ]
  },
  {
   "cell_type": "code",
   "execution_count": 5,
   "metadata": {},
   "outputs": [
    {
     "data": {
      "image/png": "[encoded data removed]",
      "text/plain": [
       "<Figure size 432x288 with 1 Axes>"
      ]
     },
     "metadata": {
      "needs_background": "light"
     },
     "output_type": "display_data"
    }
   ],
   "source": [
    "# 그래프로 확인 - 흑백\n",
    "import matplotlib.pyplot as plt\n",
    "\n",
    "plt.imshow(x_train[0], cmap='Greys') # 흑백 출력\n",
    "plt.title('Label is %d' % (y_train[0]), fontsize=15)\n",
    "plt.show()"
   ]
  },
  {
   "cell_type": "markdown",
   "metadata": {},
   "source": [
    "- 코드로 이미지 확인하기\n",
    "    - 이미지는 가로 28 × 세로 28 = 총 784개의 픽셀로 이루어져 있음\n",
    "    - 각 픽셀은 밝기 정도에 따라 0부터 255까지 의 등급을 매김\n",
    "    - 흰색 배경이 0, 글씨가 들어간 곳은 0~255까지 숫자 중 하나로 채워져 긴 행렬로 이루어진 하나의 집합으로 변환"
   ]
  },
  {
   "cell_type": "code",
   "execution_count": 6,
   "metadata": {},
   "outputs": [
    {
     "name": "stdout",
     "output_type": "stream",
     "text": [
      "0\t0\t0\t0\t0\t0\t0\t0\t0\t0\t0\t0\t0\t0\t0\t0\t0\t0\t0\t0\t0\t0\t0\t0\t0\t0\t0\t0\t\n",
      "0\t0\t0\t0\t0\t0\t0\t0\t0\t0\t0\t0\t0\t0\t0\t0\t0\t0\t0\t0\t0\t0\t0\t0\t0\t0\t0\t0\t\n",
      "0\t0\t0\t0\t0\t0\t0\t0\t0\t0\t0\t0\t0\t0\t0\t0\t0\t0\t0\t0\t0\t0\t0\t0\t0\t0\t0\t0\t\n",
      "0\t0\t0\t0\t0\t0\t0\t0\t0\t0\t0\t0\t0\t0\t0\t0\t0\t0\t0\t0\t0\t0\t0\t0\t0\t0\t0\t0\t\n",
      "0\t0\t0\t0\t0\t0\t0\t0\t0\t0\t0\t0\t0\t0\t0\t0\t0\t0\t0\t0\t0\t0\t0\t0\t0\t0\t0\t0\t\n",
      "0\t0\t0\t0\t0\t0\t0\t0\t0\t0\t0\t0\t3\t18\t18\t18\t126\t136\t175\t26\t166\t255\t247\t127\t0\t0\t0\t0\t\n",
      "0\t0\t0\t0\t0\t0\t0\t0\t30\t36\t94\t154\t170\t253\t253\t253\t253\t253\t225\t172\t253\t242\t195\t64\t0\t0\t0\t0\t\n",
      "0\t0\t0\t0\t0\t0\t0\t49\t238\t253\t253\t253\t253\t253\t253\t253\t253\t251\t93\t82\t82\t56\t39\t0\t0\t0\t0\t0\t\n",
      "0\t0\t0\t0\t0\t0\t0\t18\t219\t253\t253\t253\t253\t253\t198\t182\t247\t241\t0\t0\t0\t0\t0\t0\t0\t0\t0\t0\t\n",
      "0\t0\t0\t0\t0\t0\t0\t0\t80\t156\t107\t253\t253\t205\t11\t0\t43\t154\t0\t0\t0\t0\t0\t0\t0\t0\t0\t0\t\n",
      "0\t0\t0\t0\t0\t0\t0\t0\t0\t14\t1\t154\t253\t90\t0\t0\t0\t0\t0\t0\t0\t0\t0\t0\t0\t0\t0\t0\t\n",
      "0\t0\t0\t0\t0\t0\t0\t0\t0\t0\t0\t139\t253\t190\t2\t0\t0\t0\t0\t0\t0\t0\t0\t0\t0\t0\t0\t0\t\n",
      "0\t0\t0\t0\t0\t0\t0\t0\t0\t0\t0\t11\t190\t253\t70\t0\t0\t0\t0\t0\t0\t0\t0\t0\t0\t0\t0\t0\t\n",
      "0\t0\t0\t0\t0\t0\t0\t0\t0\t0\t0\t0\t35\t241\t225\t160\t108\t1\t0\t0\t0\t0\t0\t0\t0\t0\t0\t0\t\n",
      "0\t0\t0\t0\t0\t0\t0\t0\t0\t0\t0\t0\t0\t81\t240\t253\t253\t119\t25\t0\t0\t0\t0\t0\t0\t0\t0\t0\t\n",
      "0\t0\t0\t0\t0\t0\t0\t0\t0\t0\t0\t0\t0\t0\t45\t186\t253\t253\t150\t27\t0\t0\t0\t0\t0\t0\t0\t0\t\n",
      "0\t0\t0\t0\t0\t0\t0\t0\t0\t0\t0\t0\t0\t0\t0\t16\t93\t252\t253\t187\t0\t0\t0\t0\t0\t0\t0\t0\t\n",
      "0\t0\t0\t0\t0\t0\t0\t0\t0\t0\t0\t0\t0\t0\t0\t0\t0\t249\t253\t249\t64\t0\t0\t0\t0\t0\t0\t0\t\n",
      "0\t0\t0\t0\t0\t0\t0\t0\t0\t0\t0\t0\t0\t0\t46\t130\t183\t253\t253\t207\t2\t0\t0\t0\t0\t0\t0\t0\t\n",
      "0\t0\t0\t0\t0\t0\t0\t0\t0\t0\t0\t0\t39\t148\t229\t253\t253\t253\t250\t182\t0\t0\t0\t0\t0\t0\t0\t0\t\n",
      "0\t0\t0\t0\t0\t0\t0\t0\t0\t0\t24\t114\t221\t253\t253\t253\t253\t201\t78\t0\t0\t0\t0\t0\t0\t0\t0\t0\t\n",
      "0\t0\t0\t0\t0\t0\t0\t0\t23\t66\t213\t253\t253\t253\t253\t198\t81\t2\t0\t0\t0\t0\t0\t0\t0\t0\t0\t0\t\n",
      "0\t0\t0\t0\t0\t0\t18\t171\t219\t253\t253\t253\t253\t195\t80\t9\t0\t0\t0\t0\t0\t0\t0\t0\t0\t0\t0\t0\t\n",
      "0\t0\t0\t0\t55\t172\t226\t253\t253\t253\t253\t244\t133\t11\t0\t0\t0\t0\t0\t0\t0\t0\t0\t0\t0\t0\t0\t0\t\n",
      "0\t0\t0\t0\t136\t253\t253\t253\t212\t135\t132\t16\t0\t0\t0\t0\t0\t0\t0\t0\t0\t0\t0\t0\t0\t0\t0\t0\t\n",
      "0\t0\t0\t0\t0\t0\t0\t0\t0\t0\t0\t0\t0\t0\t0\t0\t0\t0\t0\t0\t0\t0\t0\t0\t0\t0\t0\t0\t\n",
      "0\t0\t0\t0\t0\t0\t0\t0\t0\t0\t0\t0\t0\t0\t0\t0\t0\t0\t0\t0\t0\t0\t0\t0\t0\t0\t0\t0\t\n",
      "0\t0\t0\t0\t0\t0\t0\t0\t0\t0\t0\t0\t0\t0\t0\t0\t0\t0\t0\t0\t0\t0\t0\t0\t0\t0\t0\t0\t\n"
     ]
    }
   ],
   "source": [
    "# 코드로 확인\n",
    "import sys\n",
    "\n",
    "for x in x_train[0]:\n",
    "    for i in x:\n",
    "        sys.stdout.write('%d\\t' % i)\n",
    "    sys.stdout.write('\\n')"
   ]
  },
  {
   "cell_type": "markdown",
   "metadata": {},
   "source": [
    "### 2. 검증 데이터셋 만들기\n",
    "- 학습 데이타셋을 학습 데이타셋과 검증 데이타셋으로 분리"
   ]
  },
  {
   "cell_type": "code",
   "execution_count": 22,
   "metadata": {},
   "outputs": [
    {
     "name": "stdout",
     "output_type": "stream",
     "text": [
      "학습 데이터:(42000, 28, 28), 레이블:(42000,)\n",
      "검증 데이터:(18000, 28, 28), 레이블:(18000,)\n",
      "테스트 데이터:(10000, 28, 28), 레이블:(10000,)\n"
     ]
    }
   ],
   "source": [
    "from sklearn.model_selection import train_test_split\n",
    "\n",
    "# 학습/검증 데이터셋을 0.7/0.3의 비율로 분리합니다.\n",
    "x_train, x_val, y_train, y_val = train_test_split(x_train, y_train, \n",
    "                                                  test_size = 0.3, \n",
    "                                                  random_state = 777)\n",
    "\n",
    "print(f'학습 데이터:{x_train.shape}, 레이블:{y_train.shape}')\n",
    "print(f'검증 데이터:{x_val.shape}, 레이블:{y_val.shape}')\n",
    "print(f'테스트 데이터:{x_test.shape}, 레이블:{y_test.shape}')"
   ]
  },
  {
   "cell_type": "markdown",
   "metadata": {},
   "source": [
    "### 3. 모델 입력을 위한 피쳐 데이터 전처리\n",
    "- 피쳐 데이타 전처리 - 정규화 이용\n",
    "- 2차원 이미지 데이타 -> 1차원으로 변경((28, 28) -> 784) -> RGB(0~ 255)의 최대값인 255로 나눈다."
   ]
  },
  {
   "cell_type": "code",
   "execution_count": 23,
   "metadata": {},
   "outputs": [
    {
     "name": "stdout",
     "output_type": "stream",
     "text": [
      "(42000, 784)\n",
      "(18000, 784)\n",
      "(10000, 784)\n"
     ]
    }
   ],
   "source": [
    "num_x_train = x_train.shape[0]\n",
    "num_x_val = x_val.shape[0]\n",
    "num_x_test = x_test.shape[0]\n",
    "\n",
    "# 모델의 입력으로 사용하기 위한 피쳐 전처리 - 정규화\n",
    "# 데이터를 2차원(28, 28)에서 1차원(28*28=784)으로 변경\n",
    "x_train = (x_train.reshape((num_x_train, 28 * 28))) / 255\n",
    "x_val = (x_val.reshape((num_x_val, 28 * 28))) / 255\n",
    "x_test = (x_test.reshape((num_x_test, 28 * 28))) / 255\n",
    "\n",
    "print(x_train.shape) # 1차원으로 변경 확인\n",
    "print(x_val.shape) \n",
    "print(x_test.shape) "
   ]
  },
  {
   "cell_type": "code",
   "execution_count": 14,
   "metadata": {},
   "outputs": [],
   "source": [
    "# x_train[0]"
   ]
  },
  {
   "cell_type": "markdown",
   "metadata": {},
   "source": [
    "### 4. 모델 입력을 위한 레이블(클래스) 전처리\n",
    "- 다중 분류를 진행하므로 레이블을 원-핫 인코딩 형태로 변경"
   ]
  },
  {
   "cell_type": "code",
   "execution_count": 24,
   "metadata": {},
   "outputs": [
    {
     "name": "stdout",
     "output_type": "stream",
     "text": [
      "(42000, 10)\n"
     ]
    }
   ],
   "source": [
    "from tensorflow.keras.utils import to_categorical\n",
    "\n",
    "# 각 데이터의 레이블을 범주형 형태의 원-핫 인코딩 형태로 변경\n",
    "y_train = to_categorical(y_train)\n",
    "y_val = to_categorical(y_val)\n",
    "y_test = to_categorical(y_test)\n",
    "\n",
    "print(y_train.shape)"
   ]
  },
  {
   "cell_type": "code",
   "execution_count": 27,
   "metadata": {},
   "outputs": [
    {
     "name": "stdout",
     "output_type": "stream",
     "text": [
      "[[0. 0. 1. 0. 0. 0. 0. 0. 0. 0.]\n",
      " [0. 0. 0. 0. 0. 0. 0. 1. 0. 0.]]\n"
     ]
    }
   ],
   "source": [
    "print(y_train[:2])"
   ]
  },
  {
   "cell_type": "markdown",
   "metadata": {},
   "source": [
    "### 5. 모델 구성하기"
   ]
  },
  {
   "cell_type": "code",
   "execution_count": 28,
   "metadata": {},
   "outputs": [],
   "source": [
    "from tensorflow.keras.models import Sequential\n",
    "from tensorflow.keras.layers import Dense\n",
    "\n",
    "model = Sequential()\n",
    "model.add(Dense(64, activation = 'relu', input_shape = (784, ))) # 입력층 - 784개 1차원, 은닉층1 - 64노드\n",
    "model.add(Dense(32, activation = 'relu')) # 은닉층2 - 32노드\n",
    "model.add(Dense(10, activation = 'softmax')) # 출력층 - 10개의 출력"
   ]
  },
  {
   "cell_type": "code",
   "execution_count": 29,
   "metadata": {},
   "outputs": [
    {
     "name": "stdout",
     "output_type": "stream",
     "text": [
      "Model: \"sequential\"\n",
      "_________________________________________________________________\n",
      "Layer (type)                 Output Shape              Param #   \n",
      "=================================================================\n",
      "dense (Dense)                (None, 64)                50240     \n",
      "_________________________________________________________________\n",
      "dense_1 (Dense)              (None, 32)                2080      \n",
      "_________________________________________________________________\n",
      "dense_2 (Dense)              (None, 10)                330       \n",
      "=================================================================\n",
      "Total params: 52,650\n",
      "Trainable params: 52,650\n",
      "Non-trainable params: 0\n",
      "_________________________________________________________________\n"
     ]
    }
   ],
   "source": [
    "# 모델 요약\n",
    "model.summary()"
   ]
  },
  {
   "cell_type": "markdown",
   "metadata": {},
   "source": [
    "- Param #\n",
    "    - 1) 입력 + 은닉층1(dense) = 784(입력) X 64(노드) + 64(biases) = 50,240개\n",
    "    - 2) 은닉층2(dense_1) = 64(은닉층1 노드) X 32(은닉층2 노드) + 32(biases) = 2,080개\n",
    "    - 3) 출력층 = 32(은닉층2 노드) X 10(출력갯수) + 10(biases) = 330개"
   ]
  },
  {
   "cell_type": "markdown",
   "metadata": {},
   "source": [
    "### 6. 컴파일 설정"
   ]
  },
  {
   "cell_type": "code",
   "execution_count": 30,
   "metadata": {},
   "outputs": [],
   "source": [
    "model.compile(optimizer='adam',                  # 최적화 함수 : adam\n",
    "              loss = 'categorical_crossentropy', # 손실 함수 : 다중분류 - categorical_crossentropy\n",
    "              metrics=['acc'])                   # 모니터링 할 평가지표 : 정확도 - acc"
   ]
  },
  {
   "cell_type": "markdown",
   "metadata": {},
   "source": [
    "### 7. 모델 학습하기"
   ]
  },
  {
   "cell_type": "code",
   "execution_count": 31,
   "metadata": {
    "scrolled": true
   },
   "outputs": [
    {
     "name": "stdout",
     "output_type": "stream",
     "text": [
      "Epoch 1/30\n",
      "329/329 [==============================] - 1s 4ms/step - loss: 0.4975 - acc: 0.8603 - val_loss: 0.2444 - val_acc: 0.9289\n",
      "Epoch 2/30\n",
      "329/329 [==============================] - 1s 3ms/step - loss: 0.1986 - acc: 0.9418 - val_loss: 0.1783 - val_acc: 0.9484\n",
      "Epoch 3/30\n",
      "329/329 [==============================] - 1s 3ms/step - loss: 0.1523 - acc: 0.9564 - val_loss: 0.1687 - val_acc: 0.9517\n",
      "Epoch 4/30\n",
      "329/329 [==============================] - 1s 3ms/step - loss: 0.1261 - acc: 0.9638 - val_loss: 0.1487 - val_acc: 0.9547\n",
      "Epoch 5/30\n",
      "329/329 [==============================] - 1s 3ms/step - loss: 0.1031 - acc: 0.9699 - val_loss: 0.1281 - val_acc: 0.9631\n",
      "Epoch 6/30\n",
      "329/329 [==============================] - 1s 3ms/step - loss: 0.0870 - acc: 0.9739 - val_loss: 0.1290 - val_acc: 0.9614\n",
      "Epoch 7/30\n",
      "329/329 [==============================] - 1s 3ms/step - loss: 0.0764 - acc: 0.9769 - val_loss: 0.1135 - val_acc: 0.9668\n",
      "Epoch 8/30\n",
      "329/329 [==============================] - 1s 3ms/step - loss: 0.0639 - acc: 0.9817 - val_loss: 0.1151 - val_acc: 0.9664\n",
      "Epoch 9/30\n",
      "329/329 [==============================] - 1s 3ms/step - loss: 0.0549 - acc: 0.9842 - val_loss: 0.1121 - val_acc: 0.9672\n",
      "Epoch 10/30\n",
      "329/329 [==============================] - 1s 3ms/step - loss: 0.0504 - acc: 0.9845 - val_loss: 0.1073 - val_acc: 0.9690\n",
      "Epoch 11/30\n",
      "329/329 [==============================] - 1s 3ms/step - loss: 0.0422 - acc: 0.9882 - val_loss: 0.1078 - val_acc: 0.9693\n",
      "Epoch 12/30\n",
      "329/329 [==============================] - 1s 3ms/step - loss: 0.0376 - acc: 0.9894 - val_loss: 0.1039 - val_acc: 0.9703\n",
      "Epoch 13/30\n",
      "329/329 [==============================] - 1s 3ms/step - loss: 0.0341 - acc: 0.9904 - val_loss: 0.1086 - val_acc: 0.9692\n",
      "Epoch 14/30\n",
      "329/329 [==============================] - 1s 3ms/step - loss: 0.0290 - acc: 0.9917 - val_loss: 0.1043 - val_acc: 0.9706\n",
      "Epoch 15/30\n",
      "329/329 [==============================] - 1s 3ms/step - loss: 0.0261 - acc: 0.9929 - val_loss: 0.1042 - val_acc: 0.9693\n",
      "Epoch 16/30\n",
      "329/329 [==============================] - 1s 3ms/step - loss: 0.0218 - acc: 0.9938 - val_loss: 0.1077 - val_acc: 0.9716\n",
      "Epoch 17/30\n",
      "329/329 [==============================] - 1s 3ms/step - loss: 0.0198 - acc: 0.9946 - val_loss: 0.1143 - val_acc: 0.9699\n",
      "Epoch 18/30\n",
      "329/329 [==============================] - 1s 3ms/step - loss: 0.0185 - acc: 0.9950 - val_loss: 0.1259 - val_acc: 0.9677\n",
      "Epoch 19/30\n",
      "329/329 [==============================] - 1s 3ms/step - loss: 0.0161 - acc: 0.9958 - val_loss: 0.1116 - val_acc: 0.9721\n",
      "Epoch 20/30\n",
      "329/329 [==============================] - 1s 3ms/step - loss: 0.0146 - acc: 0.9961 - val_loss: 0.1225 - val_acc: 0.9693\n",
      "Epoch 21/30\n",
      "329/329 [==============================] - 1s 3ms/step - loss: 0.0134 - acc: 0.9962 - val_loss: 0.1234 - val_acc: 0.9691\n",
      "Epoch 22/30\n",
      "329/329 [==============================] - 1s 3ms/step - loss: 0.0134 - acc: 0.9960 - val_loss: 0.1193 - val_acc: 0.9718\n",
      "Epoch 23/30\n",
      "329/329 [==============================] - 1s 4ms/step - loss: 0.0092 - acc: 0.9979 - val_loss: 0.1265 - val_acc: 0.9683\n",
      "Epoch 24/30\n",
      "329/329 [==============================] - 1s 3ms/step - loss: 0.0076 - acc: 0.9983 - val_loss: 0.1295 - val_acc: 0.9699\n",
      "Epoch 25/30\n",
      "329/329 [==============================] - 1s 3ms/step - loss: 0.0060 - acc: 0.9988 - val_loss: 0.1353 - val_acc: 0.9677\n",
      "Epoch 26/30\n",
      "329/329 [==============================] - 1s 3ms/step - loss: 0.0060 - acc: 0.9986 - val_loss: 0.1433 - val_acc: 0.9675\n",
      "Epoch 27/30\n",
      "329/329 [==============================] - 1s 3ms/step - loss: 0.0149 - acc: 0.9949 - val_loss: 0.1342 - val_acc: 0.9706\n",
      "Epoch 28/30\n",
      "329/329 [==============================] - 1s 3ms/step - loss: 0.0057 - acc: 0.9985 - val_loss: 0.1331 - val_acc: 0.9711\n",
      "Epoch 29/30\n",
      "329/329 [==============================] - 1s 3ms/step - loss: 0.0043 - acc: 0.9991 - val_loss: 0.1419 - val_acc: 0.9709\n",
      "Epoch 30/30\n",
      "329/329 [==============================] - 1s 3ms/step - loss: 0.0106 - acc: 0.9964 - val_loss: 0.1582 - val_acc: 0.9687\n"
     ]
    }
   ],
   "source": [
    "history = model.fit(x_train, y_train, \n",
    "                    epochs = 30,      # 학습 횟수\n",
    "                    batch_size = 128, # 배치 크기\n",
    "                    validation_data = (x_val, y_val))"
   ]
  },
  {
   "cell_type": "markdown",
   "metadata": {},
   "source": [
    "### 8. 모델 평가하기"
   ]
  },
  {
   "cell_type": "markdown",
   "metadata": {},
   "source": [
    "### 1) 모델 평가하기 - molde.evaluate() 함수 이용"
   ]
  },
  {
   "cell_type": "code",
   "execution_count": 33,
   "metadata": {},
   "outputs": [
    {
     "name": "stdout",
     "output_type": "stream",
     "text": [
      "313/313 [==============================] - 0s 1ms/step - loss: 0.1367 - acc: 0.9711\n"
     ]
    },
    {
     "data": {
      "text/plain": [
       "[0.13671597838401794, 0.9710999727249146]"
      ]
     },
     "execution_count": 33,
     "metadata": {},
     "output_type": "execute_result"
    }
   ],
   "source": [
    "model.evaluate(x_test, y_test)"
   ]
  },
  {
   "cell_type": "markdown",
   "metadata": {},
   "source": [
    "- 결과: 정확도 - 97%"
   ]
  },
  {
   "cell_type": "markdown",
   "metadata": {},
   "source": [
    "### 2) 혼동 행렬을 이용한 모델 평가"
   ]
  },
  {
   "cell_type": "code",
   "execution_count": 38,
   "metadata": {},
   "outputs": [
    {
     "data": {
      "image/png": "[encoded data removed]",
      "text/plain": [
       "<Figure size 504x360 with 2 Axes>"
      ]
     },
     "metadata": {
      "needs_background": "light"
     },
     "output_type": "display_data"
    }
   ],
   "source": [
    "from sklearn.metrics import classification_report, confusion_matrix\n",
    "import matplotlib.pyplot as plt\n",
    "import seaborn as sns\n",
    "\n",
    "results = model.predict(x_test) # y_test의 예측값\n",
    "\n",
    "# y_test의 실제 정답과 예측값으로 혼동 행렬 생성\n",
    "plt.figure(figsize = (7, 5))\n",
    "cm = confusion_matrix(np.argmax(y_test, axis = -1), np.argmax(results, axis = -1))\n",
    "sns.heatmap(cm, annot = True, fmt = 'd',cmap = 'Blues')\n",
    "plt.xlabel('predicted label', fontsize = 15)\n",
    "plt.ylabel('true label', fontsize = 15)\n",
    "plt.show()"
   ]
  },
  {
   "cell_type": "markdown",
   "metadata": {},
   "source": [
    "### 3) 분류 보고서를 이용한 모델 평가 "
   ]
  },
  {
   "cell_type": "code",
   "execution_count": 40,
   "metadata": {
    "scrolled": true
   },
   "outputs": [
    {
     "name": "stdout",
     "output_type": "stream",
     "text": [
      "              precision    recall  f1-score   support\n",
      "\n",
      "           0       0.98      0.99      0.98       980\n",
      "           1       0.98      0.99      0.99      1135\n",
      "           2       0.97      0.97      0.97      1032\n",
      "           3       0.99      0.94      0.96      1010\n",
      "           4       0.97      0.98      0.98       982\n",
      "           5       0.96      0.98      0.97       892\n",
      "           6       0.98      0.97      0.98       958\n",
      "           7       0.95      0.98      0.96      1028\n",
      "           8       0.96      0.95      0.96       974\n",
      "           9       0.97      0.96      0.97      1009\n",
      "\n",
      "    accuracy                           0.97     10000\n",
      "   macro avg       0.97      0.97      0.97     10000\n",
      "weighted avg       0.97      0.97      0.97     10000\n",
      "\n"
     ]
    }
   ],
   "source": [
    "print(classification_report(np.argmax(y_test, axis = -1), np.argmax(results, axis = -1)))"
   ]
  },
  {
   "cell_type": "markdown",
   "metadata": {},
   "source": [
    "### 9. 학습 결과 그려보기"
   ]
  },
  {
   "cell_type": "code",
   "execution_count": 32,
   "metadata": {},
   "outputs": [
    {
     "data": {
      "text/plain": [
       "dict_keys(['loss', 'acc', 'val_loss', 'val_acc'])"
      ]
     },
     "execution_count": 32,
     "metadata": {},
     "output_type": "execute_result"
    }
   ],
   "source": [
    "# history를 통해 확인해볼 수 있는 값\n",
    "history.history.keys()"
   ]
  },
  {
   "cell_type": "code",
   "execution_count": 34,
   "metadata": {},
   "outputs": [
    {
     "data": {
      "image/png": "[encoded data removed]",
      "text/plain": [
       "<Figure size 720x360 with 2 Axes>"
      ]
     },
     "metadata": {
      "needs_background": "light"
     },
     "output_type": "display_data"
    }
   ],
   "source": [
    "import matplotlib.pyplot as plt\n",
    "\n",
    "his_dict = history.history\n",
    "loss = his_dict['loss']\n",
    "val_loss = his_dict['val_loss'] # 검증 데이터가 있는 경우 ‘val_’ 수식어가 붙습니다.\n",
    "\n",
    "epochs = range(1, len(loss) + 1)\n",
    "fig = plt.figure(figsize = (10, 5))\n",
    "\n",
    "# 훈련 및 검증 손실 그리기\n",
    "ax1 = fig.add_subplot(1, 2, 1)\n",
    "ax1.plot(epochs, loss, color = 'blue', label = 'train_loss')\n",
    "ax1.plot(epochs, val_loss, color = 'orange', label = 'val_loss')\n",
    "ax1.set_title('train and val loss')\n",
    "ax1.set_xlabel('epochs')\n",
    "ax1.set_ylabel('loss')\n",
    "ax1.legend()\n",
    "\n",
    "acc = his_dict['acc']\n",
    "val_acc = his_dict['val_acc']\n",
    "\n",
    "# 훈련 및 검증 정확도 그리기\n",
    "ax2 = fig.add_subplot(1, 2, 2)\n",
    "ax2.plot(epochs, acc, color = 'blue', label = 'train_acc')\n",
    "ax2.plot(epochs, val_acc, color = 'orange', label = 'val_acc')\n",
    "ax2.set_title('train and val acc')\n",
    "ax2.set_xlabel('epochs')\n",
    "ax2.set_ylabel('acc')\n",
    "ax2.legend()\n",
    "\n",
    "plt.show()"
   ]
  },
  {
   "cell_type": "markdown",
   "metadata": {},
   "source": [
    "### 10. 학습된 모델을 통해 값 예측하기"
   ]
  },
  {
   "cell_type": "markdown",
   "metadata": {},
   "source": [
    "### 1) 예측"
   ]
  },
  {
   "cell_type": "code",
   "execution_count": 35,
   "metadata": {},
   "outputs": [
    {
     "name": "stdout",
     "output_type": "stream",
     "text": [
      "(10000, 10)\n",
      "각 클래스에 속할 확률 : \n",
      "[7.2211700e-14 7.2650392e-16 1.5233978e-13 8.8350459e-11 1.4103609e-22\n",
      " 1.4161682e-13 1.9285900e-20 1.0000000e+00 2.5406656e-12 1.6106503e-09]\n",
      "예상 클래스 : 7\n"
     ]
    }
   ],
   "source": [
    "import numpy as np\n",
    "np.set_printoptions(precision=7) # numpy 소수점 제한\n",
    "\n",
    "results = model.predict(x_test)\n",
    "\n",
    "print(results.shape)\n",
    "print(f'각 클래스에 속할 확률 : \\n{results[0]}')\n",
    "print(f'예상 클래스 : {results[0].argmax()}')"
   ]
  },
  {
   "cell_type": "markdown",
   "metadata": {},
   "source": [
    "### 2) 예측값을 그림으로 확인해보기"
   ]
  },
  {
   "cell_type": "code",
   "execution_count": 37,
   "metadata": {},
   "outputs": [
    {
     "data": {
      "image/png": "[encoded data removed]",
      "text/plain": [
       "<Figure size 432x288 with 1 Axes>"
      ]
     },
     "metadata": {
      "needs_background": "light"
     },
     "output_type": "display_data"
    }
   ],
   "source": [
    "import matplotlib.pyplot as plt\n",
    "\n",
    "arg_results = np.argmax(results, axis = -1) # 가장 큰 값의 인덱스를 가져옵니다.\n",
    "plt.imshow(x_test[0].reshape(28, 28))\n",
    "plt.title('Predicted value of the first image : ' + str(arg_results[0]), fontsize = 12)\n",
    "plt.show()"
   ]
  },
  {
   "cell_type": "markdown",
   "metadata": {},
   "source": [
    "## 전체 코드"
   ]
  },
  {
   "cell_type": "code",
   "execution_count": 29,
   "metadata": {
    "scrolled": true
   },
   "outputs": [
    {
     "name": "stdout",
     "output_type": "stream",
     "text": [
      "Epoch 1/30\n",
      "329/329 [==============================] - 1s 3ms/step - loss: 0.5025 - acc: 0.8525 - val_loss: 0.2539 - val_acc: 0.9277\n",
      "Epoch 2/30\n",
      "329/329 [==============================] - 1s 3ms/step - loss: 0.2101 - acc: 0.9392 - val_loss: 0.1858 - val_acc: 0.9467\n",
      "Epoch 3/30\n",
      "329/329 [==============================] - 1s 3ms/step - loss: 0.1582 - acc: 0.9538 - val_loss: 0.1597 - val_acc: 0.9533\n",
      "Epoch 4/30\n",
      "329/329 [==============================] - 1s 3ms/step - loss: 0.1274 - acc: 0.9633 - val_loss: 0.1353 - val_acc: 0.9602\n",
      "Epoch 5/30\n",
      "329/329 [==============================] - 1s 3ms/step - loss: 0.1058 - acc: 0.9687 - val_loss: 0.1277 - val_acc: 0.9626\n",
      "Epoch 6/30\n",
      "329/329 [==============================] - 1s 3ms/step - loss: 0.0897 - acc: 0.9733 - val_loss: 0.1201 - val_acc: 0.9651\n",
      "Epoch 7/30\n",
      "329/329 [==============================] - 1s 3ms/step - loss: 0.0786 - acc: 0.9766 - val_loss: 0.1137 - val_acc: 0.9650\n",
      "Epoch 8/30\n",
      "329/329 [==============================] - 1s 3ms/step - loss: 0.0669 - acc: 0.9800 - val_loss: 0.1146 - val_acc: 0.9656\n",
      "Epoch 9/30\n",
      "329/329 [==============================] - 1s 3ms/step - loss: 0.0591 - acc: 0.9824 - val_loss: 0.1084 - val_acc: 0.9679\n",
      "Epoch 10/30\n",
      "329/329 [==============================] - 1s 3ms/step - loss: 0.0511 - acc: 0.9849 - val_loss: 0.1026 - val_acc: 0.9696\n",
      "Epoch 11/30\n",
      "329/329 [==============================] - 1s 3ms/step - loss: 0.0464 - acc: 0.9858 - val_loss: 0.1038 - val_acc: 0.9687\n",
      "Epoch 12/30\n",
      "329/329 [==============================] - 1s 3ms/step - loss: 0.0405 - acc: 0.9881 - val_loss: 0.1047 - val_acc: 0.9695\n",
      "Epoch 13/30\n",
      "329/329 [==============================] - 1s 3ms/step - loss: 0.0354 - acc: 0.9894 - val_loss: 0.1052 - val_acc: 0.9689\n",
      "Epoch 14/30\n",
      "329/329 [==============================] - 1s 3ms/step - loss: 0.0333 - acc: 0.9902 - val_loss: 0.1106 - val_acc: 0.9684\n",
      "Epoch 15/30\n",
      "329/329 [==============================] - 1s 3ms/step - loss: 0.0286 - acc: 0.9922 - val_loss: 0.1246 - val_acc: 0.9662\n",
      "Epoch 16/30\n",
      "329/329 [==============================] - 1s 3ms/step - loss: 0.0257 - acc: 0.9927 - val_loss: 0.1042 - val_acc: 0.9708\n",
      "Epoch 17/30\n",
      "329/329 [==============================] - 1s 3ms/step - loss: 0.0208 - acc: 0.9944 - val_loss: 0.1108 - val_acc: 0.9694\n",
      "Epoch 18/30\n",
      "329/329 [==============================] - 1s 3ms/step - loss: 0.0208 - acc: 0.9939 - val_loss: 0.1055 - val_acc: 0.9718\n",
      "Epoch 19/30\n",
      "329/329 [==============================] - 1s 3ms/step - loss: 0.0163 - acc: 0.9957 - val_loss: 0.1131 - val_acc: 0.9709\n",
      "Epoch 20/30\n",
      "329/329 [==============================] - 1s 3ms/step - loss: 0.0155 - acc: 0.9958 - val_loss: 0.1110 - val_acc: 0.9711\n",
      "Epoch 21/30\n",
      "329/329 [==============================] - 1s 3ms/step - loss: 0.0127 - acc: 0.9968 - val_loss: 0.1189 - val_acc: 0.9700\n",
      "Epoch 22/30\n",
      "329/329 [==============================] - 1s 3ms/step - loss: 0.0122 - acc: 0.9971 - val_loss: 0.1296 - val_acc: 0.9687\n",
      "Epoch 23/30\n",
      "329/329 [==============================] - 1s 3ms/step - loss: 0.0119 - acc: 0.9965 - val_loss: 0.1313 - val_acc: 0.9687\n",
      "Epoch 24/30\n",
      "329/329 [==============================] - 1s 3ms/step - loss: 0.0102 - acc: 0.9975 - val_loss: 0.1329 - val_acc: 0.9692\n",
      "Epoch 25/30\n",
      "329/329 [==============================] - 1s 3ms/step - loss: 0.0105 - acc: 0.9971 - val_loss: 0.1508 - val_acc: 0.9667\n",
      "Epoch 26/30\n",
      "329/329 [==============================] - 1s 3ms/step - loss: 0.0094 - acc: 0.9972 - val_loss: 0.1429 - val_acc: 0.9688\n",
      "Epoch 27/30\n",
      "329/329 [==============================] - 1s 2ms/step - loss: 0.0095 - acc: 0.9972 - val_loss: 0.1244 - val_acc: 0.9728\n",
      "Epoch 28/30\n",
      "329/329 [==============================] - 1s 3ms/step - loss: 0.0053 - acc: 0.9990 - val_loss: 0.1346 - val_acc: 0.9713\n",
      "Epoch 29/30\n",
      "329/329 [==============================] - 1s 3ms/step - loss: 0.0054 - acc: 0.9988 - val_loss: 0.1302 - val_acc: 0.9719\n",
      "Epoch 30/30\n",
      "329/329 [==============================] - 1s 3ms/step - loss: 0.0064 - acc: 0.9980 - val_loss: 0.1436 - val_acc: 0.9692\n"
     ]
    }
   ],
   "source": [
    "import tensorflow as tf\n",
    "from tensorflow.keras.datasets.mnist import load_data\n",
    "\n",
    "from tensorflow.keras.models import Sequential\n",
    "from tensorflow.keras.layers import Dense\n",
    "from tensorflow.keras.utils import to_categorical\n",
    "\n",
    "from sklearn.model_selection import train_test_split\n",
    "tf.random.set_seed(777)\n",
    "\n",
    "# 1. 데이타 로드\n",
    "(x_train, y_train), (x_test, y_test) = load_data(path='mnist.npz')\n",
    "\n",
    "# 2. 검증 데이타 분할\n",
    "x_train, x_val, y_train, y_val = train_test_split(x_train, y_train, \n",
    "                                                  test_size = 0.3, \n",
    "                                                  random_state = 777)\n",
    "# 3. 피쳐 정규화/레이블 원-핫 인코딩\n",
    "num_x_train = x_train.shape[0]\n",
    "num_x_val = x_val.shape[0]\n",
    "num_x_test = x_test.shape[0]\n",
    "\n",
    "x_train = (x_train.reshape((num_x_train, 28 * 28))) / 255\n",
    "x_val = (x_val.reshape((num_x_val, 28 * 28))) / 255\n",
    "x_test = (x_test.reshape((num_x_test, 28 * 28))) / 255\n",
    "\n",
    "y_train = to_categorical(y_train)\n",
    "y_val = to_categorical(y_val)\n",
    "y_test = to_categorical(y_test)\n",
    "\n",
    "# 4. 딥러닝 모델 구성\n",
    "model = Sequential()\n",
    "model.add(Dense(64, activation = 'relu', input_shape = (784, )))\n",
    "model.add(Dense(32, activation = 'relu'))\n",
    "model.add(Dense(10, activation = 'softmax'))\n",
    "\n",
    "# 5. 컴파일 설정\n",
    "model.compile(optimizer='adam', \n",
    "              loss = 'categorical_crossentropy', \n",
    "              metrics=['acc'])\n",
    "\n",
    "# 6. 모델 학습\n",
    "history = model.fit(x_train, y_train, \n",
    "                    epochs = 30, \n",
    "                    batch_size = 128, \n",
    "                    validation_data = (x_val, y_val))\n",
    "\n",
    "# 7. 모델 평가\n",
    "model.evaluate(x_test, y_test)"
   ]
  },
  {
   "cell_type": "code",
   "execution_count": 43,
   "metadata": {},
   "outputs": [
    {
     "name": "stdout",
     "output_type": "stream",
     "text": [
      "Epoch 1/30\n",
      "329/329 [==============================] - 1s 3ms/step - loss: 0.4997 - acc: 0.8553 - val_loss: 0.2644 - val_acc: 0.9254\n",
      "Epoch 2/30\n",
      "329/329 [==============================] - 1s 3ms/step - loss: 0.2039 - acc: 0.9412 - val_loss: 0.2071 - val_acc: 0.9381 0s - loss: 0.2142 - acc: 0\n",
      "Epoch 3/30\n",
      "329/329 [==============================] - 1s 3ms/step - loss: 0.1545 - acc: 0.9557 - val_loss: 0.1614 - val_acc: 0.9511\n",
      "Epoch 4/30\n",
      "329/329 [==============================] - 1s 3ms/step - loss: 0.1245 - acc: 0.9638 - val_loss: 0.1445 - val_acc: 0.9570\n",
      "Epoch 5/30\n",
      "329/329 [==============================] - 1s 3ms/step - loss: 0.1064 - acc: 0.9686 - val_loss: 0.1314 - val_acc: 0.9601\n",
      "Epoch 6/30\n",
      "329/329 [==============================] - 1s 3ms/step - loss: 0.0899 - acc: 0.9732 - val_loss: 0.1299 - val_acc: 0.9611\n",
      "Epoch 7/30\n",
      "329/329 [==============================] - 1s 3ms/step - loss: 0.0790 - acc: 0.9756 - val_loss: 0.1256 - val_acc: 0.9631\n",
      "Epoch 8/30\n",
      "329/329 [==============================] - 1s 3ms/step - loss: 0.0692 - acc: 0.9790 - val_loss: 0.1286 - val_acc: 0.9623\n",
      "Epoch 9/30\n",
      "329/329 [==============================] - 1s 3ms/step - loss: 0.0610 - acc: 0.9813 - val_loss: 0.1283 - val_acc: 0.9622\n",
      "Epoch 10/30\n",
      "329/329 [==============================] - 1s 4ms/step - loss: 0.0537 - acc: 0.9840 - val_loss: 0.1276 - val_acc: 0.9636\n",
      "Epoch 11/30\n",
      "329/329 [==============================] - 1s 3ms/step - loss: 0.0481 - acc: 0.9854 - val_loss: 0.1196 - val_acc: 0.9656\n",
      "Epoch 12/30\n",
      "329/329 [==============================] - 1s 3ms/step - loss: 0.0440 - acc: 0.9864 - val_loss: 0.1236 - val_acc: 0.9659\n",
      "Epoch 13/30\n",
      "329/329 [==============================] - 1s 3ms/step - loss: 0.0378 - acc: 0.9888 - val_loss: 0.1219 - val_acc: 0.9664\n",
      "Epoch 14/30\n",
      "329/329 [==============================] - 1s 3ms/step - loss: 0.0345 - acc: 0.9904 - val_loss: 0.1343 - val_acc: 0.9637\n",
      "Epoch 15/30\n",
      "329/329 [==============================] - 1s 3ms/step - loss: 0.0302 - acc: 0.9917 - val_loss: 0.1323 - val_acc: 0.9646\n",
      "Epoch 16/30\n",
      "329/329 [==============================] - 1s 3ms/step - loss: 0.0272 - acc: 0.9923 - val_loss: 0.1331 - val_acc: 0.9655\n",
      "Epoch 17/30\n",
      "329/329 [==============================] - 1s 3ms/step - loss: 0.0231 - acc: 0.9937 - val_loss: 0.1329 - val_acc: 0.9654\n",
      "Epoch 18/30\n",
      "329/329 [==============================] - 1s 3ms/step - loss: 0.0214 - acc: 0.9943 - val_loss: 0.1358 - val_acc: 0.9669\n",
      "Epoch 19/30\n",
      "329/329 [==============================] - 1s 3ms/step - loss: 0.0188 - acc: 0.9945 - val_loss: 0.1397 - val_acc: 0.9646\n",
      "Epoch 20/30\n",
      "329/329 [==============================] - 1s 3ms/step - loss: 0.0180 - acc: 0.9947 - val_loss: 0.1470 - val_acc: 0.9634\n",
      "Epoch 21/30\n",
      "329/329 [==============================] - 1s 3ms/step - loss: 0.0141 - acc: 0.9966 - val_loss: 0.1521 - val_acc: 0.9646\n",
      "Epoch 22/30\n",
      "329/329 [==============================] - 1s 3ms/step - loss: 0.0124 - acc: 0.9969 - val_loss: 0.1485 - val_acc: 0.9651\n",
      "Epoch 23/30\n",
      "329/329 [==============================] - 1s 4ms/step - loss: 0.0142 - acc: 0.9959 - val_loss: 0.1606 - val_acc: 0.9634\n",
      "Epoch 24/30\n",
      "329/329 [==============================] - 1s 3ms/step - loss: 0.0116 - acc: 0.9968 - val_loss: 0.1568 - val_acc: 0.9654\n",
      "Epoch 25/30\n",
      "329/329 [==============================] - 1s 3ms/step - loss: 0.0134 - acc: 0.9963 - val_loss: 0.1587 - val_acc: 0.9645\n",
      "Epoch 26/30\n",
      "329/329 [==============================] - 1s 3ms/step - loss: 0.0090 - acc: 0.9980 - val_loss: 0.1570 - val_acc: 0.9669\n",
      "Epoch 27/30\n",
      "329/329 [==============================] - 1s 3ms/step - loss: 0.0083 - acc: 0.9980 - val_loss: 0.1635 - val_acc: 0.9656\n",
      "Epoch 28/30\n",
      "329/329 [==============================] - 1s 3ms/step - loss: 0.0050 - acc: 0.9993 - val_loss: 0.1772 - val_acc: 0.9640\n",
      "Epoch 29/30\n",
      "329/329 [==============================] - 1s 3ms/step - loss: 0.0060 - acc: 0.9987 - val_loss: 0.1699 - val_acc: 0.9663\n",
      "Epoch 30/30\n",
      "329/329 [==============================] - 1s 3ms/step - loss: 0.0079 - acc: 0.9980 - val_loss: 0.1752 - val_acc: 0.9658\n",
      "313/313 [==============================] - 0s 1ms/step - loss: 0.1379 - acc: 0.9715\n"
     ]
    },
    {
     "data": {
      "text/plain": [
       "[0.13791657984256744, 0.9714999794960022]"
      ]
     },
     "execution_count": 43,
     "metadata": {},
     "output_type": "execute_result"
    }
   ],
   "source": [
    "import tensorflow as tf\n",
    "from tensorflow.keras.datasets.mnist import load_data\n",
    "\n",
    "from tensorflow.keras.models import Sequential\n",
    "from tensorflow.keras.layers import Dense\n",
    "from tensorflow.keras.utils import to_categorical\n",
    "\n",
    "from sklearn.model_selection import train_test_split\n",
    "tf.random.set_seed(777)\n",
    "\n",
    "# 1. 데이타 로드\n",
    "(x_train, y_train), (x_test, y_test) = load_data(path='mnist.npz')\n",
    "\n",
    "# 2. 검증 데이타셋 분할\n",
    "x_train, x_val, y_train, y_val = train_test_split(x_train, y_train, \n",
    "                                                  test_size = 0.3, \n",
    "                                                  random_state = 777,\n",
    "                                                  stratify=y_train)\n",
    "# 3. 피쳐 정규화/레이블 원-핫 인코딩\n",
    "num_x_train = x_train.shape[0]\n",
    "num_x_val = x_val.shape[0]\n",
    "num_x_test = x_test.shape[0]\n",
    "\n",
    "x_train = (x_train.reshape((num_x_train, 28 * 28))) / 255\n",
    "x_val = (x_val.reshape((num_x_val, 28 * 28))) / 255\n",
    "x_test = (x_test.reshape((num_x_test, 28 * 28))) / 255\n",
    "\n",
    "y_train = to_categorical(y_train)\n",
    "y_val = to_categorical(y_val)\n",
    "y_test = to_categorical(y_test)\n",
    "\n",
    "# 4. 딥러닝 모델 구성\n",
    "model = Sequential()\n",
    "model.add(Dense(64, activation = 'relu', input_shape = (784, )))\n",
    "model.add(Dense(32, activation = 'relu'))\n",
    "model.add(Dense(10, activation = 'softmax'))\n",
    "\n",
    "# 5. 컴파일 설정\n",
    "model.compile(optimizer='adam', \n",
    "              loss = 'categorical_crossentropy', \n",
    "              metrics=['acc'])\n",
    "\n",
    "# 6. 모델 학습\n",
    "history = model.fit(x_train, y_train, \n",
    "                    epochs = 30, \n",
    "                    batch_size = 128, \n",
    "                    validation_data = (x_val, y_val))\n",
    "\n",
    "# 7. 모델 평가\n",
    "model.evaluate(x_test, y_test)"
   ]
  }
 ],
 "metadata": {
  "kernelspec": {
   "display_name": "Python 3 (ipykernel)",
   "language": "python",
   "name": "python3"
  },
  "language_info": {
   "codemirror_mode": {
    "name": "ipython",
    "version": 3
   },
   "file_extension": ".py",
   "mimetype": "text/x-python",
   "name": "python",
   "nbconvert_exporter": "python",
   "pygments_lexer": "ipython3",
   "version": "3.7.6"
  }
 },
 "nbformat": 4,
 "nbformat_minor": 2
}
