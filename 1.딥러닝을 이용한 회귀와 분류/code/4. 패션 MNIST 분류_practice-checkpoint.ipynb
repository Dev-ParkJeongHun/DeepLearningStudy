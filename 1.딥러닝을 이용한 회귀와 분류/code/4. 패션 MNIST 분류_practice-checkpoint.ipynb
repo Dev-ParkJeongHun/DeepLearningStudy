{
 "cells": [
  {
   "cell_type": "markdown",
   "metadata": {},
   "source": [
    "# 딥러닝으로 패션 MNIST 분류하기"
   ]
  },
  {
   "cell_type": "code",
   "execution_count": null,
   "metadata": {},
   "outputs": [],
   "source": [
    "# 경고 무시\n",
    "from warnings import filterwarnings\n",
    "filterwarnings(\"ignore\")"
   ]
  },
  {
   "cell_type": "markdown",
   "metadata": {},
   "source": [
    "### 텐서플로우와 케라스 라이브러리 import 및 버전 확인"
   ]
  },
  {
   "cell_type": "code",
   "execution_count": null,
   "metadata": {},
   "outputs": [],
   "source": [
    "import tensorflow as tf\n",
    "from tensorflow import keras\n",
    "\n",
    "print(tf.__version__)\n",
    "print(keras.__version__)"
   ]
  },
  {
   "cell_type": "markdown",
   "metadata": {},
   "source": [
    "## 패션 MNIST 데이타셋\n",
    "- 패션 아이템 이미지\n",
    "- 28*28 픽셀 크기의 흑백이미지 70,000개\n",
    "    - 케라스에서 60,000개의 학습 데이타셋, 10,000개의 테스트 데이타셋으로 제공\n",
    "- 10개의 클래스\n",
    "    - T-shirt/top, Trouser, Pullover, Dress, Coat, Sandal, Shirt, Sneaker, Bag, Ankle boot\n",
    "- 픽셀 강도 \n",
    "    - 0 ~ 255의 정수로 표현"
   ]
  },
  {
   "cell_type": "markdown",
   "metadata": {},
   "source": [
    "<img src=\"./img/fashon-mnist.png\" width=600 align=\"left\">"
   ]
  },
  {
   "cell_type": "markdown",
   "metadata": {},
   "source": [
    "### 1. Fashion-MNIST 데이터셋 로드하기\n",
    "### 1) 데이타 로드"
   ]
  },
  {
   "cell_type": "code",
   "execution_count": null,
   "metadata": {
    "scrolled": true
   },
   "outputs": [],
   "source": [
    "from tensorflow.keras.datasets.fashion_mnist import load_data\n",
    "\n"
   ]
  },
  {
   "cell_type": "markdown",
   "metadata": {},
   "source": [
    "### 2) 데이터 이미지로 그려보기"
   ]
  },
  {
   "cell_type": "code",
   "execution_count": null,
   "metadata": {},
   "outputs": [],
   "source": [
    "import matplotlib.pyplot as plt\n",
    "import numpy as np\n",
    "np.random.seed(777)\n",
    "\n",
    "# Fashion-MNIST의 레이블에 해당하는 품목입니다.\n",
    "class_names = ['T-shirt/top', 'Trouser', 'Pullover', 'Dress', 'Coat',\n",
    "               'Sandal', 'Shirt', 'Sneaker', 'Bag', 'Ankle boot']\n",
    "\n",
    "sample_size = 9\n",
    "# 0 ~ 59999의 범위에서 무작위로 3개의 정수 추출\n",
    "random_idx = np.random.randint(60000, size=sample_size) \n",
    "\n",
    "plt.figure(figsize = (5, 5))\n",
    "for i, idx in enumerate(random_idx):\n",
    "    plt.subplot(3, 3, i+1)\n",
    "    plt.xticks([])\n",
    "    plt.yticks([])\n",
    "    plt.imshow(x_train[idx], cmap = 'gray') \n",
    "    plt.xlabel(class_names[y_train[idx]]) \n",
    "    \n",
    "plt.show()"
   ]
  },
  {
   "cell_type": "markdown",
   "metadata": {},
   "source": [
    "### 2. 피쳐 전처리/레이블 범주형 데이타로 변경하기"
   ]
  },
  {
   "cell_type": "code",
   "execution_count": null,
   "metadata": {},
   "outputs": [],
   "source": [
    "# 피쳐 값의 정규화 : 범위를 0 ~ 1로 만든다.\n",
    "\n",
    "\n",
    "# 레이블 범주화 \n",
    "from tensorflow.keras.utils import to_categorical\n",
    "\n"
   ]
  },
  {
   "cell_type": "markdown",
   "metadata": {},
   "source": [
    "### 3. 검증 데이타셋 만들기"
   ]
  },
  {
   "cell_type": "code",
   "execution_count": null,
   "metadata": {},
   "outputs": [],
   "source": [
    "from sklearn.model_selection import train_test_split\n",
    "\n",
    "# 학습/검증 데이터셋을 0.7/0.3의 비율로 분리합니다.\n",
    "\n",
    "# 데이타 형태 확인\n",
    "print(x_train.shape, y_train.shape)\n",
    "print(x_val.shape, y_val.shape)\n",
    "print(x_test.shape, y_test.shape)"
   ]
  },
  {
   "cell_type": "markdown",
   "metadata": {},
   "source": [
    "### 4. 딥러닝 모델 구성하기"
   ]
  },
  {
   "cell_type": "markdown",
   "metadata": {},
   "source": [
    "### 4.1 첫 번째 모델 "
   ]
  },
  {
   "cell_type": "markdown",
   "metadata": {},
   "source": [
    "### 1) 첫번째 모델 구성하기"
   ]
  },
  {
   "cell_type": "code",
   "execution_count": null,
   "metadata": {},
   "outputs": [],
   "source": [
    "from tensorflow.keras.models import Sequential\n",
    "from tensorflow.keras.layers import Dense, Flatten\n",
    "\n",
    "\n",
    "\n",
    "# 1) 입력층 : (28, 28) -> 28 * 28 = 784\n",
    "\n",
    "# 2) 은닉층1 : 64개의 출력을 가지는 Dense 층\n",
    "\n",
    "# 3) 은닉층2 : 32개의 출력을 가지는 Dense 층\n",
    "\n",
    "# 4) 출력층 : 10개의 출력을 가지는 Dense 층\n"
   ]
  },
  {
   "cell_type": "code",
   "execution_count": null,
   "metadata": {},
   "outputs": [],
   "source": [
    "# 모델 요약\n"
   ]
  },
  {
   "cell_type": "markdown",
   "metadata": {},
   "source": [
    "- Param #\n",
    "    - 1) 입력층(flatten) \n",
    "    - 2) 은닉층1(dense) = 784(입력) X 64(은닉층1 노드) + 64(biases) = 50,240개\n",
    "    - 3) 은닉층2(dense_1) = 64(은닉층1 노드) X 32(은닉층2 노드) + 32(biases) = 2,080개\n",
    "    - 4) 출력층(dense_2) = 32(은닉츠2 노드) X 10(출력개수) + 10(biases) = 330개"
   ]
  },
  {
   "cell_type": "markdown",
   "metadata": {},
   "source": [
    "###  2) 컴파일 설정"
   ]
  },
  {
   "cell_type": "code",
   "execution_count": null,
   "metadata": {},
   "outputs": [],
   "source": [
    "# 최적화 함수 : adam\n",
    "# 손실 함수 : 'categorical_crossentropy'\n",
    "# 모니터링 할 평가지표 : 'acc'"
   ]
  },
  {
   "cell_type": "markdown",
   "metadata": {},
   "source": [
    "### 3) 모델 실행"
   ]
  },
  {
   "cell_type": "code",
   "execution_count": null,
   "metadata": {},
   "outputs": [],
   "source": []
  },
  {
   "cell_type": "markdown",
   "metadata": {},
   "source": [
    "### 4) 모델 평가"
   ]
  },
  {
   "cell_type": "code",
   "execution_count": null,
   "metadata": {},
   "outputs": [],
   "source": [
    "# 첫번째 모델 평가하기\n"
   ]
  },
  {
   "cell_type": "markdown",
   "metadata": {},
   "source": [
    "### 5) Early_stopping  콜백 사용하여 모델 학습"
   ]
  },
  {
   "cell_type": "code",
   "execution_count": null,
   "metadata": {},
   "outputs": [],
   "source": [
    "from tensorflow.keras.callbacks import ModelCheckpoint, EarlyStopping\n",
    "import os\n",
    "\n",
    "MODEL_DIR = './model/'\n",
    "if not os.path.exists(MODEL_DIR):\n",
    "    os.mkdir(MODEL_DIR)\n",
    "\n",
    "modelpath=\"./model/{epoch:02d}-{val_loss:.4f}.hdf5\"\n",
    "checkpointer = ModelCheckpoint(filepath=modelpath, monitor='val_loss', verbose=1, save_best_only=True)\n",
    "early_stopping_callback = EarlyStopping(monitor='val_loss', patience=10)"
   ]
  },
  {
   "cell_type": "code",
   "execution_count": null,
   "metadata": {},
   "outputs": [],
   "source": []
  },
  {
   "cell_type": "code",
   "execution_count": null,
   "metadata": {},
   "outputs": [],
   "source": [
    "# Early_stopping 콜백을 이용한 모델 평가하기\n"
   ]
  },
  {
   "cell_type": "markdown",
   "metadata": {},
   "source": [
    "### 4.2 두 번째 모델 "
   ]
  },
  {
   "cell_type": "markdown",
   "metadata": {},
   "source": [
    "### 1) 모델 구성하기"
   ]
  },
  {
   "cell_type": "code",
   "execution_count": null,
   "metadata": {},
   "outputs": [],
   "source": [
    "\n",
    "\n",
    "# 1) 입력층 : (28, 28) -> 28 * 28 = 784\n",
    "\n",
    "# 2) 은닉층1 : 128개의 출력을 가지는 Dense 층\n",
    "\n",
    "# 3) 은닉층2: 64개의 출력을 가지는 Dense 층\n",
    "\n",
    "# 4) 은닉층3 : 32개의 출력을 가지는 Dense 층\n",
    "\n",
    "# 5) 출력층 : 10개의 출력을 가지는 Dense 층\n"
   ]
  },
  {
   "cell_type": "code",
   "execution_count": null,
   "metadata": {},
   "outputs": [],
   "source": [
    "# 모델 요약\n"
   ]
  },
  {
   "cell_type": "markdown",
   "metadata": {},
   "source": [
    "### 2) 컴파일 설정"
   ]
  },
  {
   "cell_type": "code",
   "execution_count": null,
   "metadata": {},
   "outputs": [],
   "source": [
    "# 최적화 함수: adam\n",
    "# 손실 함수: categorical_crossentropy\n",
    "# 모니터링 할 평가지표: acc(정확도)"
   ]
  },
  {
   "cell_type": "markdown",
   "metadata": {},
   "source": [
    "### 3) 모델 학습"
   ]
  },
  {
   "cell_type": "code",
   "execution_count": null,
   "metadata": {
    "scrolled": true
   },
   "outputs": [],
   "source": []
  },
  {
   "cell_type": "markdown",
   "metadata": {},
   "source": [
    "### 4) 모델 평가"
   ]
  },
  {
   "cell_type": "code",
   "execution_count": null,
   "metadata": {},
   "outputs": [],
   "source": [
    "# 두번째 모델 평가\n"
   ]
  },
  {
   "cell_type": "markdown",
   "metadata": {},
   "source": [
    "### 5) 두번째 모델을 이용한 예측"
   ]
  },
  {
   "cell_type": "code",
   "execution_count": null,
   "metadata": {},
   "outputs": [],
   "source": [
    "import numpy as np\n",
    "np.set_printoptions(precision=7) # numpy 소수점 제한\n",
    "\n",
    "results = second_model.predict(x_test)\n",
    "\n",
    "print(results.shape)\n",
    "print(f'각 클래스에 속할 확률 : \\n{results[0]}')\n",
    "print(f'예상 클래스 : {results[0].argmax()}')"
   ]
  },
  {
   "cell_type": "markdown",
   "metadata": {},
   "source": [
    "### 6) 예측한 데이타 이미지로 확인하기"
   ]
  },
  {
   "cell_type": "code",
   "execution_count": null,
   "metadata": {},
   "outputs": [],
   "source": [
    "import matplotlib.pyplot as plt\n",
    "\n",
    "arg_results = np.argmax(results, axis = -1) # 가장 큰 값의 인덱스를 가져옵니다.\n",
    "class_names = ['T-shirt/top', 'Trouser', 'Pullover', 'Dress', 'Coat',\n",
    "               'Sandal', 'Shirt', 'Sneaker', 'Bag', 'Ankle boot']\n",
    "\n",
    "# 예측 결과를 이미지로 보여주기\n",
    "plt.imshow(x_test[0].reshape(28, 28))\n",
    "title = 'Predicted value of the first image : ' + str(arg_results[0]) + ', ' + class_names[arg_results[0]]\n",
    "plt.title(title, fontsize = 12)\n",
    "plt.show()"
   ]
  },
  {
   "cell_type": "markdown",
   "metadata": {},
   "source": [
    "### 5. 두 모델의 학습 과정 그려보기"
   ]
  },
  {
   "cell_type": "code",
   "execution_count": null,
   "metadata": {},
   "outputs": [],
   "source": [
    "import numpy as np\n",
    "import matplotlib.pyplot as plt\n",
    "\n",
    "def draw_loss_acc(history_1, history_2, epochs):\n",
    "    his_dict_1 = history_1.history\n",
    "    his_dict_2 = history_2.history\n",
    "    keys = list(his_dict_1.keys())\n",
    "    \n",
    "    epochs = range(1, epochs)\n",
    "    fig = plt.figure(figsize = (8,6))\n",
    "    ax = fig.add_subplot(1, 1, 1)\n",
    "    \n",
    "    # axis 선과 ax의 축 레이블 제거\n",
    "    ax.spines['top'].set_color('none')\n",
    "    ax.spines['bottom'].set_color('none')\n",
    "    ax.spines['left'].set_color('none')\n",
    "    ax.spines['right'].set_color('none')\n",
    "    ax.tick_params(labelcolor='w', top=False, bottom=False, left=False, right=False)\n",
    "    \n",
    "    for i in range(len(his_dict_1)):\n",
    "        temp_ax = fig.add_subplot(2, 2, i + 1)\n",
    "        temp = keys[i%2]\n",
    "        val_temp = keys[(i + 2)%2 + 2]\n",
    "        temp_history = his_dict_1 if i < 2 else his_dict_2\n",
    "        temp_ax.plot(epochs, temp_history[temp][1:], color = 'blue', label = 'train_' + temp)\n",
    "        temp_ax.plot(epochs, temp_history[val_temp][1:], color = 'orange', label = val_temp)\n",
    "        if(i == 1 or i == 3):\n",
    "            start, end = temp_ax.get_ylim()\n",
    "            temp_ax.yaxis.set_ticks(np.arange(np.round(start, 2), end, 0.01))            \n",
    "        temp_ax.legend()\n",
    "    ax.set_ylabel('loss', size = 15)\n",
    "    ax.set_xlabel('epochs', size = 15)\n",
    "    plt.tight_layout()\n",
    "    plt.show()\n",
    "    \n",
    "draw_loss_acc(first_history, second_history, 30)"
   ]
  }
 ],
 "metadata": {
  "kernelspec": {
   "display_name": "Python 3",
   "language": "python",
   "name": "python3"
  },
  "language_info": {
   "codemirror_mode": {
    "name": "ipython",
    "version": 3
   },
   "file_extension": ".py",
   "mimetype": "text/x-python",
   "name": "python",
   "nbconvert_exporter": "python",
   "pygments_lexer": "ipython3",
   "version": "3.7.6"
  }
 },
 "nbformat": 4,
 "nbformat_minor": 2
}
