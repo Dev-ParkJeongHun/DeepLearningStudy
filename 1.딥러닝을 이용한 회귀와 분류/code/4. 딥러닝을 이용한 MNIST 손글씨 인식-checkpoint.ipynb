{
 "cells": [
  {
   "cell_type": "markdown",
   "metadata": {},
   "source": [
    "# 딥러닝(DNN)을 이용한 MNIST 손글씨 인식 "
   ]
  },
  {
   "cell_type": "markdown",
   "metadata": {},
   "source": [
    "### MNIST 손글씨 데이타 셋"
   ]
  },
  {
   "cell_type": "markdown",
   "metadata": {},
   "source": [
    "<img src=\"./img/mnist_data.png\" align=left width=500>"
   ]
  },
  {
   "cell_type": "markdown",
   "metadata": {},
   "source": [
    "- MNIST 데이터셋은 미국 국립표준기술원(NIST)이 고등학생과 인구조사국 직원등이 쓴 손글씨를 이용해 만든 데이터로 구성\n",
    "- 70,000개의 28*28 글자 이미지에 각각 0부터 9까지 이름표를 붙인 데이터셋\n",
    "- 70,000개 = 60,000개의 학습 데이타셋 + 10,000개의 테스트 데이타셋으로 구성"
   ]
  },
  {
   "cell_type": "code",
   "execution_count": 1,
   "metadata": {},
   "outputs": [],
   "source": [
    "# 경고 무시\n",
    "import warnings\n",
    "warnings.filterwarnings('ignore')"
   ]
  },
  {
   "cell_type": "markdown",
   "metadata": {},
   "source": [
    "### 1. 데이타 불러오기\n",
    "- 텐서플로우 저장소에서 MNIST 데이터셋 다운로드"
   ]
  },
  {
   "cell_type": "code",
   "execution_count": 2,
   "metadata": {},
   "outputs": [],
   "source": [
    "# 텐서플로우 저장소에서 데이터를 다운 받기\n",
    "from tensorflow.keras.datasets.mnist import load_data\n",
    "\n",
    "(X_train, y_train), (X_test, y_test) = load_data(path='mnist.npz')"
   ]
  },
  {
   "cell_type": "markdown",
   "metadata": {},
   "source": [
    "### 1) 데이터의 형태 확인하기"
   ]
  },
  {
   "cell_type": "code",
   "execution_count": 4,
   "metadata": {
    "scrolled": true
   },
   "outputs": [
    {
     "name": "stdout",
     "output_type": "stream",
     "text": [
      "(60000, 28, 28) (60000,)\n",
      "(10000, 28, 28) (10000,)\n"
     ]
    }
   ],
   "source": [
    "# 학습 데이타, 테스트 데이터 확인하기\n",
    "print(X_train.shape, y_train.shape)\n",
    "print(X_test.shape, y_test.shape)"
   ]
  },
  {
   "cell_type": "code",
   "execution_count": 5,
   "metadata": {},
   "outputs": [
    {
     "data": {
      "text/plain": [
       "array([[  0,   0,   0,   0,   0,   0,   0,   0,   0,   0,   0,   0,   0,\n",
       "          0,   0,   0,   0,   0,   0,   0,   0,   0,   0,   0,   0,   0,\n",
       "          0,   0],\n",
       "       [  0,   0,   0,   0,   0,   0,   0,   0,   0,   0,   0,   0,   0,\n",
       "          0,   0,   0,   0,   0,   0,   0,   0,   0,   0,   0,   0,   0,\n",
       "          0,   0],\n",
       "       [  0,   0,   0,   0,   0,   0,   0,   0,   0,   0,   0,   0,   0,\n",
       "          0,   0,   0,   0,   0,   0,   0,   0,   0,   0,   0,   0,   0,\n",
       "          0,   0],\n",
       "       [  0,   0,   0,   0,   0,   0,   0,   0,   0,   0,   0,   0,   0,\n",
       "          0,   0,   0,   0,   0,   0,   0,   0,   0,   0,   0,   0,   0,\n",
       "          0,   0],\n",
       "       [  0,   0,   0,   0,   0,   0,   0,   0,   0,   0,   0,   0,   0,\n",
       "          0,   0,   0,   0,   0,   0,   0,   0,   0,   0,   0,   0,   0,\n",
       "          0,   0],\n",
       "       [  0,   0,   0,   0,   0,   0,   0,   0,   0,   0,   0,   0,   3,\n",
       "         18,  18,  18, 126, 136, 175,  26, 166, 255, 247, 127,   0,   0,\n",
       "          0,   0],\n",
       "       [  0,   0,   0,   0,   0,   0,   0,   0,  30,  36,  94, 154, 170,\n",
       "        253, 253, 253, 253, 253, 225, 172, 253, 242, 195,  64,   0,   0,\n",
       "          0,   0],\n",
       "       [  0,   0,   0,   0,   0,   0,   0,  49, 238, 253, 253, 253, 253,\n",
       "        253, 253, 253, 253, 251,  93,  82,  82,  56,  39,   0,   0,   0,\n",
       "          0,   0],\n",
       "       [  0,   0,   0,   0,   0,   0,   0,  18, 219, 253, 253, 253, 253,\n",
       "        253, 198, 182, 247, 241,   0,   0,   0,   0,   0,   0,   0,   0,\n",
       "          0,   0],\n",
       "       [  0,   0,   0,   0,   0,   0,   0,   0,  80, 156, 107, 253, 253,\n",
       "        205,  11,   0,  43, 154,   0,   0,   0,   0,   0,   0,   0,   0,\n",
       "          0,   0],\n",
       "       [  0,   0,   0,   0,   0,   0,   0,   0,   0,  14,   1, 154, 253,\n",
       "         90,   0,   0,   0,   0,   0,   0,   0,   0,   0,   0,   0,   0,\n",
       "          0,   0],\n",
       "       [  0,   0,   0,   0,   0,   0,   0,   0,   0,   0,   0, 139, 253,\n",
       "        190,   2,   0,   0,   0,   0,   0,   0,   0,   0,   0,   0,   0,\n",
       "          0,   0],\n",
       "       [  0,   0,   0,   0,   0,   0,   0,   0,   0,   0,   0,  11, 190,\n",
       "        253,  70,   0,   0,   0,   0,   0,   0,   0,   0,   0,   0,   0,\n",
       "          0,   0],\n",
       "       [  0,   0,   0,   0,   0,   0,   0,   0,   0,   0,   0,   0,  35,\n",
       "        241, 225, 160, 108,   1,   0,   0,   0,   0,   0,   0,   0,   0,\n",
       "          0,   0],\n",
       "       [  0,   0,   0,   0,   0,   0,   0,   0,   0,   0,   0,   0,   0,\n",
       "         81, 240, 253, 253, 119,  25,   0,   0,   0,   0,   0,   0,   0,\n",
       "          0,   0],\n",
       "       [  0,   0,   0,   0,   0,   0,   0,   0,   0,   0,   0,   0,   0,\n",
       "          0,  45, 186, 253, 253, 150,  27,   0,   0,   0,   0,   0,   0,\n",
       "          0,   0],\n",
       "       [  0,   0,   0,   0,   0,   0,   0,   0,   0,   0,   0,   0,   0,\n",
       "          0,   0,  16,  93, 252, 253, 187,   0,   0,   0,   0,   0,   0,\n",
       "          0,   0],\n",
       "       [  0,   0,   0,   0,   0,   0,   0,   0,   0,   0,   0,   0,   0,\n",
       "          0,   0,   0,   0, 249, 253, 249,  64,   0,   0,   0,   0,   0,\n",
       "          0,   0],\n",
       "       [  0,   0,   0,   0,   0,   0,   0,   0,   0,   0,   0,   0,   0,\n",
       "          0,  46, 130, 183, 253, 253, 207,   2,   0,   0,   0,   0,   0,\n",
       "          0,   0],\n",
       "       [  0,   0,   0,   0,   0,   0,   0,   0,   0,   0,   0,   0,  39,\n",
       "        148, 229, 253, 253, 253, 250, 182,   0,   0,   0,   0,   0,   0,\n",
       "          0,   0],\n",
       "       [  0,   0,   0,   0,   0,   0,   0,   0,   0,   0,  24, 114, 221,\n",
       "        253, 253, 253, 253, 201,  78,   0,   0,   0,   0,   0,   0,   0,\n",
       "          0,   0],\n",
       "       [  0,   0,   0,   0,   0,   0,   0,   0,  23,  66, 213, 253, 253,\n",
       "        253, 253, 198,  81,   2,   0,   0,   0,   0,   0,   0,   0,   0,\n",
       "          0,   0],\n",
       "       [  0,   0,   0,   0,   0,   0,  18, 171, 219, 253, 253, 253, 253,\n",
       "        195,  80,   9,   0,   0,   0,   0,   0,   0,   0,   0,   0,   0,\n",
       "          0,   0],\n",
       "       [  0,   0,   0,   0,  55, 172, 226, 253, 253, 253, 253, 244, 133,\n",
       "         11,   0,   0,   0,   0,   0,   0,   0,   0,   0,   0,   0,   0,\n",
       "          0,   0],\n",
       "       [  0,   0,   0,   0, 136, 253, 253, 253, 212, 135, 132,  16,   0,\n",
       "          0,   0,   0,   0,   0,   0,   0,   0,   0,   0,   0,   0,   0,\n",
       "          0,   0],\n",
       "       [  0,   0,   0,   0,   0,   0,   0,   0,   0,   0,   0,   0,   0,\n",
       "          0,   0,   0,   0,   0,   0,   0,   0,   0,   0,   0,   0,   0,\n",
       "          0,   0],\n",
       "       [  0,   0,   0,   0,   0,   0,   0,   0,   0,   0,   0,   0,   0,\n",
       "          0,   0,   0,   0,   0,   0,   0,   0,   0,   0,   0,   0,   0,\n",
       "          0,   0],\n",
       "       [  0,   0,   0,   0,   0,   0,   0,   0,   0,   0,   0,   0,   0,\n",
       "          0,   0,   0,   0,   0,   0,   0,   0,   0,   0,   0,   0,   0,\n",
       "          0,   0]], dtype=uint8)"
      ]
     },
     "execution_count": 5,
     "metadata": {},
     "output_type": "execute_result"
    }
   ],
   "source": [
    "X_train[0]"
   ]
  },
  {
   "cell_type": "code",
   "execution_count": 8,
   "metadata": {},
   "outputs": [
    {
     "data": {
      "text/plain": [
       "array([5], dtype=uint8)"
      ]
     },
     "execution_count": 8,
     "metadata": {},
     "output_type": "execute_result"
    }
   ],
   "source": [
    "y_train[:1]"
   ]
  },
  {
   "cell_type": "markdown",
   "metadata": {},
   "source": [
    "### 2) 데이터 시각화"
   ]
  },
  {
   "cell_type": "code",
   "execution_count": 14,
   "metadata": {},
   "outputs": [
    {
     "data": {
      "image/png": "[encoded data removed]",
      "text/plain": [
       "<Figure size 432x288 with 1 Axes>"
      ]
     },
     "metadata": {
      "needs_background": "light"
     },
     "output_type": "display_data"
    }
   ],
   "source": [
    "# 그래프로 확인 \n",
    "import matplotlib.pyplot as plt\n",
    "\n",
    "plt.imshow(X_train[0]) \n",
    "plt.title('Label : %d' % (y_train[0]), fontsize=15)\n",
    "plt.show()"
   ]
  },
  {
   "cell_type": "markdown",
   "metadata": {},
   "source": [
    "- cmap = 'Greys' 옵션을 지정해 흑백으로 출력"
   ]
  },
  {
   "cell_type": "code",
   "execution_count": 13,
   "metadata": {},
   "outputs": [
    {
     "data": {
      "image/png": "[encoded data removed]",
      "text/plain": [
       "<Figure size 432x288 with 1 Axes>"
      ]
     },
     "metadata": {
      "needs_background": "light"
     },
     "output_type": "display_data"
    }
   ],
   "source": [
    "# 그래프로 확인 - 흑백\n",
    "import matplotlib.pyplot as plt\n",
    "\n",
    "plt.imshow(X_train[0], cmap='Greys') # 흑백 출력\n",
    "plt.title('Label : %d' % (y_train[0]), fontsize=15)\n",
    "plt.show()"
   ]
  },
  {
   "cell_type": "markdown",
   "metadata": {},
   "source": [
    "### 3) 코드로 이미지 확인하기\n",
    "- 이미지는 가로 28 × 세로 28 = 총 784개의 픽셀로 이루어져 있음\n",
    "- 각 픽셀은 밝기 정도에 따라 0부터 255까지 의 등급을 매김\n",
    "- 흰색 배경이 0, 글씨가 들어간 곳은 0~255까지 숫자 중 하나로 채워져 긴 행렬로 이루어진 하나의 집합으로 변환"
   ]
  },
  {
   "cell_type": "code",
   "execution_count": 15,
   "metadata": {},
   "outputs": [
    {
     "name": "stdout",
     "output_type": "stream",
     "text": [
      "0\t0\t0\t0\t0\t0\t0\t0\t0\t0\t0\t0\t0\t0\t0\t0\t0\t0\t0\t0\t0\t0\t0\t0\t0\t0\t0\t0\t\n",
      "0\t0\t0\t0\t0\t0\t0\t0\t0\t0\t0\t0\t0\t0\t0\t0\t0\t0\t0\t0\t0\t0\t0\t0\t0\t0\t0\t0\t\n",
      "0\t0\t0\t0\t0\t0\t0\t0\t0\t0\t0\t0\t0\t0\t0\t0\t0\t0\t0\t0\t0\t0\t0\t0\t0\t0\t0\t0\t\n",
      "0\t0\t0\t0\t0\t0\t0\t0\t0\t0\t0\t0\t0\t0\t0\t0\t0\t0\t0\t0\t0\t0\t0\t0\t0\t0\t0\t0\t\n",
      "0\t0\t0\t0\t0\t0\t0\t0\t0\t0\t0\t0\t0\t0\t0\t0\t0\t0\t0\t0\t0\t0\t0\t0\t0\t0\t0\t0\t\n",
      "0\t0\t0\t0\t0\t0\t0\t0\t0\t0\t0\t0\t3\t18\t18\t18\t126\t136\t175\t26\t166\t255\t247\t127\t0\t0\t0\t0\t\n",
      "0\t0\t0\t0\t0\t0\t0\t0\t30\t36\t94\t154\t170\t253\t253\t253\t253\t253\t225\t172\t253\t242\t195\t64\t0\t0\t0\t0\t\n",
      "0\t0\t0\t0\t0\t0\t0\t49\t238\t253\t253\t253\t253\t253\t253\t253\t253\t251\t93\t82\t82\t56\t39\t0\t0\t0\t0\t0\t\n",
      "0\t0\t0\t0\t0\t0\t0\t18\t219\t253\t253\t253\t253\t253\t198\t182\t247\t241\t0\t0\t0\t0\t0\t0\t0\t0\t0\t0\t\n",
      "0\t0\t0\t0\t0\t0\t0\t0\t80\t156\t107\t253\t253\t205\t11\t0\t43\t154\t0\t0\t0\t0\t0\t0\t0\t0\t0\t0\t\n",
      "0\t0\t0\t0\t0\t0\t0\t0\t0\t14\t1\t154\t253\t90\t0\t0\t0\t0\t0\t0\t0\t0\t0\t0\t0\t0\t0\t0\t\n",
      "0\t0\t0\t0\t0\t0\t0\t0\t0\t0\t0\t139\t253\t190\t2\t0\t0\t0\t0\t0\t0\t0\t0\t0\t0\t0\t0\t0\t\n",
      "0\t0\t0\t0\t0\t0\t0\t0\t0\t0\t0\t11\t190\t253\t70\t0\t0\t0\t0\t0\t0\t0\t0\t0\t0\t0\t0\t0\t\n",
      "0\t0\t0\t0\t0\t0\t0\t0\t0\t0\t0\t0\t35\t241\t225\t160\t108\t1\t0\t0\t0\t0\t0\t0\t0\t0\t0\t0\t\n",
      "0\t0\t0\t0\t0\t0\t0\t0\t0\t0\t0\t0\t0\t81\t240\t253\t253\t119\t25\t0\t0\t0\t0\t0\t0\t0\t0\t0\t\n",
      "0\t0\t0\t0\t0\t0\t0\t0\t0\t0\t0\t0\t0\t0\t45\t186\t253\t253\t150\t27\t0\t0\t0\t0\t0\t0\t0\t0\t\n",
      "0\t0\t0\t0\t0\t0\t0\t0\t0\t0\t0\t0\t0\t0\t0\t16\t93\t252\t253\t187\t0\t0\t0\t0\t0\t0\t0\t0\t\n",
      "0\t0\t0\t0\t0\t0\t0\t0\t0\t0\t0\t0\t0\t0\t0\t0\t0\t249\t253\t249\t64\t0\t0\t0\t0\t0\t0\t0\t\n",
      "0\t0\t0\t0\t0\t0\t0\t0\t0\t0\t0\t0\t0\t0\t46\t130\t183\t253\t253\t207\t2\t0\t0\t0\t0\t0\t0\t0\t\n",
      "0\t0\t0\t0\t0\t0\t0\t0\t0\t0\t0\t0\t39\t148\t229\t253\t253\t253\t250\t182\t0\t0\t0\t0\t0\t0\t0\t0\t\n",
      "0\t0\t0\t0\t0\t0\t0\t0\t0\t0\t24\t114\t221\t253\t253\t253\t253\t201\t78\t0\t0\t0\t0\t0\t0\t0\t0\t0\t\n",
      "0\t0\t0\t0\t0\t0\t0\t0\t23\t66\t213\t253\t253\t253\t253\t198\t81\t2\t0\t0\t0\t0\t0\t0\t0\t0\t0\t0\t\n",
      "0\t0\t0\t0\t0\t0\t18\t171\t219\t253\t253\t253\t253\t195\t80\t9\t0\t0\t0\t0\t0\t0\t0\t0\t0\t0\t0\t0\t\n",
      "0\t0\t0\t0\t55\t172\t226\t253\t253\t253\t253\t244\t133\t11\t0\t0\t0\t0\t0\t0\t0\t0\t0\t0\t0\t0\t0\t0\t\n",
      "0\t0\t0\t0\t136\t253\t253\t253\t212\t135\t132\t16\t0\t0\t0\t0\t0\t0\t0\t0\t0\t0\t0\t0\t0\t0\t0\t0\t\n",
      "0\t0\t0\t0\t0\t0\t0\t0\t0\t0\t0\t0\t0\t0\t0\t0\t0\t0\t0\t0\t0\t0\t0\t0\t0\t0\t0\t0\t\n",
      "0\t0\t0\t0\t0\t0\t0\t0\t0\t0\t0\t0\t0\t0\t0\t0\t0\t0\t0\t0\t0\t0\t0\t0\t0\t0\t0\t0\t\n",
      "0\t0\t0\t0\t0\t0\t0\t0\t0\t0\t0\t0\t0\t0\t0\t0\t0\t0\t0\t0\t0\t0\t0\t0\t0\t0\t0\t0\t\n"
     ]
    }
   ],
   "source": [
    "# 코드로 확인\n",
    "import sys\n",
    "\n",
    "for x in X_train[0]:\n",
    "    for i in x:\n",
    "        sys.stdout.write('%d\\t' % i)\n",
    "    sys.stdout.write('\\n')"
   ]
  },
  {
   "cell_type": "markdown",
   "metadata": {},
   "source": [
    "### 2. 검증 데이터셋 만들기\n",
    "- 학습 데이타셋을 학습 데이타셋과 검증 데이타셋으로 분리"
   ]
  },
  {
   "cell_type": "code",
   "execution_count": 17,
   "metadata": {},
   "outputs": [],
   "source": [
    "# 학습 데이타셋과 검증 데이터셋을 0.7:0.3의 비율로 분리\n",
    "from sklearn.model_selection import train_test_split\n",
    "\n",
    "X_train, X_val, y_train, y_val = train_test_split(X_train, y_train,\n",
    "                                                 test_size=0.3,\n",
    "                                                 random_state=0)"
   ]
  },
  {
   "cell_type": "code",
   "execution_count": 18,
   "metadata": {},
   "outputs": [
    {
     "name": "stdout",
     "output_type": "stream",
     "text": [
      "학습 데이터: (42000, 28, 28), 레이블: (42000,)\n",
      "검증 데이터: (18000, 28, 28), 레이블: (18000,)\n",
      "테스트 데이터: (10000, 28, 28), 레이블: (10000,)\n"
     ]
    }
   ],
   "source": [
    "print(f'학습 데이터: {X_train.shape}, 레이블: {y_train.shape}')\n",
    "print(f'검증 데이터: {X_val.shape}, 레이블: {y_val.shape}')\n",
    "print(f'테스트 데이터: {X_test.shape}, 레이블: {y_test.shape}')"
   ]
  },
  {
   "cell_type": "markdown",
   "metadata": {},
   "source": [
    "### 3. 데이터 전처리\n",
    "### 1) 피쳐 데이터 전처리\n",
    "- 모델 입력을 하기 위해 피쳐 데이타 전처리 --> 정규화 이용\n",
    "- 2차원 이미지 데이타(28, 28) -> 1차원으로 변경(28*28=784) -> RGB(0~ 255)의 최대값인 255로 나눈다."
   ]
  },
  {
   "cell_type": "markdown",
   "metadata": {},
   "source": [
    "#### 참고) numpy의 reshape(), flatten() 함수를 이용한 1차원으로 변경"
   ]
  },
  {
   "cell_type": "code",
   "execution_count": 20,
   "metadata": {},
   "outputs": [
    {
     "name": "stdout",
     "output_type": "stream",
     "text": [
      "[0 1 2 3 4 5 6 7 8 9] (10,) 1\n",
      "--------------------------------------------------\n",
      "[[0 1 2 3 4]\n",
      " [5 6 7 8 9]] (2, 5) 2\n",
      "--------------------------------------------------\n",
      "[0 1 2 3 4 5 6 7 8 9] (10,) 1\n",
      "--------------------------------------------------\n",
      "[0 1 2 3 4 5 6 7 8 9] (10,) 1\n"
     ]
    }
   ],
   "source": [
    "# numpy의 reshape() 함수\n",
    "arr1 = np.arange(10)\n",
    "print(arr1, arr1.shape, arr1.ndim) \n",
    "print('-'*50)\n",
    "\n",
    "# 2차원으로 변경\n",
    "arr2 = arr1.reshape(2, -1)\n",
    "print(arr2, arr2.shape, arr2.ndim) \n",
    "print('-'*50)\n",
    "\n",
    "# 1차원으로 변경1\n",
    "arr3 = arr2.reshape(-1)\n",
    "print(arr3, arr3.shape, arr3.ndim)\n",
    "print('-'*50)\n",
    "\n",
    "# 1차원으로 변경2\n",
    "arr4 = arr2.flatten()\n",
    "print(arr4, arr4.shape, arr4.ndim)"
   ]
  },
  {
   "cell_type": "code",
   "execution_count": 21,
   "metadata": {},
   "outputs": [
    {
     "name": "stdout",
     "output_type": "stream",
     "text": [
      "42000 18000 10000\n",
      "(42000, 784)\n",
      "(18000, 784)\n",
      "(10000, 784)\n"
     ]
    }
   ],
   "source": [
    "# 피쳐 데이타 전처리 - 1차원 변경 --> 정규화 \n",
    "num_x_train = X_train.shape[0]\n",
    "num_x_val = X_val.shape[0]\n",
    "num_x_test = X_test.shape[0]\n",
    "print(num_x_train, num_x_val, num_x_test)\n",
    "\n",
    "# 1) 데이터를 2차원(28, 28)에서 1차원(28*28=784)으로 변경\n",
    "# 2) 모델의 입력으로 사용하기 위한 피쳐 전처리 - 정규화\n",
    "X_train = X_train.reshape((num_x_train, 28*28)) / 255\n",
    "X_val = X_val.reshape((num_x_val, 28*28)) / 255\n",
    "X_test = X_test.reshape((num_x_test, 28*28)) / 255\n",
    "\n",
    "# 1차원으로 변경 확인\n",
    "print(X_train.shape)\n",
    "print(X_val.shape)\n",
    "print(X_test.shape)"
   ]
  },
  {
   "cell_type": "code",
   "execution_count": 22,
   "metadata": {},
   "outputs": [
    {
     "data": {
      "text/plain": [
       "array([0.        , 0.        , 0.        , 0.        , 0.        ,\n",
       "       0.        , 0.        , 0.        , 0.        , 0.        ,\n",
       "       0.        , 0.        , 0.        , 0.        , 0.        ,\n",
       "       0.        , 0.        , 0.        , 0.        , 0.        ,\n",
       "       0.        , 0.        , 0.        , 0.        , 0.        ,\n",
       "       0.        , 0.        , 0.        , 0.        , 0.        ,\n",
       "       0.        , 0.        , 0.        , 0.        , 0.        ,\n",
       "       0.        , 0.        , 0.        , 0.        , 0.        ,\n",
       "       0.        , 0.        , 0.        , 0.        , 0.        ,\n",
       "       0.        , 0.        , 0.        , 0.        , 0.        ,\n",
       "       0.        , 0.        , 0.        , 0.        , 0.        ,\n",
       "       0.        , 0.        , 0.        , 0.        , 0.        ,\n",
       "       0.        , 0.        , 0.        , 0.        , 0.        ,\n",
       "       0.        , 0.        , 0.        , 0.        , 0.        ,\n",
       "       0.        , 0.        , 0.        , 0.        , 0.        ,\n",
       "       0.        , 0.        , 0.        , 0.        , 0.        ,\n",
       "       0.        , 0.        , 0.        , 0.        , 0.        ,\n",
       "       0.        , 0.        , 0.        , 0.        , 0.        ,\n",
       "       0.        , 0.        , 0.        , 0.        , 0.        ,\n",
       "       0.        , 0.        , 0.        , 0.        , 0.        ,\n",
       "       0.        , 0.        , 0.        , 0.        , 0.        ,\n",
       "       0.        , 0.        , 0.        , 0.        , 0.        ,\n",
       "       0.        , 0.        , 0.        , 0.        , 0.        ,\n",
       "       0.        , 0.        , 0.        , 0.        , 0.        ,\n",
       "       0.        , 0.        , 0.        , 0.        , 0.        ,\n",
       "       0.        , 0.        , 0.        , 0.        , 0.        ,\n",
       "       0.        , 0.        , 0.        , 0.        , 0.        ,\n",
       "       0.        , 0.        , 0.        , 0.        , 0.        ,\n",
       "       0.        , 0.        , 0.        , 0.        , 0.        ,\n",
       "       0.        , 0.        , 0.        , 0.        , 0.        ,\n",
       "       0.        , 0.        , 0.        , 0.        , 0.        ,\n",
       "       0.        , 0.        , 0.        , 0.        , 0.        ,\n",
       "       0.        , 0.        , 0.        , 0.        , 0.        ,\n",
       "       0.        , 0.        , 0.        , 0.        , 0.        ,\n",
       "       0.        , 0.        , 0.        , 0.        , 0.        ,\n",
       "       0.        , 0.        , 0.        , 0.        , 0.        ,\n",
       "       0.        , 0.        , 0.        , 0.        , 0.        ,\n",
       "       0.        , 0.        , 0.        , 0.        , 0.        ,\n",
       "       0.        , 0.        , 0.        , 0.        , 0.        ,\n",
       "       0.        , 0.        , 0.        , 0.        , 0.        ,\n",
       "       0.        , 0.        , 0.        , 0.        , 0.        ,\n",
       "       0.        , 0.        , 0.        , 0.        , 0.        ,\n",
       "       0.        , 0.        , 0.        , 0.        , 0.        ,\n",
       "       0.        , 0.        , 0.        , 0.        , 0.        ,\n",
       "       0.        , 0.        , 0.        , 0.        , 0.        ,\n",
       "       0.        , 0.        , 0.        , 0.        , 0.        ,\n",
       "       0.        , 0.        , 0.        , 0.        , 0.        ,\n",
       "       0.        , 0.        , 0.        , 0.        , 0.        ,\n",
       "       0.        , 0.        , 0.        , 0.09411765, 0.17254902,\n",
       "       0.34509804, 0.59607843, 0.59607843, 0.16078431, 0.        ,\n",
       "       0.        , 0.        , 0.        , 0.        , 0.        ,\n",
       "       0.        , 0.        , 0.        , 0.        , 0.        ,\n",
       "       0.        , 0.        , 0.        , 0.        , 0.        ,\n",
       "       0.        , 0.07058824, 0.47843137, 0.74509804, 0.74509804,\n",
       "       0.74509804, 0.88235294, 0.99607843, 0.99607843, 0.99607843,\n",
       "       0.99607843, 0.89019608, 0.        , 0.        , 0.        ,\n",
       "       0.        , 0.        , 0.        , 0.        , 0.        ,\n",
       "       0.        , 0.        , 0.        , 0.        , 0.        ,\n",
       "       0.        , 0.29411765, 0.47058824, 0.85882353, 0.73333333,\n",
       "       0.99607843, 0.99607843, 0.99607843, 0.98039216, 0.99607843,\n",
       "       1.        , 0.99607843, 0.95686275, 0.77254902, 0.58823529,\n",
       "       0.        , 0.        , 0.        , 0.        , 0.        ,\n",
       "       0.        , 0.        , 0.        , 0.        , 0.        ,\n",
       "       0.        , 0.        , 0.        , 0.01176471, 0.69019608,\n",
       "       0.99607843, 0.99607843, 0.8745098 , 0.65098039, 0.38039216,\n",
       "       0.38039216, 0.23529412, 0.36862745, 0.38039216, 0.38039216,\n",
       "       0.00784314, 0.        , 0.        , 0.        , 0.        ,\n",
       "       0.        , 0.        , 0.        , 0.        , 0.        ,\n",
       "       0.        , 0.        , 0.        , 0.        , 0.        ,\n",
       "       0.        , 0.37254902, 0.99607843, 0.99607843, 0.97647059,\n",
       "       0.23921569, 0.        , 0.        , 0.        , 0.        ,\n",
       "       0.        , 0.        , 0.        , 0.        , 0.        ,\n",
       "       0.        , 0.        , 0.        , 0.        , 0.        ,\n",
       "       0.        , 0.        , 0.        , 0.        , 0.        ,\n",
       "       0.        , 0.        , 0.        , 0.        , 0.49803922,\n",
       "       0.99607843, 0.99607843, 0.36078431, 0.        , 0.        ,\n",
       "       0.        , 0.        , 0.        , 0.        , 0.        ,\n",
       "       0.        , 0.        , 0.        , 0.        , 0.        ,\n",
       "       0.        , 0.        , 0.        , 0.        , 0.        ,\n",
       "       0.        , 0.        , 0.        , 0.        , 0.        ,\n",
       "       0.        , 0.        , 0.70196078, 0.91764706, 0.99607843,\n",
       "       0.59607843, 0.        , 0.        , 0.        , 0.        ,\n",
       "       0.        , 0.        , 0.        , 0.        , 0.        ,\n",
       "       0.        , 0.        , 0.        , 0.        , 0.        ,\n",
       "       0.        , 0.        , 0.        , 0.        , 0.        ,\n",
       "       0.        , 0.        , 0.        , 0.        , 0.        ,\n",
       "       0.        , 0.28235294, 0.99607843, 0.98431373, 0.28627451,\n",
       "       0.        , 0.        , 0.        , 0.        , 0.        ,\n",
       "       0.        , 0.        , 0.        , 0.        , 0.        ,\n",
       "       0.        , 0.        , 0.        , 0.        , 0.        ,\n",
       "       0.        , 0.        , 0.        , 0.        , 0.        ,\n",
       "       0.        , 0.        , 0.        , 0.        , 0.09411765,\n",
       "       0.63137255, 0.99215686, 0.86666667, 0.14509804, 0.        ,\n",
       "       0.        , 0.        , 0.        , 0.        , 0.        ,\n",
       "       0.        , 0.        , 0.        , 0.        , 0.        ,\n",
       "       0.        , 0.        , 0.        , 0.        , 0.        ,\n",
       "       0.        , 0.41960784, 0.1372549 , 0.03137255, 0.        ,\n",
       "       0.        , 0.        , 0.        , 0.        , 0.81568627,\n",
       "       0.99607843, 0.63529412, 0.        , 0.        , 0.        ,\n",
       "       0.        , 0.        , 0.        , 0.        , 0.        ,\n",
       "       0.        , 0.        , 0.        , 0.        , 0.        ,\n",
       "       0.        , 0.        , 0.        , 0.        , 0.83921569,\n",
       "       0.91764706, 0.83137255, 0.81176471, 0.49411765, 0.56470588,\n",
       "       0.38823529, 0.38823529, 0.68627451, 0.99607843, 0.77254902,\n",
       "       0.02352941, 0.        , 0.        , 0.        , 0.        ,\n",
       "       0.        , 0.        , 0.        , 0.        , 0.        ,\n",
       "       0.        , 0.        , 0.        , 0.        , 0.        ,\n",
       "       0.        , 0.        , 0.08627451, 0.77254902, 0.98431373,\n",
       "       0.99607843, 0.99607843, 0.99607843, 0.99607843, 0.99607843,\n",
       "       0.99607843, 0.99607843, 0.99607843, 0.24313725, 0.        ,\n",
       "       0.        , 0.        , 0.        , 0.        , 0.        ,\n",
       "       0.        , 0.        , 0.        , 0.        , 0.        ,\n",
       "       0.        , 0.        , 0.        , 0.        , 0.        ,\n",
       "       0.        , 0.        , 0.27843137, 0.39215686, 0.93333333,\n",
       "       0.89019608, 0.99607843, 0.99607843, 1.        , 0.94509804,\n",
       "       0.58823529, 0.01960784, 0.        , 0.        , 0.        ,\n",
       "       0.        , 0.        , 0.        , 0.        , 0.        ,\n",
       "       0.        , 0.        , 0.        , 0.        , 0.        ,\n",
       "       0.        , 0.        , 0.        , 0.        , 0.        ,\n",
       "       0.        , 0.        , 0.1254902 , 0.09803922, 0.16862745,\n",
       "       0.16862745, 0.16862745, 0.13333333, 0.        , 0.        ,\n",
       "       0.        , 0.        , 0.        , 0.        , 0.        ,\n",
       "       0.        , 0.        , 0.        , 0.        , 0.        ,\n",
       "       0.        , 0.        , 0.        , 0.        , 0.        ,\n",
       "       0.        , 0.        , 0.        , 0.        , 0.        ,\n",
       "       0.        , 0.        , 0.        , 0.        , 0.        ,\n",
       "       0.        , 0.        , 0.        , 0.        , 0.        ,\n",
       "       0.        , 0.        , 0.        , 0.        , 0.        ,\n",
       "       0.        , 0.        , 0.        , 0.        , 0.        ,\n",
       "       0.        , 0.        , 0.        , 0.        , 0.        ,\n",
       "       0.        , 0.        , 0.        , 0.        , 0.        ,\n",
       "       0.        , 0.        , 0.        , 0.        , 0.        ,\n",
       "       0.        , 0.        , 0.        , 0.        , 0.        ,\n",
       "       0.        , 0.        , 0.        , 0.        , 0.        ,\n",
       "       0.        , 0.        , 0.        , 0.        , 0.        ,\n",
       "       0.        , 0.        , 0.        , 0.        , 0.        ,\n",
       "       0.        , 0.        , 0.        , 0.        , 0.        ,\n",
       "       0.        , 0.        , 0.        , 0.        , 0.        ,\n",
       "       0.        , 0.        , 0.        , 0.        , 0.        ,\n",
       "       0.        , 0.        , 0.        , 0.        , 0.        ,\n",
       "       0.        , 0.        , 0.        , 0.        , 0.        ,\n",
       "       0.        , 0.        , 0.        , 0.        , 0.        ,\n",
       "       0.        , 0.        , 0.        , 0.        , 0.        ,\n",
       "       0.        , 0.        , 0.        , 0.        , 0.        ,\n",
       "       0.        , 0.        , 0.        , 0.        , 0.        ,\n",
       "       0.        , 0.        , 0.        , 0.        , 0.        ,\n",
       "       0.        , 0.        , 0.        , 0.        , 0.        ,\n",
       "       0.        , 0.        , 0.        , 0.        , 0.        ,\n",
       "       0.        , 0.        , 0.        , 0.        , 0.        ,\n",
       "       0.        , 0.        , 0.        , 0.        , 0.        ,\n",
       "       0.        , 0.        , 0.        , 0.        , 0.        ,\n",
       "       0.        , 0.        , 0.        , 0.        , 0.        ,\n",
       "       0.        , 0.        , 0.        , 0.        , 0.        ,\n",
       "       0.        , 0.        , 0.        , 0.        , 0.        ,\n",
       "       0.        , 0.        , 0.        , 0.        , 0.        ,\n",
       "       0.        , 0.        , 0.        , 0.        , 0.        ,\n",
       "       0.        , 0.        , 0.        , 0.        ])"
      ]
     },
     "execution_count": 22,
     "metadata": {},
     "output_type": "execute_result"
    }
   ],
   "source": [
    "X_train[0]"
   ]
  },
  {
   "cell_type": "markdown",
   "metadata": {},
   "source": [
    "### 2) 레이블(클래스) 전처리\n",
    "- 다중 분류(0~9)를 진행하므로 레이블을 원-핫 인코딩 형태로 변경"
   ]
  },
  {
   "cell_type": "code",
   "execution_count": 23,
   "metadata": {},
   "outputs": [],
   "source": [
    "from tensorflow.keras.utils import to_categorical\n",
    "\n",
    "# 각 데이터의 레이블을 범주형 형태의 원-핫 인코딩 형태로 변경\n",
    "y_train = to_categorical(y_train)\n",
    "y_val = to_categorical(y_val)\n",
    "y_test = to_categorical(y_test)"
   ]
  },
  {
   "cell_type": "code",
   "execution_count": 24,
   "metadata": {},
   "outputs": [
    {
     "data": {
      "text/plain": [
       "array([0., 0., 0., 0., 0., 1., 0., 0., 0., 0.], dtype=float32)"
      ]
     },
     "execution_count": 24,
     "metadata": {},
     "output_type": "execute_result"
    }
   ],
   "source": [
    "y_train[0]"
   ]
  },
  {
   "cell_type": "markdown",
   "metadata": {},
   "source": [
    "### 4. 모델 정의"
   ]
  },
  {
   "cell_type": "code",
   "execution_count": 25,
   "metadata": {},
   "outputs": [],
   "source": [
    "from tensorflow.keras.models import Sequential\n",
    "from tensorflow.keras.layers import Dense\n",
    "\n",
    "# 모델 생성\n",
    "model = Sequential()\n",
    "model.add(Dense(64, input_shape=(784, ), activation='relu')) # 입력층 - 784개 1차원, 은닉층1 - 64노드, 활성화함수 - relu\n",
    "model.add(Dense(32, activation='relu'))    # 은닉층2 - 32노드, 활성화함수 - relu\n",
    "model.add(Dense(10, activation='softmax')) # 출력층 - 10개의 출력, 활성화함수 - softmax(다중분류)"
   ]
  },
  {
   "cell_type": "code",
   "execution_count": 26,
   "metadata": {},
   "outputs": [
    {
     "name": "stdout",
     "output_type": "stream",
     "text": [
      "Model: \"sequential\"\n",
      "_________________________________________________________________\n",
      "Layer (type)                 Output Shape              Param #   \n",
      "=================================================================\n",
      "dense (Dense)                (None, 64)                50240     \n",
      "_________________________________________________________________\n",
      "dense_1 (Dense)              (None, 32)                2080      \n",
      "_________________________________________________________________\n",
      "dense_2 (Dense)              (None, 10)                330       \n",
      "=================================================================\n",
      "Total params: 52,650\n",
      "Trainable params: 52,650\n",
      "Non-trainable params: 0\n",
      "_________________________________________________________________\n"
     ]
    }
   ],
   "source": [
    "# 모델 요약\n",
    "model.summary()"
   ]
  },
  {
   "cell_type": "markdown",
   "metadata": {},
   "source": [
    "- Param #\n",
    "    - 1) 입력 + 은닉층1(dense) = 784(입력) X 64(노드) + 64(biases) = 50,240개\n",
    "    - 2) 은닉층2(dense_1) = 64(은닉층1 노드) X 32(은닉층2 노드) + 32(biases) = 2,080개\n",
    "    - 3) 출력층 = 32(은닉층2 노드) X 10(출력갯수) + 10(biases) = 330개"
   ]
  },
  {
   "cell_type": "markdown",
   "metadata": {},
   "source": [
    "### 5. 컴파일 설정 : model.compile()\n",
    "- 1) 손실 함수 : 다중분류 - 'categorical_crossentropy'\n",
    "- 2) 옵티마이저(최적화 함수) : 'adam'\n",
    "- 3) 모니터링 할 평가지표 : 정확도 - 'acc'"
   ]
  },
  {
   "cell_type": "code",
   "execution_count": 27,
   "metadata": {},
   "outputs": [],
   "source": [
    "model.compile(loss = 'categorical_crossentropy',\n",
    "              optimizer='adam',\n",
    "              metrics = ['acc'])"
   ]
  },
  {
   "cell_type": "markdown",
   "metadata": {},
   "source": [
    "### 6. 모델 학습하기 : model.fit()\n",
    "- 1) 에포크 설정 : 30번 반복 실행\n",
    "- 2) 배치 사이즈 설정 : 128 사이즈로 잘라서 실행"
   ]
  },
  {
   "cell_type": "code",
   "execution_count": 28,
   "metadata": {
    "scrolled": true
   },
   "outputs": [
    {
     "name": "stdout",
     "output_type": "stream",
     "text": [
      "Epoch 1/30\n",
      "WARNING:tensorflow:AutoGraph could not transform <function Model.make_train_function.<locals>.train_function at 0x000002C4D31493A8> and will run it as-is.\n",
      "Please report this to the TensorFlow team. When filing the bug, set the verbosity to 10 (on Linux, `export AUTOGRAPH_VERBOSITY=10`) and attach the full output.\n",
      "Cause: Bad argument number for Name: 4, expecting 3\n",
      "To silence this warning, decorate the function with @tf.autograph.experimental.do_not_convert\n",
      "WARNING: AutoGraph could not transform <function Model.make_train_function.<locals>.train_function at 0x000002C4D31493A8> and will run it as-is.\n",
      "Please report this to the TensorFlow team. When filing the bug, set the verbosity to 10 (on Linux, `export AUTOGRAPH_VERBOSITY=10`) and attach the full output.\n",
      "Cause: Bad argument number for Name: 4, expecting 3\n",
      "To silence this warning, decorate the function with @tf.autograph.experimental.do_not_convert\n",
      "323/329 [============================>.] - ETA: 0s - loss: 0.5430 - acc: 0.8443WARNING:tensorflow:AutoGraph could not transform <function Model.make_test_function.<locals>.test_function at 0x000002C4B12E7678> and will run it as-is.\n",
      "Please report this to the TensorFlow team. When filing the bug, set the verbosity to 10 (on Linux, `export AUTOGRAPH_VERBOSITY=10`) and attach the full output.\n",
      "Cause: Bad argument number for Name: 4, expecting 3\n",
      "To silence this warning, decorate the function with @tf.autograph.experimental.do_not_convert\n",
      "WARNING: AutoGraph could not transform <function Model.make_test_function.<locals>.test_function at 0x000002C4B12E7678> and will run it as-is.\n",
      "Please report this to the TensorFlow team. When filing the bug, set the verbosity to 10 (on Linux, `export AUTOGRAPH_VERBOSITY=10`) and attach the full output.\n",
      "Cause: Bad argument number for Name: 4, expecting 3\n",
      "To silence this warning, decorate the function with @tf.autograph.experimental.do_not_convert\n",
      "329/329 [==============================] - 1s 3ms/step - loss: 0.5379 - acc: 0.8459 - val_loss: 0.2551 - val_acc: 0.9259\n",
      "Epoch 2/30\n",
      "329/329 [==============================] - 1s 3ms/step - loss: 0.2134 - acc: 0.9388 - val_loss: 0.1937 - val_acc: 0.9441\n",
      "Epoch 3/30\n",
      "329/329 [==============================] - 1s 3ms/step - loss: 0.1577 - acc: 0.9537 - val_loss: 0.1633 - val_acc: 0.9517\n",
      "Epoch 4/30\n",
      "329/329 [==============================] - 1s 3ms/step - loss: 0.1256 - acc: 0.9637 - val_loss: 0.1412 - val_acc: 0.9584\n",
      "Epoch 5/30\n",
      "329/329 [==============================] - 1s 3ms/step - loss: 0.1069 - acc: 0.9683 - val_loss: 0.1324 - val_acc: 0.9606\n",
      "Epoch 6/30\n",
      "329/329 [==============================] - 1s 3ms/step - loss: 0.0899 - acc: 0.9731 - val_loss: 0.1280 - val_acc: 0.9619\n",
      "Epoch 7/30\n",
      "329/329 [==============================] - 1s 3ms/step - loss: 0.0784 - acc: 0.9760 - val_loss: 0.1257 - val_acc: 0.9614\n",
      "Epoch 8/30\n",
      "329/329 [==============================] - 1s 3ms/step - loss: 0.0686 - acc: 0.9796 - val_loss: 0.1178 - val_acc: 0.9653\n",
      "Epoch 9/30\n",
      "329/329 [==============================] - 1s 3ms/step - loss: 0.0590 - acc: 0.9821 - val_loss: 0.1157 - val_acc: 0.9659\n",
      "Epoch 10/30\n",
      "329/329 [==============================] - 1s 3ms/step - loss: 0.0525 - acc: 0.9840 - val_loss: 0.1155 - val_acc: 0.9661\n",
      "Epoch 11/30\n",
      "329/329 [==============================] - 1s 3ms/step - loss: 0.0457 - acc: 0.9865 - val_loss: 0.1446 - val_acc: 0.9589\n",
      "Epoch 12/30\n",
      "329/329 [==============================] - 1s 3ms/step - loss: 0.0398 - acc: 0.9879 - val_loss: 0.1180 - val_acc: 0.9671\n",
      "Epoch 13/30\n",
      "329/329 [==============================] - 1s 3ms/step - loss: 0.0344 - acc: 0.9894 - val_loss: 0.1182 - val_acc: 0.9667\n",
      "Epoch 14/30\n",
      "329/329 [==============================] - 1s 3ms/step - loss: 0.0336 - acc: 0.9899 - val_loss: 0.1162 - val_acc: 0.9679\n",
      "Epoch 15/30\n",
      "329/329 [==============================] - 1s 3ms/step - loss: 0.0292 - acc: 0.9915 - val_loss: 0.1325 - val_acc: 0.9641\n",
      "Epoch 16/30\n",
      "329/329 [==============================] - 1s 3ms/step - loss: 0.0256 - acc: 0.9926 - val_loss: 0.1254 - val_acc: 0.9665\n",
      "Epoch 17/30\n",
      "329/329 [==============================] - 1s 3ms/step - loss: 0.0225 - acc: 0.9935 - val_loss: 0.1341 - val_acc: 0.9652\n",
      "Epoch 18/30\n",
      "329/329 [==============================] - 1s 3ms/step - loss: 0.0216 - acc: 0.9937 - val_loss: 0.1266 - val_acc: 0.9686\n",
      "Epoch 19/30\n",
      "329/329 [==============================] - 1s 3ms/step - loss: 0.0169 - acc: 0.9952 - val_loss: 0.1280 - val_acc: 0.9672\n",
      "Epoch 20/30\n",
      "329/329 [==============================] - 1s 3ms/step - loss: 0.0175 - acc: 0.9949 - val_loss: 0.1397 - val_acc: 0.9679\n",
      "Epoch 21/30\n",
      "329/329 [==============================] - 1s 3ms/step - loss: 0.0135 - acc: 0.9965 - val_loss: 0.1380 - val_acc: 0.9680\n",
      "Epoch 22/30\n",
      "329/329 [==============================] - 1s 3ms/step - loss: 0.0130 - acc: 0.9963 - val_loss: 0.1394 - val_acc: 0.9683\n",
      "Epoch 23/30\n",
      "329/329 [==============================] - 1s 3ms/step - loss: 0.0108 - acc: 0.9971 - val_loss: 0.1470 - val_acc: 0.9663\n",
      "Epoch 24/30\n",
      "329/329 [==============================] - 1s 3ms/step - loss: 0.0134 - acc: 0.9958 - val_loss: 0.1461 - val_acc: 0.9677\n",
      "Epoch 25/30\n",
      "329/329 [==============================] - 1s 3ms/step - loss: 0.0090 - acc: 0.9979 - val_loss: 0.1466 - val_acc: 0.9674\n",
      "Epoch 26/30\n",
      "329/329 [==============================] - 1s 3ms/step - loss: 0.0063 - acc: 0.9987 - val_loss: 0.1527 - val_acc: 0.9668\n",
      "Epoch 27/30\n",
      "329/329 [==============================] - 1s 3ms/step - loss: 0.0055 - acc: 0.9989 - val_loss: 0.1532 - val_acc: 0.9684\n",
      "Epoch 28/30\n",
      "329/329 [==============================] - 1s 3ms/step - loss: 0.0082 - acc: 0.9977 - val_loss: 0.1606 - val_acc: 0.9664\n",
      "Epoch 29/30\n",
      "329/329 [==============================] - 1s 3ms/step - loss: 0.0104 - acc: 0.9971 - val_loss: 0.1625 - val_acc: 0.9685\n",
      "Epoch 30/30\n",
      "329/329 [==============================] - 1s 3ms/step - loss: 0.0103 - acc: 0.9966 - val_loss: 0.1616 - val_acc: 0.9673\n"
     ]
    }
   ],
   "source": [
    "history = model.fit(X_train, y_train,\n",
    "                   epochs=30,\n",
    "                   batch_size=128,\n",
    "                   validation_data=(X_val, y_val))"
   ]
  },
  {
   "cell_type": "markdown",
   "metadata": {},
   "source": [
    "### 7. 모델 평가"
   ]
  },
  {
   "cell_type": "markdown",
   "metadata": {},
   "source": [
    "### 1) 모델 평가 - model.evaluate() 함수 이용"
   ]
  },
  {
   "cell_type": "code",
   "execution_count": 29,
   "metadata": {},
   "outputs": [
    {
     "name": "stdout",
     "output_type": "stream",
     "text": [
      "313/313 [==============================] - 0s 1ms/step - loss: 0.1413 - acc: 0.9703\n"
     ]
    },
    {
     "data": {
      "text/plain": [
       "[0.14126798510551453, 0.970300018787384]"
      ]
     },
     "execution_count": 29,
     "metadata": {},
     "output_type": "execute_result"
    }
   ],
   "source": [
    "model.evaluate(X_test, y_test)"
   ]
  },
  {
   "cell_type": "markdown",
   "metadata": {},
   "source": [
    "- 테스트 데이타셋 결과: 정확도 - 97%"
   ]
  },
  {
   "cell_type": "code",
   "execution_count": 30,
   "metadata": {},
   "outputs": [
    {
     "name": "stdout",
     "output_type": "stream",
     "text": [
      "1313/1313 [==============================] - 2s 1ms/step - loss: 0.0069 - acc: 0.9981\n"
     ]
    },
    {
     "data": {
      "text/plain": [
       "[0.0069023980759084225, 0.9980714321136475]"
      ]
     },
     "execution_count": 30,
     "metadata": {},
     "output_type": "execute_result"
    }
   ],
   "source": [
    "# model.evaluate(X_train, y_train)"
   ]
  },
  {
   "cell_type": "markdown",
   "metadata": {},
   "source": [
    "### 2) 혼동 행렬을 이용한 모델 평가"
   ]
  },
  {
   "cell_type": "code",
   "execution_count": 33,
   "metadata": {},
   "outputs": [
    {
     "data": {
      "image/png": "[encoded data removed]",
      "text/plain": [
       "<Figure size 504x360 with 2 Axes>"
      ]
     },
     "metadata": {
      "needs_background": "light"
     },
     "output_type": "display_data"
    }
   ],
   "source": [
    "from sklearn.metrics import classification_report, confusion_matrix\n",
    "import matplotlib.pyplot as plt\n",
    "import seaborn as sns\n",
    "\n",
    "results = model.predict(X_test) # y_test의 예측값\n",
    "\n",
    "# y_test의 실제 정답과 예측값으로 혼동 행렬 생성\n",
    "plt.figure(figsize = (7, 5))\n",
    "cm = confusion_matrix(np.argmax(y_test, axis = -1), np.argmax(results, axis = -1))\n",
    "sns.heatmap(cm, annot = True, fmt = 'd', cmap = 'Blues')\n",
    "plt.xlabel('predicted label', fontsize = 14)\n",
    "plt.ylabel('true label', fontsize = 14)\n",
    "plt.show()"
   ]
  },
  {
   "cell_type": "markdown",
   "metadata": {},
   "source": [
    "### 3) 분류 보고서를 이용한 모델 평가 "
   ]
  },
  {
   "cell_type": "code",
   "execution_count": 34,
   "metadata": {
    "scrolled": true
   },
   "outputs": [
    {
     "name": "stdout",
     "output_type": "stream",
     "text": [
      "              precision    recall  f1-score   support\n",
      "\n",
      "           0       0.98      0.97      0.98       980\n",
      "           1       0.99      0.99      0.99      1135\n",
      "           2       0.97      0.97      0.97      1032\n",
      "           3       0.94      0.98      0.96      1010\n",
      "           4       0.97      0.97      0.97       982\n",
      "           5       0.96      0.96      0.96       892\n",
      "           6       0.97      0.98      0.97       958\n",
      "           7       0.98      0.97      0.97      1028\n",
      "           8       0.96      0.96      0.96       974\n",
      "           9       0.97      0.96      0.97      1009\n",
      "\n",
      "    accuracy                           0.97     10000\n",
      "   macro avg       0.97      0.97      0.97     10000\n",
      "weighted avg       0.97      0.97      0.97     10000\n",
      "\n"
     ]
    }
   ],
   "source": [
    "print(classification_report(np.argmax(y_test, axis = -1), np.argmax(results, axis = -1)))"
   ]
  },
  {
   "cell_type": "markdown",
   "metadata": {},
   "source": [
    "### 8. 학습 과정 시각화"
   ]
  },
  {
   "cell_type": "code",
   "execution_count": 35,
   "metadata": {},
   "outputs": [
    {
     "data": {
      "text/plain": [
       "dict_keys(['loss', 'acc', 'val_loss', 'val_acc'])"
      ]
     },
     "execution_count": 35,
     "metadata": {},
     "output_type": "execute_result"
    }
   ],
   "source": [
    "# history를 통해 확인해볼 수 있는 값\n",
    "history.history.keys()"
   ]
  },
  {
   "cell_type": "code",
   "execution_count": 36,
   "metadata": {},
   "outputs": [
    {
     "data": {
      "image/png": "[encoded data removed]",
      "text/plain": [
       "<Figure size 720x360 with 2 Axes>"
      ]
     },
     "metadata": {
      "needs_background": "light"
     },
     "output_type": "display_data"
    }
   ],
   "source": [
    "import matplotlib.pyplot as plt\n",
    "\n",
    "his_dict = history.history\n",
    "loss = his_dict['loss']\n",
    "val_loss = his_dict['val_loss'] \n",
    "epochs = range(1, len(loss) + 1)\n",
    "fig = plt.figure(figsize = (10, 5))\n",
    "\n",
    "# 학습 및 검증 손실 그리기\n",
    "ax1 = fig.add_subplot(1, 2, 1)\n",
    "ax1.plot(epochs, loss, color = 'blue', label = 'train_loss')\n",
    "ax1.plot(epochs, val_loss, color = 'orange', label = 'val_loss')\n",
    "ax1.set_title('train and val loss')\n",
    "ax1.set_xlabel('epochs')\n",
    "ax1.set_ylabel('loss')\n",
    "ax1.legend()\n",
    "\n",
    "acc = his_dict['acc']\n",
    "val_acc = his_dict['val_acc']\n",
    "\n",
    "# 학습 및 검증 정확도 그리기\n",
    "ax2 = fig.add_subplot(1, 2, 2)\n",
    "ax2.plot(epochs, acc, color = 'blue', label = 'train_acc')\n",
    "ax2.plot(epochs, val_acc, color = 'orange', label = 'val_acc')\n",
    "ax2.set_title('train and val acc')\n",
    "ax2.set_xlabel('epochs')\n",
    "ax2.set_ylabel('acc')\n",
    "ax2.legend()\n",
    "\n",
    "plt.show()"
   ]
  },
  {
   "cell_type": "markdown",
   "metadata": {},
   "source": [
    "### 9. 학습된 모델을 통해 값 예측하기"
   ]
  },
  {
   "cell_type": "markdown",
   "metadata": {},
   "source": [
    "### 1) 예측"
   ]
  },
  {
   "cell_type": "code",
   "execution_count": 41,
   "metadata": {},
   "outputs": [
    {
     "name": "stdout",
     "output_type": "stream",
     "text": [
      "(10000, 10)\n",
      "각 클래스에 속할 확률: \n",
      "[2.9843811e-13 1.0626668e-11 5.9710029e-11 4.7730229e-09 6.6637776e-15\n",
      " 1.3559006e-12 3.2665144e-15 1.0000000e+00 3.7187033e-12 2.3033479e-08]\n",
      "예상 클래스: 7\n",
      "예상 클래스 확률: 100.0%\n"
     ]
    }
   ],
   "source": [
    "import numpy as np\n",
    "\n",
    "results = model.predict(X_test)\n",
    "print(results.shape)\n",
    "print(f'각 클래스에 속할 확률: \\n{results[0]}')\n",
    "print(f'예상 클래스: {results[0].argmax()}')\n",
    "print(f'예상 클래스 확률: {round(results[0][results[0].argmax()]*100, 2)}%')"
   ]
  },
  {
   "cell_type": "markdown",
   "metadata": {},
   "source": [
    "### 2) 예측값을 그림으로 확인해보기"
   ]
  },
  {
   "cell_type": "code",
   "execution_count": 46,
   "metadata": {},
   "outputs": [
    {
     "data": {
      "image/png": "[encoded data removed]",
      "text/plain": [
       "<Figure size 432x288 with 1 Axes>"
      ]
     },
     "metadata": {
      "needs_background": "light"
     },
     "output_type": "display_data"
    }
   ],
   "source": [
    "import matplotlib.pyplot as plt\n",
    "\n",
    "arg_results = np.argmax(results, axis = -1) # 가장 큰 값의 인덱스를 가져옵니다.\n",
    "plt.imshow(X_test[0].reshape(28, 28))\n",
    "plt.title('Predicted value : ' + str(arg_results[0]), fontsize = 14)\n",
    "plt.show()"
   ]
  },
  {
   "cell_type": "markdown",
   "metadata": {},
   "source": [
    "### [전체 코드]"
   ]
  },
  {
   "cell_type": "code",
   "execution_count": 50,
   "metadata": {
    "scrolled": true
   },
   "outputs": [
    {
     "name": "stdout",
     "output_type": "stream",
     "text": [
      "Epoch 1/30\n",
      "WARNING:tensorflow:AutoGraph could not transform <function Model.make_train_function.<locals>.train_function at 0x000002C4DACD4798> and will run it as-is.\n",
      "Please report this to the TensorFlow team. When filing the bug, set the verbosity to 10 (on Linux, `export AUTOGRAPH_VERBOSITY=10`) and attach the full output.\n",
      "Cause: Bad argument number for Name: 4, expecting 3\n",
      "To silence this warning, decorate the function with @tf.autograph.experimental.do_not_convert\n",
      "WARNING: AutoGraph could not transform <function Model.make_train_function.<locals>.train_function at 0x000002C4DACD4798> and will run it as-is.\n",
      "Please report this to the TensorFlow team. When filing the bug, set the verbosity to 10 (on Linux, `export AUTOGRAPH_VERBOSITY=10`) and attach the full output.\n",
      "Cause: Bad argument number for Name: 4, expecting 3\n",
      "To silence this warning, decorate the function with @tf.autograph.experimental.do_not_convert\n",
      "325/329 [============================>.] - ETA: 0s - loss: 0.5000 - acc: 0.8630WARNING:tensorflow:AutoGraph could not transform <function Model.make_test_function.<locals>.test_function at 0x000002C4DADB0558> and will run it as-is.\n",
      "Please report this to the TensorFlow team. When filing the bug, set the verbosity to 10 (on Linux, `export AUTOGRAPH_VERBOSITY=10`) and attach the full output.\n",
      "Cause: Bad argument number for Name: 4, expecting 3\n",
      "To silence this warning, decorate the function with @tf.autograph.experimental.do_not_convert\n",
      "WARNING: AutoGraph could not transform <function Model.make_test_function.<locals>.test_function at 0x000002C4DADB0558> and will run it as-is.\n",
      "Please report this to the TensorFlow team. When filing the bug, set the verbosity to 10 (on Linux, `export AUTOGRAPH_VERBOSITY=10`) and attach the full output.\n",
      "Cause: Bad argument number for Name: 4, expecting 3\n",
      "To silence this warning, decorate the function with @tf.autograph.experimental.do_not_convert\n",
      "329/329 [==============================] - 1s 3ms/step - loss: 0.4969 - acc: 0.8639 - val_loss: 0.2457 - val_acc: 0.9316\n",
      "Epoch 2/30\n",
      "329/329 [==============================] - 1s 3ms/step - loss: 0.2138 - acc: 0.9401 - val_loss: 0.1912 - val_acc: 0.9454\n",
      "Epoch 3/30\n",
      "329/329 [==============================] - 1s 3ms/step - loss: 0.1662 - acc: 0.9516 - val_loss: 0.1633 - val_acc: 0.9528\n",
      "Epoch 4/30\n",
      "329/329 [==============================] - 1s 3ms/step - loss: 0.1336 - acc: 0.9615 - val_loss: 0.1505 - val_acc: 0.9564\n",
      "Epoch 5/30\n",
      "329/329 [==============================] - 1s 3ms/step - loss: 0.1132 - acc: 0.9672 - val_loss: 0.1364 - val_acc: 0.9606\n",
      "Epoch 6/30\n",
      "329/329 [==============================] - 1s 3ms/step - loss: 0.0972 - acc: 0.9711 - val_loss: 0.1304 - val_acc: 0.9605\n",
      "Epoch 7/30\n",
      "329/329 [==============================] - 1s 3ms/step - loss: 0.0840 - acc: 0.9749 - val_loss: 0.1234 - val_acc: 0.9637\n",
      "Epoch 8/30\n",
      "329/329 [==============================] - 1s 3ms/step - loss: 0.0725 - acc: 0.9785 - val_loss: 0.1160 - val_acc: 0.9662\n",
      "Epoch 9/30\n",
      "329/329 [==============================] - 1s 3ms/step - loss: 0.0646 - acc: 0.9806 - val_loss: 0.1152 - val_acc: 0.9673\n",
      "Epoch 10/30\n",
      "329/329 [==============================] - 1s 3ms/step - loss: 0.0567 - acc: 0.9830 - val_loss: 0.1142 - val_acc: 0.9666\n",
      "Epoch 11/30\n",
      "329/329 [==============================] - 1s 3ms/step - loss: 0.0509 - acc: 0.9846 - val_loss: 0.1098 - val_acc: 0.9684\n",
      "Epoch 12/30\n",
      "329/329 [==============================] - 1s 3ms/step - loss: 0.0448 - acc: 0.9868 - val_loss: 0.1110 - val_acc: 0.9683\n",
      "Epoch 13/30\n",
      "329/329 [==============================] - 1s 3ms/step - loss: 0.0403 - acc: 0.9883 - val_loss: 0.1168 - val_acc: 0.9672\n",
      "Epoch 14/30\n",
      "329/329 [==============================] - 1s 3ms/step - loss: 0.0367 - acc: 0.9890 - val_loss: 0.1158 - val_acc: 0.9686\n",
      "Epoch 15/30\n",
      "329/329 [==============================] - 1s 3ms/step - loss: 0.0323 - acc: 0.9906 - val_loss: 0.1203 - val_acc: 0.9669\n",
      "Epoch 16/30\n",
      "329/329 [==============================] - 1s 3ms/step - loss: 0.0267 - acc: 0.9924 - val_loss: 0.1177 - val_acc: 0.9683\n",
      "Epoch 17/30\n",
      "329/329 [==============================] - 1s 3ms/step - loss: 0.0247 - acc: 0.9934 - val_loss: 0.1213 - val_acc: 0.9687\n",
      "Epoch 18/30\n",
      "329/329 [==============================] - 1s 3ms/step - loss: 0.0220 - acc: 0.9940 - val_loss: 0.1251 - val_acc: 0.9684\n",
      "Epoch 19/30\n",
      "329/329 [==============================] - 1s 3ms/step - loss: 0.0199 - acc: 0.9945 - val_loss: 0.1272 - val_acc: 0.9677\n",
      "Epoch 20/30\n",
      "329/329 [==============================] - 1s 3ms/step - loss: 0.0230 - acc: 0.9932 - val_loss: 0.1305 - val_acc: 0.9679\n",
      "Epoch 21/30\n",
      "329/329 [==============================] - 1s 3ms/step - loss: 0.0164 - acc: 0.9958 - val_loss: 0.1312 - val_acc: 0.9680\n",
      "Epoch 22/30\n",
      "329/329 [==============================] - 1s 3ms/step - loss: 0.0147 - acc: 0.9960 - val_loss: 0.1368 - val_acc: 0.9682\n",
      "Epoch 23/30\n",
      "329/329 [==============================] - 1s 3ms/step - loss: 0.0140 - acc: 0.9965 - val_loss: 0.1306 - val_acc: 0.9686\n",
      "Epoch 24/30\n",
      "329/329 [==============================] - 1s 3ms/step - loss: 0.0097 - acc: 0.9980 - val_loss: 0.1400 - val_acc: 0.9689\n",
      "Epoch 25/30\n",
      "329/329 [==============================] - 1s 3ms/step - loss: 0.0126 - acc: 0.9967 - val_loss: 0.1440 - val_acc: 0.9675\n",
      "Epoch 26/30\n",
      "329/329 [==============================] - 1s 3ms/step - loss: 0.0088 - acc: 0.9980 - val_loss: 0.1513 - val_acc: 0.9672\n",
      "Epoch 27/30\n",
      "329/329 [==============================] - 1s 3ms/step - loss: 0.0092 - acc: 0.9976 - val_loss: 0.1454 - val_acc: 0.9674\n",
      "Epoch 28/30\n",
      "329/329 [==============================] - 1s 3ms/step - loss: 0.0079 - acc: 0.9980 - val_loss: 0.1486 - val_acc: 0.9689\n",
      "Epoch 29/30\n",
      "329/329 [==============================] - 1s 3ms/step - loss: 0.0048 - acc: 0.9994 - val_loss: 0.1486 - val_acc: 0.9686\n",
      "Epoch 30/30\n",
      "329/329 [==============================] - 1s 3ms/step - loss: 0.0091 - acc: 0.9974 - val_loss: 0.1569 - val_acc: 0.9681\n",
      "313/313 [==============================] - 0s 1ms/step - loss: 2.6749 - acc: 0.0974\n"
     ]
    },
    {
     "data": {
      "text/plain": [
       "[2.674858808517456, 0.09740000218153]"
      ]
     },
     "execution_count": 50,
     "metadata": {},
     "output_type": "execute_result"
    }
   ],
   "source": [
    "import tensorflow as tf\n",
    "from tensorflow.keras.datasets.mnist import load_data\n",
    "\n",
    "from tensorflow.keras.models import Sequential\n",
    "from tensorflow.keras.layers import Dense\n",
    "from tensorflow.keras.utils import to_categorical\n",
    "\n",
    "from sklearn.model_selection import train_test_split\n",
    "tf.random.set_seed(0)\n",
    "\n",
    "# 1. 데이타 로드\n",
    "(X_train, y_train), (Xest, y_test) = load_data(path='mnist.npz')\n",
    "\n",
    "# 2. 검증 데이타 분할\n",
    "X_train, X_val, y_train, y_val = train_test_split(X_train, y_train, \n",
    "                                                  test_size = 0.3, \n",
    "                                                  random_state = 0)\n",
    "# 3. 피쳐 정규화/레이블 원-핫 인코딩\n",
    "num_x_train = X_train.shape[0]\n",
    "num_x_val = X_val.shape[0]\n",
    "num_x_test = X_test.shape[0]\n",
    "\n",
    "X_train = (X_train.reshape((num_x_train, 28 * 28))) / 255\n",
    "X_val = (X_val.reshape((num_x_val, 28 * 28))) / 255\n",
    "X_test = (X_test.reshape((num_x_test, 28 * 28))) / 255\n",
    "\n",
    "y_train = to_categorical(y_train)\n",
    "y_val = to_categorical(y_val)\n",
    "y_test = to_categorical(y_test)\n",
    "\n",
    "# 4. 딥러닝 모델 정의\n",
    "model = Sequential()\n",
    "model.add(Dense(64, activation = 'relu', input_shape = (784, )))\n",
    "model.add(Dense(32, activation = 'relu'))\n",
    "model.add(Dense(10, activation = 'softmax'))\n",
    "\n",
    "# 5. 컴파일 설정\n",
    "model.compile(optimizer='adam', \n",
    "              loss = 'categorical_crossentropy', \n",
    "              metrics=['acc'])\n",
    "\n",
    "# 6. 모델 학습\n",
    "history = model.fit(X_train, y_train, \n",
    "                    epochs = 30, \n",
    "                    batch_size = 128, \n",
    "                    validation_data = (X_val, y_val))\n",
    "\n",
    "# 7. 모델 평가\n",
    "model.evaluate(X_test, y_test)"
   ]
  }
 ],
 "metadata": {
  "kernelspec": {
   "display_name": "Python 3",
   "language": "python",
   "name": "python3"
  },
  "language_info": {
   "codemirror_mode": {
    "name": "ipython",
    "version": 3
   },
   "file_extension": ".py",
   "mimetype": "text/x-python",
   "name": "python",
   "nbconvert_exporter": "python",
   "pygments_lexer": "ipython3",
   "version": "3.7.6"
  }
 },
 "nbformat": 4,
 "nbformat_minor": 2
}
