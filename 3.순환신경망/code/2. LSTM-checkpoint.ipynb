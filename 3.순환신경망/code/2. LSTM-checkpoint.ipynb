{
 "cells": [
  {
   "cell_type": "markdown",
   "metadata": {},
   "source": [
    "# LSTM(Long Short-Term Memory)\n",
    "- SimpleRNN층은 Dense층과 같이 기능적으로 매우 단순하게 구성되어 있기 때문에 깊이 쌓을수록 학습에 큰 문제가 존재\n",
    "- \"시점이 흐를수록 지속해서 기억하지 못한다\" \n",
    "    - -> SimpleRNN층에 그래디언트 손실 문제가 존재한다는 것을 의미\n",
    "- 이를 해결하기 위해 고안된 것 : LSTM(Long Short-Term Memory)\n",
    "- 1997년 호흐라이터(Hochreiter)와 슈미트후버(Schmidhuber)에 의해 만들어짐"
   ]
  },
  {
   "cell_type": "markdown",
   "metadata": {},
   "source": [
    "## LSTM을 이용한 로이터 뉴스 카테고리 분류"
   ]
  },
  {
   "cell_type": "markdown",
   "metadata": {},
   "source": [
    "### 1. 로이터 뉴스 데이타셋 불러오기\n",
    "#### 1) 로이터 뉴스 데이타셋\n",
    "- 로이터 뉴스 데이타 사용\n",
    "- 총 11,258개의 뉴스 기사가 46개 카테고리로 나누어진 대용량 텍스트 데이타\n",
    "- 케라스의 load_data() 함수를 통해 불러올 수 있음"
   ]
  },
  {
   "cell_type": "code",
   "execution_count": null,
   "metadata": {},
   "outputs": [],
   "source": [
    "# 경고(worning) 무시\n",
    "import warnings\n",
    "warnings.filterwarnings('ignore')"
   ]
  },
  {
   "cell_type": "code",
   "execution_count": 34,
   "metadata": {},
   "outputs": [
    {
     "name": "stdout",
     "output_type": "stream",
     "text": [
      "(8982,) (8982,)\n",
      "(2246,) (2246,)\n"
     ]
    }
   ],
   "source": [
    "# 로이터 뉴스 데이터셋 불러오기\n",
    "from tensorflow.keras.datasets import reuters\n",
    "\n",
    "num_words = 10000\n",
    "\n",
    "# num_words=1000 -> 단어의 빈도가 1 ~ 1000에 해당하는 단어만 선택해서 불러오기\n",
    "(x_train, y_train), (x_test, y_test) = reuters.load_data(num_words=num_words) \n",
    "print(x_train.shape, y_train.shape)\n",
    "print(x_test.shape, y_test.shape)"
   ]
  },
  {
   "cell_type": "markdown",
   "metadata": {},
   "source": [
    "#### 2) 데이터 확인하기"
   ]
  },
  {
   "cell_type": "code",
   "execution_count": 35,
   "metadata": {},
   "outputs": [
    {
     "data": {
      "text/plain": [
       "array([list([1, 2, 2, 8, 43, 10, 447, 5, 25, 207, 270, 5, 3095, 111, 16, 369, 186, 90, 67, 7, 89, 5, 19, 102, 6, 19, 124, 15, 90, 67, 84, 22, 482, 26, 7, 48, 4, 49, 8, 864, 39, 209, 154, 6, 151, 6, 83, 11, 15, 22, 155, 11, 15, 7, 48, 9, 4579, 1005, 504, 6, 258, 6, 272, 11, 15, 22, 134, 44, 11, 15, 16, 8, 197, 1245, 90, 67, 52, 29, 209, 30, 32, 132, 6, 109, 15, 17, 12])],\n",
       "      dtype=object)"
      ]
     },
     "execution_count": 35,
     "metadata": {},
     "output_type": "execute_result"
    }
   ],
   "source": [
    "X_train[:1]"
   ]
  },
  {
   "cell_type": "code",
   "execution_count": 36,
   "metadata": {},
   "outputs": [
    {
     "data": {
      "text/plain": [
       "array([3], dtype=int64)"
      ]
     },
     "execution_count": 36,
     "metadata": {},
     "output_type": "execute_result"
    }
   ],
   "source": [
    "y_train[:1]"
   ]
  },
  {
   "cell_type": "code",
   "execution_count": 37,
   "metadata": {},
   "outputs": [
    {
     "name": "stdout",
     "output_type": "stream",
     "text": [
      "카테고리 개수 :  46\n",
      "학습용 뉴스 기사 개수 :  8982\n",
      "테스트용 뉴스 기사 개수 : 2246\n",
      "단어가 나온 빈도(tokenizer() 이용하여 작업 완료) : \n",
      "[1, 2, 2, 8, 43, 10, 447, 5, 25, 207, 270, 5, 3095, 111, 16, 369, 186, 90, 67, 7, 89, 5, 19, 102, 6, 19, 124, 15, 90, 67, 84, 22, 482, 26, 7, 48, 4, 49, 8, 864, 39, 209, 154, 6, 151, 6, 83, 11, 15, 22, 155, 11, 15, 7, 48, 9, 4579, 1005, 504, 6, 258, 6, 272, 11, 15, 22, 134, 44, 11, 15, 16, 8, 197, 1245, 90, 67, 52, 29, 209, 30, 32, 132, 6, 109, 15, 17, 12]\n"
     ]
    }
   ],
   "source": [
    "# 데이터 확인하기\n",
    "import numpy as np\n",
    "\n",
    "category = np.max(y_train) + 1\n",
    "\n",
    "print('카테고리 개수 : ', category )\n",
    "print('학습용 뉴스 기사 개수 : ', len(x_train))\n",
    "print('테스트용 뉴스 기사 개수 :', len(x_test))\n",
    "\n",
    "print('단어가 나온 빈도(tokenizer() 이용하여 작업 완료) : ')\n",
    "print(X_train[0])"
   ]
  },
  {
   "cell_type": "markdown",
   "metadata": {},
   "source": [
    "### 2. 데이타 전처리\n",
    "- 각 기사의 단어 수를 통일 : pad_sequences() 사용\n",
    "- 기사의 단어수가 500개를 넘으면 500개 단어만 선택하고 나머지 버림\n",
    "- 500에서 모자랄 때는 0으로 채워서 500개를 만듦"
   ]
  },
  {
   "cell_type": "code",
   "execution_count": 38,
   "metadata": {},
   "outputs": [
    {
     "name": "stdout",
     "output_type": "stream",
     "text": [
      "500\n",
      "500\n"
     ]
    }
   ],
   "source": [
    "from tensorflow.keras.preprocessing.sequence import pad_sequences\n",
    "\n",
    "max_len=500\n",
    "\n",
    "# 데이타 전처리\n",
    "pad_x_train = pad_sequences(x_train, maxlen=max_len) # 단어수를 500개로 맞추라는 뜻\n",
    "pad_x_test = pad_sequences(x_test, maxlen=max_len)\n",
    "\n",
    "print(len(pad_x_train[0]))\n",
    "print(len(pad_x_test[0]))"
   ]
  },
  {
   "cell_type": "markdown",
   "metadata": {},
   "source": [
    "### 3. 모델 구성하기\n",
    "- Embedding 층 \n",
    "    - 데이터 전처리 과정을 통해 입력된 값을 받아 다음 층이 알아들을 수 있는 형태로 변환하는 역할을 함\n",
    "    - Embedding('불러온 단어의 총 개수', '기사당 단어 수') 형식으로 사용하며, 모델 설정 부분의 맨 처음에 있어야 함<br>\n",
    "- LSTM 층\n",
    "    - LSTM은 RNN에서 기억 값에 대한 가중치를 제어함\n",
    "    - LSTM(기사당 단어 수, 기타 옵션)의 형태로 적용됨\n",
    "    - LSTM의 활성화 함수로는 tanh를 사용  "
   ]
  },
  {
   "cell_type": "code",
   "execution_count": 39,
   "metadata": {},
   "outputs": [],
   "source": [
    "# 모듈 불러오기\n",
    "from tensorflow.keras.models import Sequential\n",
    "from tensorflow.keras.layers import Dense, LSTM, Embedding\n",
    "\n",
    "import tensorflow as tf\n",
    "import numpy as np\n",
    "\n",
    "# seed 값 설정\n",
    "seed = 0\n",
    "np.random.seed(seed)\n",
    "tf.random.set_seed(3)\n",
    "\n",
    "# 모델 구성\n",
    "model = Sequential()\n",
    "model.add(Embedding(input_dim = num_words, output_dim = 64)) # 입력층\n",
    "model.add(LSTM(64, return_sequences = True)) # 은닉층\n",
    "model.add(LSTM(32)) # 은닉층\n",
    "model.add(Dense(46, activation='softmax')) # 출력층"
   ]
  },
  {
   "cell_type": "markdown",
   "metadata": {},
   "source": [
    "### 4. 모델  컴파일 설정"
   ]
  },
  {
   "cell_type": "code",
   "execution_count": 40,
   "metadata": {},
   "outputs": [],
   "source": [
    "model.compile(optimizer='adam',\n",
    "             loss='sparse_categorical_crossentropy',\n",
    "             metrics=['acc'])"
   ]
  },
  {
   "cell_type": "markdown",
   "metadata": {},
   "source": [
    "### 5. 모델 학습"
   ]
  },
  {
   "cell_type": "code",
   "execution_count": 42,
   "metadata": {},
   "outputs": [
    {
     "name": "stdout",
     "output_type": "stream",
     "text": [
      "Epoch 1/20\n",
      "225/225 [==============================] - 119s 528ms/step - loss: 2.5372 - acc: 0.3534 - val_loss: 2.4063 - val_acc: 0.3450\n",
      "Epoch 2/20\n",
      "225/225 [==============================] - 117s 519ms/step - loss: 2.1659 - acc: 0.4299 - val_loss: 1.8988 - val_acc: 0.4864\n",
      "Epoch 3/20\n",
      "225/225 [==============================] - 117s 522ms/step - loss: 1.8724 - acc: 0.4969 - val_loss: 1.8203 - val_acc: 0.5287\n",
      "Epoch 4/20\n",
      "225/225 [==============================] - 115s 511ms/step - loss: 1.8070 - acc: 0.5386 - val_loss: 1.7959 - val_acc: 0.5470\n",
      "Epoch 5/20\n",
      "225/225 [==============================] - 118s 526ms/step - loss: 1.6700 - acc: 0.5624 - val_loss: 1.6869 - val_acc: 0.5587\n",
      "Epoch 6/20\n",
      "225/225 [==============================] - 114s 505ms/step - loss: 1.5845 - acc: 0.5919 - val_loss: 1.6394 - val_acc: 0.5832\n",
      "Epoch 7/20\n",
      "225/225 [==============================] - 114s 508ms/step - loss: 1.4992 - acc: 0.6227 - val_loss: 1.6098 - val_acc: 0.6021\n",
      "Epoch 8/20\n",
      "225/225 [==============================] - 114s 509ms/step - loss: 1.4429 - acc: 0.6310 - val_loss: 1.7209 - val_acc: 0.5687\n",
      "Epoch 9/20\n",
      "225/225 [==============================] - 115s 511ms/step - loss: 1.3839 - acc: 0.6448 - val_loss: 1.5887 - val_acc: 0.6149\n",
      "Epoch 10/20\n",
      "225/225 [==============================] - 113s 500ms/step - loss: 1.2964 - acc: 0.6626 - val_loss: 1.5690 - val_acc: 0.6071\n",
      "Epoch 11/20\n",
      "225/225 [==============================] - 115s 510ms/step - loss: 1.2580 - acc: 0.6713 - val_loss: 1.5798 - val_acc: 0.6077\n",
      "Epoch 12/20\n",
      "225/225 [==============================] - 113s 503ms/step - loss: 1.1597 - acc: 0.7034 - val_loss: 1.5278 - val_acc: 0.6194\n",
      "Epoch 13/20\n",
      "225/225 [==============================] - 113s 502ms/step - loss: 1.0869 - acc: 0.7204 - val_loss: 1.5287 - val_acc: 0.6210\n",
      "Epoch 14/20\n",
      "225/225 [==============================] - 114s 505ms/step - loss: 1.0272 - acc: 0.7386 - val_loss: 1.5146 - val_acc: 0.6344\n",
      "Epoch 15/20\n",
      "225/225 [==============================] - 113s 504ms/step - loss: 0.9556 - acc: 0.7580 - val_loss: 1.5400 - val_acc: 0.6472\n",
      "Epoch 16/20\n",
      "225/225 [==============================] - 113s 501ms/step - loss: 0.9162 - acc: 0.7637 - val_loss: 1.5481 - val_acc: 0.6405\n",
      "Epoch 17/20\n",
      "225/225 [==============================] - 116s 518ms/step - loss: 0.8764 - acc: 0.7751 - val_loss: 1.5420 - val_acc: 0.6472\n",
      "Epoch 18/20\n",
      "225/225 [==============================] - 113s 502ms/step - loss: 0.8045 - acc: 0.7969 - val_loss: 1.4850 - val_acc: 0.6550\n",
      "Epoch 19/20\n",
      "225/225 [==============================] - 34794s 155s/step - loss: 0.7300 - acc: 0.8138 - val_loss: 1.4838 - val_acc: 0.6644\n",
      "Epoch 20/20\n",
      "225/225 [==============================] - 142s 632ms/step - loss: 0.6805 - acc: 0.8296 - val_loss: 1.6200 - val_acc: 0.6338\n"
     ]
    }
   ],
   "source": [
    "# 모델 학습\n",
    "history = model.fit(pad_x_train, y_train, \n",
    "                    batch_size=32, \n",
    "                    epochs=20, \n",
    "                    validation_split = 0.2)"
   ]
  },
  {
   "cell_type": "markdown",
   "metadata": {},
   "source": [
    "### 6. 모델 평가"
   ]
  },
  {
   "cell_type": "code",
   "execution_count": 43,
   "metadata": {},
   "outputs": [
    {
     "name": "stdout",
     "output_type": "stream",
     "text": [
      "71/71 [==============================] - 10s 144ms/step - loss: 1.6969 - acc: 0.6291\n"
     ]
    },
    {
     "data": {
      "text/plain": [
       "[1.6969326734542847, 0.6291184425354004]"
      ]
     },
     "execution_count": 43,
     "metadata": {},
     "output_type": "execute_result"
    }
   ],
   "source": [
    "# 모델 평가\n",
    "model.evaluate(pad_x_test, y_test)"
   ]
  },
  {
   "cell_type": "markdown",
   "metadata": {},
   "source": [
    "### 7. 학습 과정 그리기"
   ]
  },
  {
   "cell_type": "code",
   "execution_count": 44,
   "metadata": {},
   "outputs": [
    {
     "data": {
      "image/png": "[encoded data removed]",
      "text/plain": [
       "<Figure size 720x360 with 2 Axes>"
      ]
     },
     "metadata": {
      "needs_background": "light"
     },
     "output_type": "display_data"
    }
   ],
   "source": [
    "import matplotlib.pyplot as plt\n",
    "\n",
    "his_dict = history.history\n",
    "loss = his_dict['loss']\n",
    "val_loss = his_dict['val_loss'] \n",
    "\n",
    "epochs = range(1, len(loss) + 1)\n",
    "fig = plt.figure(figsize = (10, 5))\n",
    "\n",
    "# 훈련 및 검증 손실 그리기\n",
    "ax1 = fig.add_subplot(1, 2, 1)\n",
    "ax1.plot(epochs, loss, color = 'blue', label = 'train_loss')\n",
    "ax1.plot(epochs, val_loss, color = 'orange', label = 'val_loss')\n",
    "ax1.set_title('train and val loss')\n",
    "ax1.set_xlabel('epochs')\n",
    "ax1.set_ylabel('loss')\n",
    "ax1.legend()\n",
    "\n",
    "acc = his_dict['acc']\n",
    "val_acc = his_dict['val_acc']\n",
    "\n",
    "# 훈련 및 검증 정확도 그리기\n",
    "ax2 = fig.add_subplot(1, 2, 2)\n",
    "ax2.plot(epochs, acc, color = 'blue', label = 'train_acc')\n",
    "ax2.plot(epochs, val_acc, color = 'orange', label = 'val_acc')\n",
    "ax2.set_title('train and val acc')\n",
    "ax2.set_xlabel('epochs')\n",
    "ax2.set_ylabel('acc')\n",
    "ax2.legend()\n",
    "\n",
    "plt.show()"
   ]
  },
  {
   "cell_type": "markdown",
   "metadata": {},
   "source": [
    "#### 실행 결과 해석) \n",
    "- 테스트셋에 대한 정확도가 0.6291을 보이고 있음\n",
    "- 테스트 오차가 상승하기 전까지의 학습이 과적합 직전의 최적 학습 시간임"
   ]
  }
 ],
 "metadata": {
  "kernelspec": {
   "display_name": "Python 3",
   "language": "python",
   "name": "python3"
  },
  "language_info": {
   "codemirror_mode": {
    "name": "ipython",
    "version": 3
   },
   "file_extension": ".py",
   "mimetype": "text/x-python",
   "name": "python",
   "nbconvert_exporter": "python",
   "pygments_lexer": "ipython3",
   "version": "3.7.6"
  }
 },
 "nbformat": 4,
 "nbformat_minor": 4
}
