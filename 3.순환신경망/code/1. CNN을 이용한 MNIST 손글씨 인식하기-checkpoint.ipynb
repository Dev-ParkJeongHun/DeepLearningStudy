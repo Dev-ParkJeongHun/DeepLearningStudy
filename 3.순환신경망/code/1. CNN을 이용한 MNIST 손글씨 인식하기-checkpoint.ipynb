{
 "cells": [
  {
   "cell_type": "markdown",
   "metadata": {},
   "source": [
    "# CNN(합성곱 신경망)을 이용한 MNIST 손글씨 인식하기"
   ]
  },
  {
   "cell_type": "markdown",
   "metadata": {},
   "source": [
    "### MNIST 손글씨 데이타셋 설명"
   ]
  },
  {
   "cell_type": "markdown",
   "metadata": {},
   "source": [
    "<img src=\"./img/mnist_data.PNG\" align=left width=500>"
   ]
  },
  {
   "cell_type": "markdown",
   "metadata": {},
   "source": [
    "- MNIST 데이터셋은 미국 국립표준기술원(NIST)이 고등학생과 인구조사국 직원등이 \n",
    "     - 쓴 손글씨를 이용해 만든 데이터로 구성\n",
    "- 70,000개의 글자 이미지에 각각 0부터 9까지 이름표를 붙인 데이터셋\n",
    "- 머신러닝을 배우는 사람이라면 자신의 알고리즘과 다른 알고리즘의 성과를 비교해 보고자 \n",
    "     - 한 번씩 도전해 보는 가장 유명한 데이터 중 하나"
   ]
  },
  {
   "cell_type": "code",
   "execution_count": 1,
   "metadata": {},
   "outputs": [],
   "source": [
    "# 경고 무시\n",
    "from warnings import filterwarnings\n",
    "filterwarnings(\"ignore\")"
   ]
  },
  {
   "cell_type": "markdown",
   "metadata": {},
   "source": [
    "## Part 1. 딥러닝(DNN)을 이용한 MNIST 글씨 인식하기"
   ]
  },
  {
   "cell_type": "markdown",
   "metadata": {},
   "source": [
    "### 1) 데이타 불러오기, 검정 데이타셋 분리, 피쳐 정규화, 레이블 원-핫 인코딩"
   ]
  },
  {
   "cell_type": "code",
   "execution_count": 2,
   "metadata": {},
   "outputs": [],
   "source": [
    "import tensorflow as tf\n",
    "from tensorflow.keras.datasets.mnist import load_data\n",
    "\n",
    "from tensorflow.keras.models import Sequential\n",
    "from tensorflow.keras.layers import Dense\n",
    "from tensorflow.keras.utils import to_categorical\n",
    "\n",
    "from sklearn.model_selection import train_test_split\n",
    "tf.random.set_seed(777)\n",
    "\n",
    "# 1. 데이타 로드\n",
    "(x_train, y_train), (x_test, y_test) = load_data(path='mnist.npz')\n",
    "\n",
    "# 2. 검증 데이타 분할\n",
    "x_train, x_val, y_train, y_val = train_test_split(x_train, y_train, \n",
    "                                                  test_size = 0.3, \n",
    "                                                  random_state = 777)\n",
    "# 3. 피쳐 정규화/레이블 원-핫 인코딩\n",
    "num_x_train = x_train.shape[0]\n",
    "num_x_val = x_val.shape[0]\n",
    "num_x_test = x_test.shape[0]\n",
    "\n",
    "x_train = (x_train.reshape((num_x_train, 28 * 28))) / 255\n",
    "x_val = (x_val.reshape((num_x_val, 28 * 28))) / 255\n",
    "x_test = (x_test.reshape((num_x_test, 28 * 28))) / 255\n",
    "\n",
    "y_train = to_categorical(y_train)\n",
    "y_val = to_categorical(y_val)\n",
    "y_test = to_categorical(y_test)"
   ]
  },
  {
   "cell_type": "markdown",
   "metadata": {},
   "source": [
    "### 2) 모델 구성, 컴파일 설정, 모델 학습, 모델 평가"
   ]
  },
  {
   "cell_type": "code",
   "execution_count": 3,
   "metadata": {},
   "outputs": [
    {
     "name": "stdout",
     "output_type": "stream",
     "text": [
      "Epoch 1/30\n",
      "WARNING:tensorflow:AutoGraph could not transform <function Model.make_train_function.<locals>.train_function at 0x000001BAE42E1AF8> and will run it as-is.\n",
      "Please report this to the TensorFlow team. When filing the bug, set the verbosity to 10 (on Linux, `export AUTOGRAPH_VERBOSITY=10`) and attach the full output.\n",
      "Cause: Bad argument number for Name: 4, expecting 3\n",
      "To silence this warning, decorate the function with @tf.autograph.experimental.do_not_convert\n",
      "WARNING: AutoGraph could not transform <function Model.make_train_function.<locals>.train_function at 0x000001BAE42E1AF8> and will run it as-is.\n",
      "Please report this to the TensorFlow team. When filing the bug, set the verbosity to 10 (on Linux, `export AUTOGRAPH_VERBOSITY=10`) and attach the full output.\n",
      "Cause: Bad argument number for Name: 4, expecting 3\n",
      "To silence this warning, decorate the function with @tf.autograph.experimental.do_not_convert\n",
      "317/329 [===========================>..] - ETA: 0s - loss: 0.5105 - acc: 0.8501WARNING:tensorflow:AutoGraph could not transform <function Model.make_test_function.<locals>.test_function at 0x000001BAD0A82CA8> and will run it as-is.\n",
      "Please report this to the TensorFlow team. When filing the bug, set the verbosity to 10 (on Linux, `export AUTOGRAPH_VERBOSITY=10`) and attach the full output.\n",
      "Cause: Bad argument number for Name: 4, expecting 3\n",
      "To silence this warning, decorate the function with @tf.autograph.experimental.do_not_convert\n",
      "WARNING: AutoGraph could not transform <function Model.make_test_function.<locals>.test_function at 0x000001BAD0A82CA8> and will run it as-is.\n",
      "Please report this to the TensorFlow team. When filing the bug, set the verbosity to 10 (on Linux, `export AUTOGRAPH_VERBOSITY=10`) and attach the full output.\n",
      "Cause: Bad argument number for Name: 4, expecting 3\n",
      "To silence this warning, decorate the function with @tf.autograph.experimental.do_not_convert\n",
      "329/329 [==============================] - 1s 3ms/step - loss: 0.5025 - acc: 0.8525 - val_loss: 0.2539 - val_acc: 0.9277\n",
      "Epoch 2/30\n",
      "329/329 [==============================] - 1s 3ms/step - loss: 0.2101 - acc: 0.9392 - val_loss: 0.1858 - val_acc: 0.9467\n",
      "Epoch 3/30\n",
      "329/329 [==============================] - 1s 3ms/step - loss: 0.1582 - acc: 0.9538 - val_loss: 0.1597 - val_acc: 0.9533\n",
      "Epoch 4/30\n",
      "329/329 [==============================] - 1s 3ms/step - loss: 0.1274 - acc: 0.9633 - val_loss: 0.1353 - val_acc: 0.9602\n",
      "Epoch 5/30\n",
      "329/329 [==============================] - 1s 3ms/step - loss: 0.1058 - acc: 0.9687 - val_loss: 0.1277 - val_acc: 0.9626\n",
      "Epoch 6/30\n",
      "329/329 [==============================] - 1s 3ms/step - loss: 0.0897 - acc: 0.9733 - val_loss: 0.1201 - val_acc: 0.9651\n",
      "Epoch 7/30\n",
      "329/329 [==============================] - 1s 3ms/step - loss: 0.0786 - acc: 0.9766 - val_loss: 0.1137 - val_acc: 0.9650\n",
      "Epoch 8/30\n",
      "329/329 [==============================] - 1s 3ms/step - loss: 0.0669 - acc: 0.9800 - val_loss: 0.1146 - val_acc: 0.9656\n",
      "Epoch 9/30\n",
      "329/329 [==============================] - 1s 3ms/step - loss: 0.0591 - acc: 0.9824 - val_loss: 0.1084 - val_acc: 0.9679\n",
      "Epoch 10/30\n",
      "329/329 [==============================] - 1s 3ms/step - loss: 0.0511 - acc: 0.9849 - val_loss: 0.1026 - val_acc: 0.9696\n",
      "Epoch 11/30\n",
      "329/329 [==============================] - 1s 3ms/step - loss: 0.0464 - acc: 0.9858 - val_loss: 0.1038 - val_acc: 0.9687\n",
      "Epoch 12/30\n",
      "329/329 [==============================] - 1s 3ms/step - loss: 0.0405 - acc: 0.9881 - val_loss: 0.1047 - val_acc: 0.9695\n",
      "Epoch 13/30\n",
      "329/329 [==============================] - 1s 3ms/step - loss: 0.0354 - acc: 0.9894 - val_loss: 0.1052 - val_acc: 0.9689\n",
      "Epoch 14/30\n",
      "329/329 [==============================] - 1s 3ms/step - loss: 0.0333 - acc: 0.9902 - val_loss: 0.1106 - val_acc: 0.9684\n",
      "Epoch 15/30\n",
      "329/329 [==============================] - 1s 3ms/step - loss: 0.0286 - acc: 0.9922 - val_loss: 0.1246 - val_acc: 0.9662\n",
      "Epoch 16/30\n",
      "329/329 [==============================] - 1s 3ms/step - loss: 0.0257 - acc: 0.9927 - val_loss: 0.1042 - val_acc: 0.9708\n",
      "Epoch 17/30\n",
      "329/329 [==============================] - 1s 3ms/step - loss: 0.0208 - acc: 0.9944 - val_loss: 0.1108 - val_acc: 0.9694\n",
      "Epoch 18/30\n",
      "329/329 [==============================] - 1s 3ms/step - loss: 0.0208 - acc: 0.9939 - val_loss: 0.1055 - val_acc: 0.9718\n",
      "Epoch 19/30\n",
      "329/329 [==============================] - 1s 3ms/step - loss: 0.0163 - acc: 0.9957 - val_loss: 0.1131 - val_acc: 0.9709\n",
      "Epoch 20/30\n",
      "329/329 [==============================] - 1s 3ms/step - loss: 0.0155 - acc: 0.9958 - val_loss: 0.1110 - val_acc: 0.9711\n",
      "Epoch 21/30\n",
      "329/329 [==============================] - 1s 3ms/step - loss: 0.0127 - acc: 0.9968 - val_loss: 0.1189 - val_acc: 0.9700\n",
      "Epoch 22/30\n",
      "329/329 [==============================] - 1s 3ms/step - loss: 0.0122 - acc: 0.9971 - val_loss: 0.1296 - val_acc: 0.9687\n",
      "Epoch 23/30\n",
      "329/329 [==============================] - 1s 3ms/step - loss: 0.0119 - acc: 0.9965 - val_loss: 0.1313 - val_acc: 0.9687\n",
      "Epoch 24/30\n",
      "329/329 [==============================] - 1s 3ms/step - loss: 0.0102 - acc: 0.9975 - val_loss: 0.1329 - val_acc: 0.9692\n",
      "Epoch 25/30\n",
      "329/329 [==============================] - 1s 3ms/step - loss: 0.0105 - acc: 0.9971 - val_loss: 0.1508 - val_acc: 0.9667\n",
      "Epoch 26/30\n",
      "329/329 [==============================] - 1s 3ms/step - loss: 0.0094 - acc: 0.9972 - val_loss: 0.1429 - val_acc: 0.9688\n",
      "Epoch 27/30\n",
      "329/329 [==============================] - 1s 3ms/step - loss: 0.0095 - acc: 0.9972 - val_loss: 0.1244 - val_acc: 0.9728\n",
      "Epoch 28/30\n",
      "329/329 [==============================] - 1s 3ms/step - loss: 0.0053 - acc: 0.9990 - val_loss: 0.1346 - val_acc: 0.9713\n",
      "Epoch 29/30\n",
      "329/329 [==============================] - 1s 3ms/step - loss: 0.0054 - acc: 0.9988 - val_loss: 0.1302 - val_acc: 0.9719\n",
      "Epoch 30/30\n",
      "329/329 [==============================] - 1s 3ms/step - loss: 0.0064 - acc: 0.9980 - val_loss: 0.1436 - val_acc: 0.9692\n",
      "313/313 [==============================] - 0s 1ms/step - loss: 0.1392 - acc: 0.9706\n"
     ]
    },
    {
     "data": {
      "text/plain": [
       "[0.13919176161289215, 0.9706000089645386]"
      ]
     },
     "execution_count": 3,
     "metadata": {},
     "output_type": "execute_result"
    }
   ],
   "source": [
    "# 4. 모델 구성\n",
    "model = Sequential()\n",
    "model.add(Dense(64, activation = 'relu', input_shape = (784, )))\n",
    "model.add(Dense(32, activation = 'relu'))\n",
    "model.add(Dense(10, activation = 'softmax'))\n",
    "\n",
    "# 5. 컴파일 설정\n",
    "model.compile(optimizer='adam', \n",
    "              loss = 'categorical_crossentropy', \n",
    "              metrics=['acc'])\n",
    "\n",
    "# 6. 모델 학습\n",
    "history = model.fit(x_train, y_train, \n",
    "                    epochs = 30, \n",
    "                    batch_size = 128, \n",
    "                    validation_data = (x_val, y_val))\n",
    "\n",
    "# 7. 모델 평가\n",
    "model.evaluate(x_test, y_test)"
   ]
  },
  {
   "cell_type": "markdown",
   "metadata": {},
   "source": [
    "### 결과) MLP(=DNN) 정확도 : 0.97"
   ]
  },
  {
   "cell_type": "markdown",
   "metadata": {},
   "source": [
    "---\n",
    "## Part 2. 컨볼루션 신경망(Convolutional Neural Network, CNN, 합성곱)"
   ]
  },
  {
   "cell_type": "markdown",
   "metadata": {},
   "source": [
    "## 1. 컨볼루션 신경망(CNN) 개념"
   ]
  },
  {
   "cell_type": "markdown",
   "metadata": {},
   "source": [
    "<img src=\"./img/cnn1.PNG\" width=650 align=left>"
   ]
  },
  {
   "cell_type": "markdown",
   "metadata": {},
   "source": [
    "- 컨볼루션 필터의 크기는 2X2, 3X3을 이용\n",
    "- 컨볼루션 필터는 지정해준 스트라이드 크기만큼 움직이게 된다.\n",
    "- 입력 (4X4) -> 특징맵 (3X3)"
   ]
  },
  {
   "cell_type": "markdown",
   "metadata": {},
   "source": [
    "### 1) 컨볼루션 신경망(CNN) 주요 개념\n",
    "- 컨볼루션 필터 = 커널 = 윈도우\n",
    "- 컨볼루션 연산\n",
    "- 스트라이드\n",
    "- 패팅\n",
    "\n",
    "### 2) 컨볼루션 연산과 스트라이드\n",
    "- 컨볼루션층은 주어진 입력 데이타에서 컨볼루션 필터를 활용하여 원소별 곱과 윈도우 슬라이딩을 행하는 컨볼루션 연산을 통해 특징맵(Feature Map)을 만들게 된다.\n",
    "- 스트라이드 : 필터가 움직일 때 몇 칸씩 뛰면서 움직이는 지의 수치"
   ]
  },
  {
   "cell_type": "markdown",
   "metadata": {},
   "source": [
    "<img src=\"./img/cnn.gif\" align=\"left\">"
   ]
  },
  {
   "cell_type": "markdown",
   "metadata": {},
   "source": [
    "<img src=\"./img/cnn2.PNG\" width=650 align=left>"
   ]
  },
  {
   "cell_type": "markdown",
   "metadata": {},
   "source": [
    "## 2. 케라스에서 컨볼루션 층 : Conv2D() "
   ]
  },
  {
   "cell_type": "markdown",
   "metadata": {},
   "source": [
    "<img src=\"./img/cnn3.png\" width=650 align=left>"
   ]
  },
  {
   "cell_type": "markdown",
   "metadata": {},
   "source": [
    "### Conv2D() "
   ]
  },
  {
   "cell_type": "markdown",
   "metadata": {},
   "source": [
    "#### Conv2D(filters = 16, kernel_size = 3, strides = (1, 1), padding = 'same', activation = 'relu', input_shape = (28, 28, 1))"
   ]
  },
  {
   "cell_type": "markdown",
   "metadata": {},
   "source": [
    "- filters : 특징맵의 차원을 결정\n",
    "    - filters = 16은 16개의 컨볼루션 필터를 사용한다는 의미\n",
    "    - 특징맵의 형태는 (batch_size, rows, cols, filters)가 된다.\n",
    "- kernel_size : (3, 3)과 같이 튜플 형태로 필터의 크기를 설정\n",
    "    - kernel_size = 3은 kernel_size = (3,3)과 동일\n",
    "- strides : 스트라이드 크기를 지정, 기본값은 (1, 1), kernel_size와 같이 하나의 숫자 형태로도 사용할 수 있다.\n",
    "- padding : 패딩에 대한 결정 여부 지정, 'same', 'valid'가 있으며 'valid'가 기본값 \n",
    "    - 'same' : 출력형태와 입력형태가 동일하도록 조절\n",
    "    - 'valid' : 패딩을 사용하지 않음\n",
    "- activation : 사용할 활성화함수를 문자열 또는 클래스 형태로 제공\n",
    "- input_shape : 입력값의 형태"
   ]
  },
  {
   "cell_type": "markdown",
   "metadata": {},
   "source": [
    "## 3. 풀링 연산\n",
    "- 풀링 연산 종류 - 평균 풀링(Average Pooling), 맥스 풀링(Max Pooling)\n",
    "- 평균 풀링(Average Pooling) : 폴링 연산에 평균값을 사용\n",
    "- 맥스 풀링(Max Pooling) : 폴링 연산에 최댓값을 사용\n",
    "- 컨볼루션 신경망에서 맥스풀링은 일반적으로 2X2 스트라이드와 2X2 윈도우 크기를 사용하여 특징맵의 크기를 절반으로 줄이는 역할을 함(다운 샘플링)"
   ]
  },
  {
   "cell_type": "markdown",
   "metadata": {},
   "source": [
    "### 1) 맥스 풀링(max pooling)의 장점\n",
    "- 모델이 물체의 주요한 특징을 학습할 수 있도록 도와주며, 컨볼루션 신경망이 이동 불변성 특성을 가지도록 한다.\n",
    "    - 이동 불변성 : 물체가 어느 위치에 있어도 그 물체를 인식할 수 있다는 것을 의미\n",
    "    - 크기 불변성, 회전 불변성 특징에는 취약하므로\n",
    "    - 이를 해결하기 위해서 일반적으로 데이타 증식(Data Augmentation) 방법을 활용해야 함\n",
    "- 모델 파라미터 수를 줄여준다.\n",
    "    - 계산 속도 향상, 과대적합 문제 노출될 위험을 줄"
   ]
  },
  {
   "cell_type": "markdown",
   "metadata": {},
   "source": [
    "### 2) 맥스 풀링의 방법"
   ]
  },
  {
   "cell_type": "markdown",
   "metadata": {},
   "source": [
    "<img src=\"./img/cnn4.png\" width=650 align=left>\n",
    "<img src=\"./img/cnn5.png\" width=650 align=left>"
   ]
  },
  {
   "cell_type": "markdown",
   "metadata": {},
   "source": [
    "### MaxPool2D()"
   ]
  },
  {
   "cell_type": "markdown",
   "metadata": {},
   "source": [
    "#### MaxPool2D(pool_size = (2, 2), strides = 2, padding = 'same')"
   ]
  },
  {
   "cell_type": "markdown",
   "metadata": {},
   "source": [
    "- pool_size : 풀링층에서 사용할 커널의 크기를 설정, Conv2D의 kernel_size처럼 하나의 숫자형태로도 사용할 수 있음\n",
    "- strides : 스트라이드 크기를 지정, 기본값은 None\n",
    "    - 이 값이 주어지지 않는 경우, pool_size의 크기와 동일한 크기로 지정\n",
    "    - 예를 들어, pool_size=(2,2)이고 strides = None이면 실제 최대 풀링층의 스트라이드는 (2,2)로 적용\n",
    "- padding : Conv2D 층의 내용과 동일"
   ]
  },
  {
   "cell_type": "markdown",
   "metadata": {},
   "source": [
    "## 4. 패딩(padding)\n",
    "- 특징맵의 크기가 감소하지 않고, 입력 데이타의 형태와 동일한 형태를 출력값으로 얻고 싶을 경우 패딩을 사용\n",
    "- 패딩을 사용하게 되면 이미지 가장자리 부분에 해당하는 정보를 손실하지 않고 전달해줄 수 있는 효과가 있다.\n",
    "- 패딩은 행과 열에 특정 숫자를 추가하는 것"
   ]
  },
  {
   "cell_type": "markdown",
   "metadata": {},
   "source": [
    "<img src=\"./img/padding.jpg\" width=500 align=left>"
   ]
  },
  {
   "cell_type": "markdown",
   "metadata": {},
   "source": [
    "## 5. 드롭 아웃(drop out)"
   ]
  },
  {
   "cell_type": "markdown",
   "metadata": {},
   "source": [
    "<img src=\"./img/cnn6.png\" width=650 align=left>"
   ]
  },
  {
   "cell_type": "markdown",
   "metadata": {},
   "source": [
    "## 6. 플래튼 : Flatten() 함수"
   ]
  },
  {
   "cell_type": "markdown",
   "metadata": {},
   "source": [
    "<img src=\"./img/cnn7.png\" width=650 align=left>"
   ]
  },
  {
   "cell_type": "markdown",
   "metadata": {},
   "source": [
    "-----\n",
    "## 컨볼루션 신경망(CNN)으로 MNIST 손글씨 분류하기"
   ]
  },
  {
   "cell_type": "markdown",
   "metadata": {},
   "source": [
    "### 1. 데이타 로드, 피쳐 정규화, 레이블 원-핫 인코딩,  검증 데이타셋 분리"
   ]
  },
  {
   "cell_type": "code",
   "execution_count": 4,
   "metadata": {},
   "outputs": [
    {
     "name": "stdout",
     "output_type": "stream",
     "text": [
      "(42000, 28, 28, 1) (42000, 10)\n",
      "(18000, 28, 28, 1) (18000, 10)\n",
      "(10000, 28, 28, 1) (10000, 10)\n"
     ]
    }
   ],
   "source": [
    "from tensorflow.keras.datasets import mnist\n",
    "from tensorflow.keras.utils import to_categorical\n",
    "import matplotlib.pyplot as plt\n",
    "import numpy\n",
    "import os\n",
    "import tensorflow as tf\n",
    "\n",
    "# seed 값 설정\n",
    "seed = 0\n",
    "numpy.random.seed(seed)\n",
    "tf.random.set_seed(seed)\n",
    "\n",
    "# 데이터 불러오기 \n",
    "(x_train, y_train), (x_test, y_test) = mnist.load_data()\n",
    "\n",
    "# 피쳐 정규화\n",
    "x_train = x_train.reshape(x_train.shape[0], 28, 28, 1).astype('float32') / 255\n",
    "x_test = x_test.reshape(x_test.shape[0], 28, 28, 1).astype('float32') / 255\n",
    "\n",
    "# 클래스 원핫 인코딩\n",
    "y_train = to_categorical(y_train)\n",
    "y_test = to_categorical(y_test)\n",
    "\n",
    "# 검증 데이타셋 만들기\n",
    "from sklearn.model_selection import train_test_split\n",
    "# 학습/검증 데이터셋을 0.7/0.3의 비율로 분리\n",
    "x_train, x_val, y_train, y_val = train_test_split(x_train, y_train, \n",
    "                                                  test_size = 0.3, \n",
    "                                                  random_state = 777,\n",
    "                                                  stratify = y_train)\n",
    "# 데이타 형태 확인\n",
    "print(x_train.shape, y_train.shape)\n",
    "print(x_val.shape, y_val.shape)\n",
    "print(x_test.shape, y_test.shape)"
   ]
  },
  {
   "cell_type": "markdown",
   "metadata": {},
   "source": [
    "### 2. 컨볼루션 신경망(CNN) 모델 구성"
   ]
  },
  {
   "cell_type": "code",
   "execution_count": 5,
   "metadata": {},
   "outputs": [],
   "source": [
    "from tensorflow.keras.models import Sequential\n",
    "from tensorflow.keras.layers import Dense, Dropout, Flatten, Conv2D, MaxPooling2D\n",
    "from tensorflow.keras.callbacks import ModelCheckpoint, EarlyStopping\n",
    "import matplotlib.pyplot as plt\n",
    "import numpy\n",
    "import os\n",
    "import tensorflow as tf\n",
    "\n",
    "# seed 값 설정\n",
    "seed = 0\n",
    "numpy.random.seed(seed)\n",
    "tf.random.set_seed(seed)\n",
    "\n",
    "# 컨볼루션 신경망 모델 구성\n",
    "model = Sequential()\n",
    "# 컨볼루션(CNN)\n",
    "# 1) 입력층 - 28*28*1, CNN층1 - 필터수: 32, 커널사이즈: (3,3), 활성화함수: relu\n",
    "model.add(Conv2D(32, kernel_size=(3, 3), input_shape=(28, 28, 1), activation='relu')) \n",
    "# 2) CNN층2 - 필터수: 64, 커널사이즈: (3,3), 활성화함수: relu\n",
    "model.add(Conv2D(64, (3, 3), activation='relu'))\n",
    "# 3) 맥스 풀링층 : (2,2)\n",
    "model.add(MaxPooling2D(pool_size=2))\n",
    "# 4) 드롭 아웃 : 25%\n",
    "model.add(Dropout(0.25))\n",
    "# 5) 플래튼 : 1차원으로 변경\n",
    "model.add(Flatten())\n",
    "# 6) 은닉층: Dense층, 노드:128, 활성화함수: relu\n",
    "model.add(Dense(128,  activation='relu'))\n",
    "# 7) 드롭 아웃: 50%\n",
    "model.add(Dropout(0.5))\n",
    "# 8) 출력층 - 출력수 : 10(0~9), 활성화함수 - softmax\n",
    "model.add(Dense(10, activation='softmax'))"
   ]
  },
  {
   "cell_type": "markdown",
   "metadata": {},
   "source": [
    "### 모델 구조 확인"
   ]
  },
  {
   "cell_type": "code",
   "execution_count": 6,
   "metadata": {},
   "outputs": [
    {
     "name": "stdout",
     "output_type": "stream",
     "text": [
      "Model: \"sequential_1\"\n",
      "_________________________________________________________________\n",
      "Layer (type)                 Output Shape              Param #   \n",
      "=================================================================\n",
      "conv2d (Conv2D)              (None, 26, 26, 32)        320       \n",
      "_________________________________________________________________\n",
      "conv2d_1 (Conv2D)            (None, 24, 24, 64)        18496     \n",
      "_________________________________________________________________\n",
      "max_pooling2d (MaxPooling2D) (None, 12, 12, 64)        0         \n",
      "_________________________________________________________________\n",
      "dropout (Dropout)            (None, 12, 12, 64)        0         \n",
      "_________________________________________________________________\n",
      "flatten (Flatten)            (None, 9216)              0         \n",
      "_________________________________________________________________\n",
      "dense_3 (Dense)              (None, 128)               1179776   \n",
      "_________________________________________________________________\n",
      "dropout_1 (Dropout)          (None, 128)               0         \n",
      "_________________________________________________________________\n",
      "dense_4 (Dense)              (None, 10)                1290      \n",
      "=================================================================\n",
      "Total params: 1,199,882\n",
      "Trainable params: 1,199,882\n",
      "Non-trainable params: 0\n",
      "_________________________________________________________________\n"
     ]
    }
   ],
   "source": [
    "# 1) \n",
    "model.summary()"
   ]
  },
  {
   "cell_type": "code",
   "execution_count": 7,
   "metadata": {},
   "outputs": [
    {
     "data": {
      "image/png": "[encoded data removed]",
      "text/plain": [
       "<IPython.core.display.Image object>"
      ]
     },
     "execution_count": 7,
     "metadata": {},
     "output_type": "execute_result"
    }
   ],
   "source": [
    "# 2)\n",
    "# (1) pip install pydotplus\n",
    "# (2) Graphviz 패키지 다운로드 후 설치 : https://graphviz.gitlab.io/download/\n",
    "# (3) 윈도우에서 환경변수에 경로 추가\n",
    "# (4) 아나콘다 다시 실행\n",
    "\n",
    "# import os\n",
    "# os.environ[\"PATH\"] = 'C:/Program Files (x86)/Graphviz2.38/bin'\n",
    "\n",
    "from tensorflow.keras.utils import plot_model\n",
    "plot_model(model, './model.png', show_shapes=True)"
   ]
  },
  {
   "cell_type": "markdown",
   "metadata": {},
   "source": [
    "### 3. 컴파일 설정"
   ]
  },
  {
   "cell_type": "code",
   "execution_count": 8,
   "metadata": {},
   "outputs": [],
   "source": [
    "model.compile(loss='categorical_crossentropy',\n",
    "              optimizer='adam',\n",
    "              metrics=['acc'])"
   ]
  },
  {
   "cell_type": "markdown",
   "metadata": {},
   "source": [
    "### 4. Early_stopping  콜백 사용하여 모델 학습"
   ]
  },
  {
   "cell_type": "code",
   "execution_count": 9,
   "metadata": {},
   "outputs": [],
   "source": [
    "# 모델 최적화 설정\n",
    "MODEL_DIR = './model/'\n",
    "if not os.path.exists(MODEL_DIR):\n",
    "    os.mkdir(MODEL_DIR)\n",
    "\n",
    "modelpath=\"./model/mnist.hdf5\"\n",
    "checkpointer = ModelCheckpoint(filepath=modelpath, monitor='val_loss', verbose=1, save_best_only=True)\n",
    "early_stopping_callback = EarlyStopping(monitor='val_loss', patience=10)"
   ]
  },
  {
   "cell_type": "markdown",
   "metadata": {},
   "source": [
    "### 5. 모델 실행"
   ]
  },
  {
   "cell_type": "code",
   "execution_count": 10,
   "metadata": {},
   "outputs": [
    {
     "name": "stdout",
     "output_type": "stream",
     "text": [
      "Epoch 1/30\n",
      "WARNING:tensorflow:AutoGraph could not transform <function Model.make_train_function.<locals>.train_function at 0x000001BA800F18B8> and will run it as-is.\n",
      "Please report this to the TensorFlow team. When filing the bug, set the verbosity to 10 (on Linux, `export AUTOGRAPH_VERBOSITY=10`) and attach the full output.\n",
      "Cause: Bad argument number for Name: 4, expecting 3\n",
      "To silence this warning, decorate the function with @tf.autograph.experimental.do_not_convert\n",
      "WARNING: AutoGraph could not transform <function Model.make_train_function.<locals>.train_function at 0x000001BA800F18B8> and will run it as-is.\n",
      "Please report this to the TensorFlow team. When filing the bug, set the verbosity to 10 (on Linux, `export AUTOGRAPH_VERBOSITY=10`) and attach the full output.\n",
      "Cause: Bad argument number for Name: 4, expecting 3\n",
      "To silence this warning, decorate the function with @tf.autograph.experimental.do_not_convert\n",
      "656/657 [============================>.] - ETA: 0s - loss: 0.2429 - acc: 0.9278WARNING:tensorflow:AutoGraph could not transform <function Model.make_test_function.<locals>.test_function at 0x000001BA8008ACA8> and will run it as-is.\n",
      "Please report this to the TensorFlow team. When filing the bug, set the verbosity to 10 (on Linux, `export AUTOGRAPH_VERBOSITY=10`) and attach the full output.\n",
      "Cause: Bad argument number for Name: 4, expecting 3\n",
      "To silence this warning, decorate the function with @tf.autograph.experimental.do_not_convert\n",
      "WARNING: AutoGraph could not transform <function Model.make_test_function.<locals>.test_function at 0x000001BA8008ACA8> and will run it as-is.\n",
      "Please report this to the TensorFlow team. When filing the bug, set the verbosity to 10 (on Linux, `export AUTOGRAPH_VERBOSITY=10`) and attach the full output.\n",
      "Cause: Bad argument number for Name: 4, expecting 3\n",
      "To silence this warning, decorate the function with @tf.autograph.experimental.do_not_convert\n",
      "\n",
      "Epoch 00001: val_loss improved from inf to 0.06734, saving model to ./model/mnist.hdf5\n",
      "657/657 [==============================] - 59s 89ms/step - loss: 0.2430 - acc: 0.9278 - val_loss: 0.0673 - val_acc: 0.9794\n",
      "Epoch 2/30\n",
      "656/657 [============================>.] - ETA: 0s - loss: 0.0891 - acc: 0.9732\n",
      "Epoch 00002: val_loss improved from 0.06734 to 0.05537, saving model to ./model/mnist.hdf5\n",
      "657/657 [==============================] - 58s 88ms/step - loss: 0.0891 - acc: 0.9732 - val_loss: 0.0554 - val_acc: 0.9841\n",
      "Epoch 3/30\n",
      "656/657 [============================>.] - ETA: 0s - loss: 0.0676 - acc: 0.9793\n",
      "Epoch 00003: val_loss improved from 0.05537 to 0.04676, saving model to ./model/mnist.hdf5\n",
      "657/657 [==============================] - 59s 90ms/step - loss: 0.0676 - acc: 0.9793 - val_loss: 0.0468 - val_acc: 0.9855\n",
      "Epoch 4/30\n",
      "656/657 [============================>.] - ETA: 0s - loss: 0.0538 - acc: 0.9833\n",
      "Epoch 00004: val_loss improved from 0.04676 to 0.04135, saving model to ./model/mnist.hdf5\n",
      "657/657 [==============================] - 60s 91ms/step - loss: 0.0539 - acc: 0.9832 - val_loss: 0.0413 - val_acc: 0.9879\n",
      "Epoch 5/30\n",
      "656/657 [============================>.] - ETA: 0s - loss: 0.0458 - acc: 0.9854\n",
      "Epoch 00005: val_loss did not improve from 0.04135\n",
      "657/657 [==============================] - 58s 88ms/step - loss: 0.0458 - acc: 0.9854 - val_loss: 0.0476 - val_acc: 0.9866\n",
      "Epoch 6/30\n",
      "656/657 [============================>.] - ETA: 0s - loss: 0.0399 - acc: 0.9877\n",
      "Epoch 00006: val_loss did not improve from 0.04135\n",
      "657/657 [==============================] - 59s 90ms/step - loss: 0.0401 - acc: 0.9876 - val_loss: 0.0466 - val_acc: 0.9878\n",
      "Epoch 7/30\n",
      "656/657 [============================>.] - ETA: 0s - loss: 0.0346 - acc: 0.9888\n",
      "Epoch 00007: val_loss did not improve from 0.04135\n",
      "657/657 [==============================] - 61s 93ms/step - loss: 0.0346 - acc: 0.9888 - val_loss: 0.0441 - val_acc: 0.9878\n",
      "Epoch 8/30\n",
      "656/657 [============================>.] - ETA: 0s - loss: 0.0323 - acc: 0.9894\n",
      "Epoch 00008: val_loss did not improve from 0.04135\n",
      "657/657 [==============================] - 60s 92ms/step - loss: 0.0323 - acc: 0.9894 - val_loss: 0.0459 - val_acc: 0.9887\n",
      "Epoch 9/30\n",
      "656/657 [============================>.] - ETA: 0s - loss: 0.0296 - acc: 0.9905\n",
      "Epoch 00009: val_loss did not improve from 0.04135\n",
      "657/657 [==============================] - 60s 92ms/step - loss: 0.0296 - acc: 0.9905 - val_loss: 0.0433 - val_acc: 0.9888\n",
      "Epoch 10/30\n",
      "656/657 [============================>.] - ETA: 0s - loss: 0.0253 - acc: 0.9922\n",
      "Epoch 00010: val_loss improved from 0.04135 to 0.04073, saving model to ./model/mnist.hdf5\n",
      "657/657 [==============================] - 61s 92ms/step - loss: 0.0253 - acc: 0.9922 - val_loss: 0.0407 - val_acc: 0.9899\n",
      "Epoch 11/30\n",
      "656/657 [============================>.] - ETA: 0s - loss: 0.0222 - acc: 0.9927\n",
      "Epoch 00011: val_loss did not improve from 0.04073\n",
      "657/657 [==============================] - 59s 89ms/step - loss: 0.0222 - acc: 0.9927 - val_loss: 0.0456 - val_acc: 0.9891\n",
      "Epoch 12/30\n",
      "656/657 [============================>.] - ETA: 0s - loss: 0.0241 - acc: 0.9917\n",
      "Epoch 00012: val_loss did not improve from 0.04073\n",
      "657/657 [==============================] - 60s 92ms/step - loss: 0.0241 - acc: 0.9917 - val_loss: 0.0445 - val_acc: 0.9889\n",
      "Epoch 13/30\n",
      "656/657 [============================>.] - ETA: 0s - loss: 0.0236 - acc: 0.9926\n",
      "Epoch 00013: val_loss did not improve from 0.04073\n",
      "657/657 [==============================] - 59s 90ms/step - loss: 0.0236 - acc: 0.9926 - val_loss: 0.0414 - val_acc: 0.9896\n",
      "Epoch 14/30\n",
      "656/657 [============================>.] - ETA: 0s - loss: 0.0184 - acc: 0.9932\n",
      "Epoch 00014: val_loss did not improve from 0.04073\n",
      "657/657 [==============================] - 59s 90ms/step - loss: 0.0184 - acc: 0.9932 - val_loss: 0.0470 - val_acc: 0.9897\n",
      "Epoch 15/30\n",
      "656/657 [============================>.] - ETA: 0s - loss: 0.0194 - acc: 0.9931\n",
      "Epoch 00015: val_loss did not improve from 0.04073\n",
      "657/657 [==============================] - 60s 91ms/step - loss: 0.0194 - acc: 0.9931 - val_loss: 0.0459 - val_acc: 0.9892\n",
      "Epoch 16/30\n",
      "656/657 [============================>.] - ETA: 0s - loss: 0.0136 - acc: 0.9950\n",
      "Epoch 00016: val_loss did not improve from 0.04073\n",
      "657/657 [==============================] - 60s 92ms/step - loss: 0.0136 - acc: 0.9950 - val_loss: 0.0578 - val_acc: 0.9891\n",
      "Epoch 17/30\n",
      "656/657 [============================>.] - ETA: 0s - loss: 0.0160 - acc: 0.9943\n",
      "Epoch 00017: val_loss did not improve from 0.04073\n",
      "657/657 [==============================] - 60s 91ms/step - loss: 0.0160 - acc: 0.9943 - val_loss: 0.0475 - val_acc: 0.9901\n",
      "Epoch 18/30\n",
      "656/657 [============================>.] - ETA: 0s - loss: 0.0140 - acc: 0.9953\n",
      "Epoch 00018: val_loss did not improve from 0.04073\n",
      "657/657 [==============================] - 60s 91ms/step - loss: 0.0140 - acc: 0.9953 - val_loss: 0.0486 - val_acc: 0.9903\n",
      "Epoch 19/30\n",
      "656/657 [============================>.] - ETA: 0s - loss: 0.0158 - acc: 0.9943\n",
      "Epoch 00019: val_loss did not improve from 0.04073\n",
      "657/657 [==============================] - 60s 92ms/step - loss: 0.0157 - acc: 0.9943 - val_loss: 0.0489 - val_acc: 0.9894\n",
      "Epoch 20/30\n",
      "656/657 [============================>.] - ETA: 0s - loss: 0.0144 - acc: 0.9948\n",
      "Epoch 00020: val_loss did not improve from 0.04073\n",
      "657/657 [==============================] - 59s 89ms/step - loss: 0.0144 - acc: 0.9948 - val_loss: 0.0461 - val_acc: 0.9900\n"
     ]
    }
   ],
   "source": [
    "history = model.fit(x_train, y_train, validation_data=(x_val, y_val), epochs=30, batch_size=64, \n",
    "                    verbose=1, callbacks=[early_stopping_callback,checkpointer])"
   ]
  },
  {
   "cell_type": "markdown",
   "metadata": {},
   "source": [
    "### 6. 모델 평가"
   ]
  },
  {
   "cell_type": "code",
   "execution_count": 17,
   "metadata": {},
   "outputs": [
    {
     "name": "stdout",
     "output_type": "stream",
     "text": [
      "313/313 [==============================] - 3s 11ms/step - loss: 0.0379 - acc: 0.9917\n",
      "\n",
      " Test Accuracy: 0.9917\n"
     ]
    }
   ],
   "source": [
    "# 테스트 정확도 출력\n",
    "print(\"\\n Test Accuracy: %.4f\" % (model.evaluate(x_test, y_test)[1]))"
   ]
  },
  {
   "cell_type": "markdown",
   "metadata": {},
   "source": [
    "### CNN 모델 정확도 : 0.9917"
   ]
  },
  {
   "cell_type": "markdown",
   "metadata": {},
   "source": [
    "### 7. 학습 과정 그래프 시각화"
   ]
  },
  {
   "cell_type": "code",
   "execution_count": 18,
   "metadata": {},
   "outputs": [
    {
     "data": {
      "text/plain": [
       "dict_keys(['loss', 'acc', 'val_loss', 'val_acc'])"
      ]
     },
     "execution_count": 18,
     "metadata": {},
     "output_type": "execute_result"
    }
   ],
   "source": [
    "history.history.keys()"
   ]
  },
  {
   "cell_type": "code",
   "execution_count": 19,
   "metadata": {},
   "outputs": [
    {
     "data": {
      "image/png": "[encoded data removed]",
      "text/plain": [
       "<Figure size 720x360 with 2 Axes>"
      ]
     },
     "metadata": {
      "needs_background": "light"
     },
     "output_type": "display_data"
    }
   ],
   "source": [
    "import matplotlib.pyplot as plt\n",
    "\n",
    "his_dict = history.history\n",
    "loss = his_dict['loss']\n",
    "val_loss = his_dict['val_loss'] # 검증 데이터가 있는 경우 ‘val_’ 수식어가 붙습니다.\n",
    "\n",
    "epochs = range(1, len(loss) + 1)\n",
    "fig = plt.figure(figsize = (10, 5))\n",
    "\n",
    "# 훈련 및 검증 손실 그리기\n",
    "ax1 = fig.add_subplot(1, 2, 1)\n",
    "ax1.plot(epochs, loss, color = 'blue', label = 'train_loss')\n",
    "ax1.plot(epochs, val_loss, color = 'orange', label = 'val_loss')\n",
    "ax1.set_title('train and val loss')\n",
    "ax1.set_xlabel('epochs')\n",
    "ax1.set_ylabel('loss')\n",
    "ax1.legend()\n",
    "ax1.grid()\n",
    "\n",
    "acc = his_dict['acc']\n",
    "val_acc = his_dict['val_acc']\n",
    "\n",
    "# 훈련 및 검증 정확도 그리기\n",
    "ax2 = fig.add_subplot(1, 2, 2)\n",
    "ax2.plot(epochs, acc, color = 'blue', label = 'train_acc')\n",
    "ax2.plot(epochs, val_acc, color = 'orange', label = 'val_acc')\n",
    "ax2.set_title('train and val acc')\n",
    "ax2.set_xlabel('epochs')\n",
    "ax2.set_ylabel('acc')\n",
    "ax2.legend()\n",
    "ax2.grid()\n",
    "\n",
    "plt.show()"
   ]
  },
  {
   "cell_type": "markdown",
   "metadata": {},
   "source": [
    "### 전체 코드"
   ]
  },
  {
   "cell_type": "code",
   "execution_count": 14,
   "metadata": {},
   "outputs": [],
   "source": [
    "# from keras.datasets import mnist\n",
    "# from keras.utils import np_utils\n",
    "# from tensorflow.keras.models import Sequential\n",
    "# from tensorflow.keras.layers import Dense, Dropout, Flatten, Conv2D, MaxPooling2D\n",
    "# from tensorflow.keras.callbacks import ModelCheckpoint, EarlyStopping\n",
    "\n",
    "# import matplotlib.pyplot as plt\n",
    "# import numpy\n",
    "# import os\n",
    "# import tensorflow as tf\n",
    "\n",
    "# # seed 값 설정\n",
    "# seed = 0\n",
    "# numpy.random.seed(seed)\n",
    "# tf.random.set_seed(seed)\n",
    "\n",
    "# # 데이터 불러오기 - 속성/클래스 구분, 학습 데이타 셋/테스트 데이타 셋 구분\n",
    "# (X_train, Y_train), (X_test, Y_test) = mnist.load_data()\n",
    "\n",
    "# # 속성 정규화\n",
    "# X_train = X_train.reshape(X_train.shape[0], 28, 28, 1).astype('float32') / 255\n",
    "# X_test = X_test.reshape(X_test.shape[0], 28, 28, 1).astype('float32') / 255\n",
    "\n",
    "# # 클래스 원핫 인코딩\n",
    "# Y_train = np_utils.to_categorical(Y_train)\n",
    "# Y_test = np_utils.to_categorical(Y_test)\n",
    "\n",
    "# # 검증 데이타셋 만들기\n",
    "# from sklearn.model_selection import train_test_split\n",
    "# # 학습/검증 데이터셋을 0.7/0.3의 비율로 분리\n",
    "# x_train, x_val, y_train, y_val = train_test_split(x_train, y_train, \n",
    "#                                                   test_size = 0.3, \n",
    "#                                                   random_state = 777,\n",
    "#                                                   stratify = y_train)"
   ]
  },
  {
   "cell_type": "code",
   "execution_count": 15,
   "metadata": {},
   "outputs": [],
   "source": [
    "# # 컨볼루션 신경망의 구성\n",
    "# model.add(Conv2D(32, kernel_size=(3, 3), input_shape=(28, 28, 1), activation='relu'))\n",
    "# model.add(Conv2D(64, (3, 3), activation='relu'))\n",
    "# model.add(MaxPooling2D(pool_size=2))\n",
    "# model.add(Dropout(0.25))\n",
    "# model.add(Flatten())\n",
    "# model.add(Dense(128,  activation='relu'))\n",
    "# model.add(Dropout(0.5))\n",
    "# model.add(Dense(10, activation='softmax'))\n",
    "\n",
    "# # 컴파일 설정\n",
    "# model.compile(loss='categorical_crossentropy',\n",
    "#               optimizer='adam',\n",
    "#               metrics=['accuracy'])\n",
    "\n",
    "# # 모델 최적화 설정\n",
    "# MODEL_DIR = './model/'\n",
    "# if not os.path.exists(MODEL_DIR):\n",
    "#     os.mkdir(MODEL_DIR)\n",
    "\n",
    "# modelpath=\"./model/{epoch:02d}-{val_loss:.4f}.hdf5\"\n",
    "# checkpointer = ModelCheckpoint(filepath=modelpath, monitor='val_loss', verbose=1, save_best_only=True)\n",
    "# early_stopping_callback = EarlyStopping(monitor='val_loss', patience=10)\n",
    "\n",
    "# # 모델 실행\n",
    "# history = model.fit(x_train, y_train, validation_data=(x_val, y_val), epochs=30, batch_size=200, \n",
    "#                     verbose=1, callbacks=[early_stopping_callback,checkpointer])\n",
    "\n",
    "# # 테스트 정확도 출력\n",
    "# print(\"\\n Test Accuracy: %.4f\" % (model.evaluate(x_test, y_test)[1]))"
   ]
  },
  {
   "cell_type": "code",
   "execution_count": 16,
   "metadata": {},
   "outputs": [],
   "source": [
    "# import matplotlib.pyplot as plt\n",
    "\n",
    "# his_dict = history.history\n",
    "# loss = his_dict['loss']\n",
    "# val_loss = his_dict['val_loss'] # 검증 데이터가 있는 경우 ‘val_’ 수식어가 붙습니다.\n",
    "\n",
    "# epochs = range(1, len(loss) + 1)\n",
    "# fig = plt.figure(figsize = (10, 5))\n",
    "\n",
    "# # 훈련 및 검증 손실 그리기\n",
    "# ax1 = fig.add_subplot(1, 2, 1)\n",
    "# ax1.plot(epochs, loss, color = 'blue', label = 'train_loss')\n",
    "# ax1.plot(epochs, val_loss, color = 'orange', label = 'val_loss')\n",
    "# ax1.set_title('train and val loss')\n",
    "# ax1.set_xlabel('epochs')\n",
    "# ax1.set_ylabel('loss')\n",
    "# ax1.legend()\n",
    "# ax1.grid()\n",
    "\n",
    "# acc = his_dict['acc']\n",
    "# val_acc = his_dict['val_acc']\n",
    "\n",
    "# # 훈련 및 검증 정확도 그리기\n",
    "# ax2 = fig.add_subplot(1, 2, 2)\n",
    "# ax2.plot(epochs, acc, color = 'blue', label = 'train_acc')\n",
    "# ax2.plot(epochs, val_acc, color = 'orange', label = 'val_acc')\n",
    "# ax2.set_title('train and val acc')\n",
    "# ax2.set_xlabel('epochs')\n",
    "# ax2.set_ylabel('acc')\n",
    "# ax2.legend()\n",
    "# ax2.grid()\n",
    "\n",
    "# plt.show()"
   ]
  },
  {
   "cell_type": "markdown",
   "metadata": {},
   "source": [
    "### 실행 결과\n",
    "- 7번째 에포크에서 베스트 모델을 만들었고 17번째 에포크에서 학습이 자동 중단됨\n",
    "- 테스트 정확도가 99.25%로 향상됨\n",
    "- 0.9925, 즉 99.25%의 정확도는 10,000개의 테스트 이미지 중 9,925개를 맞추었다는 뜻\n",
    "- 앞 단계의 정확도가 98.33%(9,833개)였으므로 이보다 92개의 정답을 더 맞힌 것\n",
    "- 100% 다 맞히지 못한 이유는 데이터 안에 다음과 같이 확인할 수 없는 글씨가 들어있었기 때문"
   ]
  },
  {
   "cell_type": "markdown",
   "metadata": {},
   "source": [
    "<img src=\"./img/cnn8.png\" width=600 align=left>"
   ]
  },
  {
   "cell_type": "markdown",
   "metadata": {},
   "source": [
    "- 우리가 만든 딥러닝 모델은 이미 사람의 인식 정도와 같거나 이를 뛰어넘는 인식률을 보여 준다!"
   ]
  },
  {
   "cell_type": "code",
   "execution_count": null,
   "metadata": {},
   "outputs": [],
   "source": []
  }
 ],
 "metadata": {
  "kernelspec": {
   "display_name": "Python 3",
   "language": "python",
   "name": "python3"
  },
  "language_info": {
   "codemirror_mode": {
    "name": "ipython",
    "version": 3
   },
   "file_extension": ".py",
   "mimetype": "text/x-python",
   "name": "python",
   "nbconvert_exporter": "python",
   "pygments_lexer": "ipython3",
   "version": "3.7.6"
  }
 },
 "nbformat": 4,
 "nbformat_minor": 4
}
