{
 "cells": [
  {
   "cell_type": "markdown",
   "metadata": {},
   "source": [
    "# CNN으로 Fashion-MNIST 인식하기"
   ]
  },
  {
   "cell_type": "markdown",
   "metadata": {},
   "source": [
    "### 1) Fashion-MNIST 데이타 불러오기 및 전처리"
   ]
  },
  {
   "cell_type": "code",
   "execution_count": null,
   "metadata": {},
   "outputs": [],
   "source": []
  },
  {
   "cell_type": "markdown",
   "metadata": {},
   "source": [
    "### 2) CNN 모델 구성하기"
   ]
  },
  {
   "cell_type": "markdown",
   "metadata": {},
   "source": [
    "#### (1) Sequential() 함수에 리스트 형태로 케라스층 구성하기"
   ]
  },
  {
   "cell_type": "code",
   "execution_count": null,
   "metadata": {},
   "outputs": [],
   "source": []
  },
  {
   "cell_type": "markdown",
   "metadata": {},
   "source": [
    "#### (2) add() 함수로 케라스층 구성하기"
   ]
  },
  {
   "cell_type": "code",
   "execution_count": null,
   "metadata": {},
   "outputs": [],
   "source": []
  },
  {
   "cell_type": "code",
   "execution_count": null,
   "metadata": {},
   "outputs": [],
   "source": []
  },
  {
   "cell_type": "markdown",
   "metadata": {},
   "source": [
    "### 3) CNN 모델 학습하기"
   ]
  },
  {
   "cell_type": "code",
   "execution_count": null,
   "metadata": {},
   "outputs": [],
   "source": []
  },
  {
   "cell_type": "markdown",
   "metadata": {},
   "source": [
    "- 결과해석)\n",
    "- MLP로 Fashion-MNINST 한 결과는 88~89% 정확도\n",
    "- CNN 모델로 Fashion-MNINST 한 결과는 92% 정확도\n",
    "- Dense층으로만 구성한 모델보다 컨볼루션 신경망으로 구성한 모델이 향상된 성능을 보여준다."
   ]
  },
  {
   "cell_type": "markdown",
   "metadata": {},
   "source": [
    "## 컨볼루션 신경망(Convolutional Neural Network, CNN, 합성곱)"
   ]
  },
  {
   "cell_type": "markdown",
   "metadata": {},
   "source": [
    "## 컨볼루션층을 사용하는 이유\n",
    "### 완전연결층 단점\n",
    "- 완전연결층(fully-connected layer)은 1차원 배열 형태의 데이타를 통해 학습\n",
    "- 데이타를 단순히 1차원으로 펼쳐서 사용하기 때문에 각 이미지 픽셀의 관계를 고려하지 않는다.\n",
    "- 2차원 배열 형태(28, 28)를 1차원 배열 형태의 데이타(28*28)로 변환하면서 본래 데이타의 특징을 읽어버리게 된다.\n",
    "- 지역적 특징이 아닌 전역적 특징을 학습하게 되는 것 -> '공간 정보를 손실한다'\n",
    "- 완전연결층의 은닉 노드수를 늘려 문제를 해결할 수도 있지만, 급격히 증가하는 파라미터 수로 인해 과대적합 문제가 발생할 수도 있다."
   ]
  },
  {
   "cell_type": "markdown",
   "metadata": {},
   "source": [
    "### 컨볼루션층을 사용하는 이유\n",
    "- 이미지 픽셀 사이의 관게를 고려하기 때문에 지역적 특징을 학습하게 됨 -> '공간 정보를 유지한다'\n",
    "- 각 필터의 파라미터가 공유되기 때문에 완전연결층에 비해 적은 수의 파라미터를 요구"
   ]
  },
  {
   "cell_type": "markdown",
   "metadata": {},
   "source": [
    "## 컨볼루션 필터\n",
    "- 컨볼루션층에서 '필터'라는 개념 사용\n",
    "- 사진을 찍고 난 후, 틀정 사진 앱을 사용하여 얼굴을 변형해주는 필터와 동일한 개념 -> 이미지 필터\n",
    "- 컨볼루션층은 여러 개의 컨볼루션 필터를 활용하여 이미지에 내포된 다양한 정보를 인식할 수 있다."
   ]
  },
  {
   "cell_type": "markdown",
   "metadata": {},
   "source": [
    "### 이미지 필터 사용해보기\n",
    "- 이미지 가장자리를 검출하는 소벨 필터(Sobel Filter) 사용 "
   ]
  },
  {
   "cell_type": "markdown",
   "metadata": {},
   "source": [
    "#### 1) 이미지 불러오기"
   ]
  },
  {
   "cell_type": "code",
   "execution_count": null,
   "metadata": {},
   "outputs": [],
   "source": []
  },
  {
   "cell_type": "markdown",
   "metadata": {},
   "source": [
    "#### 2) 이미지 필터 정의하기\n",
    "- 소벨 필터 \n",
    "    - 두가지 대표적인 필터를 이용하여 가로선과 세로선을 추출하고,\n",
    "    - 이를 더하여 가장자리가 검출된 최종 이미지를 얻는다.\n",
    "- pip install opencv-python"
   ]
  },
  {
   "cell_type": "code",
   "execution_count": null,
   "metadata": {},
   "outputs": [],
   "source": []
  },
  {
   "cell_type": "markdown",
   "metadata": {},
   "source": [
    "#### 3) 이미지 필터 적용하기"
   ]
  },
  {
   "cell_type": "code",
   "execution_count": null,
   "metadata": {},
   "outputs": [],
   "source": [
    "filter_size = 3\n",
    "def get_filtered_image(filter):\n",
    "    filtered_image = np.zeros((output_size, output_size))    \n",
    "    for i in range(output_size):\n",
    "        for j in range(output_size):\n",
    "            # 합성곱 연산\n",
    "            indice_image = test_image[i:(i + filter_size), j:(j + filter_size)] * filter\n",
    "            indice_sum = np.sum(indice_image)\n",
    "\n",
    "            if(indice_sum > 255):\n",
    "                indice_sum = 255\n",
    "            filtered_image[i, j] = indice_sum\n",
    "      \n",
    "    return filtered_image\n",
    "\n",
    "vertical_filtered_image = get_filtered_image(vertical_filter)\n",
    "horizontal_filtered_image = get_filtered_image(horizontal_filter)\n",
    "plt.subplot(1, 2, 1)\n",
    "plt.title('vertical')\n",
    "plt.imshow(vertical_filtered_image)\n",
    "plt.subplot(1, 2, 2)\n",
    "plt.title('horizontal')\n",
    "plt.imshow(horizontal_filtered_image)\n",
    "plt.show()"
   ]
  },
  {
   "cell_type": "markdown",
   "metadata": {},
   "source": [
    "#### 4) 이미지 필터를 적용한 최종 결과"
   ]
  },
  {
   "cell_type": "code",
   "execution_count": null,
   "metadata": {},
   "outputs": [],
   "source": [
    "sobel_image = np.sqrt(np.square(horizontal_filtered_image) + np.square(vertical_filtered_image))\n",
    "\n",
    "plt.title('vertical + horizontal')\n",
    "plt.imshow(sobel_image)"
   ]
  },
  {
   "cell_type": "markdown",
   "metadata": {},
   "source": [
    "- 이미지 필터 실습을 통해 가로선 필터와 세로선 필터를 직접 정의하여 사용\n",
    "- 하지만, 컨볼루션층을 사용하면 필터를 직접 정의할 필요가 없다.\n",
    "- 컨볼루션 필터의 파라미터가 학습을 통해 적절히 조정되기 때문\n",
    "- 여러개의 필터를 사용하여 다수의 특징을 학습하고, 인식할 수 있다."
   ]
  },
  {
   "cell_type": "markdown",
   "metadata": {},
   "source": [
    "## 컨볼루션 신경망(CNN) 개념\n",
    "- 컨볼루션 필터 = 커널 = 윈도우\n",
    "- 컨볼루션 연산\n",
    "- 스트라이드\n",
    "- 패팅\n",
    "\n",
    "### 컨볼루션 연산과 스트라이드\n",
    "- 컨볼루션층은 주어진 입력 데이타에서 컨볼루션 필터를 활용하여 원소별 곱과 윈도우 슬라이딩을 행하는 컨볼루션 연산을 통해 특징맵(Feature Map)을 만들게 된다.\n",
    "- 스트라이드 : 필터가 움직일 때 몇 칸씩 뛰면서 움직이는 지의 수치"
   ]
  },
  {
   "cell_type": "markdown",
   "metadata": {},
   "source": [
    "<img src=\"./img/cnn1.png\" width=650 align=left>"
   ]
  },
  {
   "cell_type": "markdown",
   "metadata": {},
   "source": [
    "- 컨볼루션 필터의 크기는 2X2, 3X3을 이용\n",
    "- 컨볼루션 필터는 지정해준 스트라이드 크기만큼 움직이게 된다.\n",
    "- 입력 (4X4) -> 특징맵 (3X3)"
   ]
  },
  {
   "cell_type": "markdown",
   "metadata": {},
   "source": [
    "<img src=\"./img/cnn2.png\" width=650 align=left>"
   ]
  },
  {
   "cell_type": "markdown",
   "metadata": {},
   "source": [
    "## 케라스에서 컨볼루션 층을 추가 : Conv2D() "
   ]
  },
  {
   "cell_type": "markdown",
   "metadata": {},
   "source": [
    "<img src=\"./img/cnn3.png\" width=650 align=left>"
   ]
  },
  {
   "cell_type": "markdown",
   "metadata": {},
   "source": [
    "### 패딩\n",
    "- 특징맵의 크기가 감소하지 않고, 입력 데이타의 형태와 동일한 형태를 출력값으로 얻고 싶을 경우 패딩을 사용\n",
    "- 패딩을 사용하게 되면 이미지 가장자리 부분에 해당하는 정보를 손실하지 않고 전달해줄 수 있는 효과가 있다.\n",
    "- 패딩은 행과 열에 특정 숫자를 추가하는 것"
   ]
  },
  {
   "cell_type": "markdown",
   "metadata": {},
   "source": [
    "<img src=\"./img/padding.jpg\" width=500 align=left>"
   ]
  },
  {
   "cell_type": "markdown",
   "metadata": {},
   "source": [
    "### 풀링 연산\n",
    "- 풀링 연산 종류 - 평균 풀링(Average Pooling), 맥스 풀링(Max Pooling)\n",
    "- 평균 풀링(Average Pooling) : 폴링 연산에 평균값을 사용\n",
    "- 맥스 풀링(Max Pooling) : 폴링 연산에 최댓값을 사용\n",
    "- 컨볼루션 신경망에서 맥스풀링은 일반적으로 2X2 스트라이드와 2X2 윈도우 크기를 사용하여 특징맵의 크기를 절반으로 줄이는 역할을 함(다운 샘플링)\n"
   ]
  },
  {
   "cell_type": "markdown",
   "metadata": {},
   "source": [
    "### 맥스 풀링(max pooling)의 장점\n",
    "- 모델이 물체의 주요한 특징을 학습할 수 있도록 도와주며, 컨볼루션 신경망이 이동 불변성 특성을 가지도록 한다.\n",
    "    - 이동 불변성 : 물체가 어느 위치에 있어도 그 물체를 인식할 수 있다는 것을 의미\n",
    "    - 크기 불변성, 회전 불변성 특징에는 취약하므로\n",
    "    - 이를 해결하기 위해서 일반적으로 데이타 증식(Data Augmentation) 방법을 활용해야 함\n",
    "- 모델 파라미터 수를 줄여준다.\n",
    "    - 계산 속도 향상, 과대적합 문제 노출될 위험을 줄임"
   ]
  },
  {
   "cell_type": "markdown",
   "metadata": {},
   "source": [
    "<img src=\"./img/cnn4.png\" width=650 align=left>\n",
    "<img src=\"./img/cnn5.png\" width=650 align=left>"
   ]
  },
  {
   "cell_type": "markdown",
   "metadata": {},
   "source": [
    "### 맥스 풀링 구현해보기"
   ]
  },
  {
   "cell_type": "code",
   "execution_count": null,
   "metadata": {},
   "outputs": [],
   "source": []
  },
  {
   "cell_type": "markdown",
   "metadata": {},
   "source": [
    "## 드롭 아웃(drop out)"
   ]
  },
  {
   "cell_type": "markdown",
   "metadata": {},
   "source": [
    "<img src=\"./img/cnn6.png\" width=650 align=left>"
   ]
  },
  {
   "cell_type": "markdown",
   "metadata": {},
   "source": [
    "## 플래튼 : Flatten() 함수"
   ]
  },
  {
   "cell_type": "markdown",
   "metadata": {},
   "source": [
    "<img src=\"./img/cnn7.png\" width=650 align=left>"
   ]
  },
  {
   "cell_type": "markdown",
   "metadata": {},
   "source": [
    "## CNN으로 Fashoion-MNIST 인식하기"
   ]
  },
  {
   "cell_type": "markdown",
   "metadata": {},
   "source": [
    "### 컨볼루션 신경망의 설정"
   ]
  },
  {
   "cell_type": "code",
   "execution_count": null,
   "metadata": {},
   "outputs": [],
   "source": []
  },
  {
   "cell_type": "markdown",
   "metadata": {},
   "source": [
    "### 모델 구조 확인하기\n",
    "- summary(), plot_model() 함수 활용"
   ]
  },
  {
   "cell_type": "code",
   "execution_count": null,
   "metadata": {},
   "outputs": [],
   "source": []
  },
  {
   "cell_type": "code",
   "execution_count": null,
   "metadata": {},
   "outputs": [],
   "source": []
  },
  {
   "cell_type": "markdown",
   "metadata": {},
   "source": [
    "### CNN 모델 살펴보기"
   ]
  },
  {
   "cell_type": "markdown",
   "metadata": {},
   "source": [
    "#### Conv2D(filters = 16, kernel_size = 3, strides = (1, 1), padding = 'same', activation = 'relu', input_shape = (28, 28, 1))"
   ]
  },
  {
   "cell_type": "markdown",
   "metadata": {},
   "source": [
    "- filters : 특징맵의 차원을 결정\n",
    "    - filters = 16은 16개의 컨볼루션 필터를 사용한다는 의미\n",
    "    - 특징맵의 형태는 (batch_size, rows, cols, filters)가 된다.\n",
    "- kernel_size : (3, 3)과 같이 튜플 형태로 필터의 크기를 설정\n",
    "    - kernel_size = 3은 kernel_size = (3,3)과 동일\n",
    "- strides : 스트라이드 크기를 지정, 기본값은 (1, 1), kernel_size와 같이 하나의 숫자 형태로도 사용할 수 있다.\n",
    "- padding : 패딩에 대한 결정 여부 지정, 'same', 'valid'가 있으며 'valid'가 기본값 \n",
    "    - 'same' : 출력형태와 입력형태가 동일하도록 조절\n",
    "    - 'valid' : 패딩을 사용하지 않음\n",
    "- activation : 사용할 활성화함수를 문자열 또는 클래스 형태로 제공\n",
    "- input_shape : 입력값의 형태"
   ]
  },
  {
   "cell_type": "markdown",
   "metadata": {},
   "source": [
    "#### MaxPool2D(pool_size = (2, 2), strides = 2, padding = 'same')"
   ]
  },
  {
   "cell_type": "markdown",
   "metadata": {},
   "source": [
    "- pool_size : 풀링층에서 사용할 커널의 크기를 설정, Conv2D의 kernel_size처럼 하나의 숫자형태로도 사용할 수 있음\n",
    "- strides : 스트라이드 크기를 지정, 기본값은 None\n",
    "    - 이 값이 주어지지 않는 경우, pool_size의 크기와 동일한 크기로 지정\n",
    "    - 예를 들어, pool_size=(2,2)이고 strides = None이면 실제 최대 풀링층의 스트라이드는 (2,2)로 적용\n",
    "- padding : Conv2D 층의 내용과 동일"
   ]
  },
  {
   "cell_type": "code",
   "execution_count": null,
   "metadata": {},
   "outputs": [],
   "source": []
  }
 ],
 "metadata": {
  "kernelspec": {
   "display_name": "Python 3 (ipykernel)",
   "language": "python",
   "name": "python3"
  },
  "language_info": {
   "codemirror_mode": {
    "name": "ipython",
    "version": 3
   },
   "file_extension": ".py",
   "mimetype": "text/x-python",
   "name": "python",
   "nbconvert_exporter": "python",
   "pygments_lexer": "ipython3",
   "version": "3.7.6"
  }
 },
 "nbformat": 4,
 "nbformat_minor": 4
}
