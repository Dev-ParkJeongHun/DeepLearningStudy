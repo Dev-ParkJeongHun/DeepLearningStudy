{
 "cells": [
  {
   "cell_type": "markdown",
   "metadata": {},
   "source": [
    "# CNN으로 Fashion-MNIST 인식하기"
   ]
  },
  {
   "cell_type": "markdown",
   "metadata": {},
   "source": [
    "### 1) Fashion-MNIST 데이타 불러오기 및 전처리"
   ]
  },
  {
   "cell_type": "code",
   "execution_count": 5,
   "metadata": {},
   "outputs": [
    {
     "name": "stdout",
     "output_type": "stream",
     "text": [
      "Fashion-MNIST ready~\n"
     ]
    }
   ],
   "source": [
    "from tensorflow.keras.datasets import fashion_mnist\n",
    "\n",
    "# 1. 데이터를 다운받습니다.\n",
    "(x_train, y_train), (x_test, y_test) = fashion_mnist.load_data()\n",
    "\n",
    "# 2. 피처-데이타 표준화\n",
    "import matplotlib.pyplot as plt\n",
    "import numpy as np\n",
    "np.random.seed(777)\n",
    "\n",
    "class_names = ['T-shirt/top', 'Trouser', 'Pullover', 'Dress', 'Coat',\n",
    "               'Sandal', 'Shirt', 'Sneaker', 'Bag', 'Ankle boot']\n",
    "\n",
    "sample_size = 9\n",
    "# 0 ~ 59999의 범위에서 무작위로 3개의 정수를 뽑습니다.\n",
    "random_idx = np.random.randint(60000, size=sample_size) \n",
    "\n",
    "# 0 ~ 1 범위로 만듭니다.\n",
    "x_train = np.reshape(x_train / 255, (-1, 28, 28, 1))\n",
    "x_test = np.reshape(x_test / 255, (-1, 28, 28, 1))\n",
    "\n",
    "# 3. 레이블-원핫인코딩\n",
    "from tensorflow.keras.utils import to_categorical\n",
    "# 각 데이터의 레이블을 범주형 형태로 변경합니다.\n",
    "y_train = to_categorical(y_train)\n",
    "y_test = to_categorical(y_test)\n",
    "\n",
    "# 4. 검증 데이터셋을 만듭니다.\n",
    "from sklearn.model_selection import train_test_split\n",
    "\n",
    "# 훈련/테스트 데이터를 0.7/0.3의 비율로 분리합니다.\n",
    "x_train, x_val, y_train, y_val = train_test_split(x_train, y_train, \n",
    "                                                  test_size = 0.3, random_state = 777)\n",
    "\n",
    "print('Fashion-MNIST ready~')"
   ]
  },
  {
   "cell_type": "markdown",
   "metadata": {},
   "source": [
    "### 2) CNN 모델 구성하기"
   ]
  },
  {
   "cell_type": "markdown",
   "metadata": {},
   "source": [
    "#### (1) Sequential() 함수에 리스트 형태로 케라스층 구성하기"
   ]
  },
  {
   "cell_type": "code",
   "execution_count": 2,
   "metadata": {},
   "outputs": [],
   "source": [
    "from tensorflow.keras.models import Sequential\n",
    "from tensorflow.keras.layers import Conv2D, MaxPool2D, Dense, Flatten\n",
    "\n",
    "# 5. 모델 구성\n",
    "# Sequential() 함수에 리스트 형태로 케라스층 구성하기\n",
    "model = Sequential([\n",
    "    # 항상 모델의 첫 번째 층은 입력의 형태를 명시해주어야 합니다.\n",
    "    Conv2D(filters = 16, kernel_size = 3, strides = (1, 1), padding = 'same', activation = 'relu', input_shape = (28, 28, 1)),\n",
    "    MaxPool2D(pool_size = (2, 2), strides = 2, padding = 'same'),  \n",
    "    Conv2D(filters = 32, kernel_size = 3, strides = (1, 1), padding = 'same', activation = 'relu'),\n",
    "    MaxPool2D(pool_size = (2, 2), strides = 2, adding = 'same'), \n",
    "    Conv2D(filters = 64, kernel_size = 3, strides = (1, 1), padding = 'same', activation = 'relu'),\n",
    "    MaxPool2D(pool_size = (2, 2), strides = 2, padding = 'same'), \n",
    "    Flatten(), # Dense 층에 입력하기 위해 데이터를 펼쳐줍니다.\n",
    "    Dense(64, activation = 'relu'),\n",
    "    Dense(10, activation = 'softmax') # 10개의 출력을 가지는 신경망\n",
    "])"
   ]
  },
  {
   "cell_type": "markdown",
   "metadata": {},
   "source": [
    "#### (2) add() 함수로 케라스층 구성하기"
   ]
  },
  {
   "cell_type": "code",
   "execution_count": 7,
   "metadata": {},
   "outputs": [],
   "source": [
    "from tensorflow.keras.models import Sequential\n",
    "from tensorflow.keras.layers import Conv2D, MaxPool2D, Dense, Flatten\n",
    "\n",
    "# 5. 모델 구성\n",
    "# add() 함수를 이용하여 케라스층 구성\n",
    "model = Sequential()\n",
    "# (28, 28, 1)의 데이타 입력\n",
    "model.add(Conv2D(filters = 16, kernel_size = 3, strides = (1, 1), padding = 'same', activation = 'relu', input_shape = (28, 28, 1)))\n",
    "model.add(MaxPool2D(pool_size = (2, 2), strides = 2, padding = 'same'))\n",
    "model.add(Conv2D(filters = 32, kernel_size = 3, strides = (1, 1), padding = 'same', activation = 'relu'))\n",
    "model.add(MaxPool2D(pool_size = (2, 2), strides = 2, padding = 'same'))\n",
    "model.add(Conv2D(filters = 64, kernel_size = 3, strides = (1, 1), padding = 'same', activation = 'relu'))\n",
    "model.add(MaxPool2D(pool_size = (2, 2), strides = 2, padding = 'same'))\n",
    "model.add(Flatten()) # Dense 층에 입력하기 위해 데이터를 펼쳐줍니다.\n",
    "model.add(Dense(64, activation = 'relu'))\n",
    "model.add(Dense(10, activation = 'softmax')) # 10개의 출력을 가지는 신경망"
   ]
  },
  {
   "cell_type": "code",
   "execution_count": 8,
   "metadata": {},
   "outputs": [
    {
     "name": "stdout",
     "output_type": "stream",
     "text": [
      "Model: \"sequential_2\"\n",
      "_________________________________________________________________\n",
      "Layer (type)                 Output Shape              Param #   \n",
      "=================================================================\n",
      "conv2d_5 (Conv2D)            (None, 28, 28, 16)        160       \n",
      "_________________________________________________________________\n",
      "max_pooling2d_4 (MaxPooling2 (None, 14, 14, 16)        0         \n",
      "_________________________________________________________________\n",
      "conv2d_6 (Conv2D)            (None, 14, 14, 32)        4640      \n",
      "_________________________________________________________________\n",
      "max_pooling2d_5 (MaxPooling2 (None, 7, 7, 32)          0         \n",
      "_________________________________________________________________\n",
      "conv2d_7 (Conv2D)            (None, 7, 7, 64)          18496     \n",
      "_________________________________________________________________\n",
      "max_pooling2d_6 (MaxPooling2 (None, 4, 4, 64)          0         \n",
      "_________________________________________________________________\n",
      "flatten_1 (Flatten)          (None, 1024)              0         \n",
      "_________________________________________________________________\n",
      "dense_2 (Dense)              (None, 64)                65600     \n",
      "_________________________________________________________________\n",
      "dense_3 (Dense)              (None, 10)                650       \n",
      "=================================================================\n",
      "Total params: 89,546\n",
      "Trainable params: 89,546\n",
      "Non-trainable params: 0\n",
      "_________________________________________________________________\n"
     ]
    }
   ],
   "source": [
    "# 모델 구성 확인하기\n",
    "model.summary()"
   ]
  },
  {
   "cell_type": "markdown",
   "metadata": {},
   "source": [
    "### 3) CNN 모델 학습하기"
   ]
  },
  {
   "cell_type": "code",
   "execution_count": 3,
   "metadata": {},
   "outputs": [
    {
     "name": "stdout",
     "output_type": "stream",
     "text": [
      "Epoch 1/30\n",
      "1313/1313 [==============================] - 21s 16ms/step - loss: 0.5346 - acc: 0.8056 - val_loss: 0.3867 - val_acc: 0.8580\n",
      "Epoch 2/30\n",
      "1313/1313 [==============================] - 20s 15ms/step - loss: 0.3352 - acc: 0.8791 - val_loss: 0.3181 - val_acc: 0.8851\n",
      "Epoch 3/30\n",
      "1313/1313 [==============================] - 20s 15ms/step - loss: 0.2850 - acc: 0.8955 - val_loss: 0.2706 - val_acc: 0.8995\n",
      "Epoch 4/30\n",
      "1313/1313 [==============================] - 22s 16ms/step - loss: 0.2557 - acc: 0.9055 - val_loss: 0.2613 - val_acc: 0.9055\n",
      "Epoch 5/30\n",
      "1313/1313 [==============================] - 21s 16ms/step - loss: 0.2313 - acc: 0.9152 - val_loss: 0.2689 - val_acc: 0.9052\n",
      "Epoch 6/30\n",
      "1313/1313 [==============================] - 25s 19ms/step - loss: 0.2125 - acc: 0.9221 - val_loss: 0.2525 - val_acc: 0.9062\n",
      "Epoch 7/30\n",
      "1313/1313 [==============================] - 25s 19ms/step - loss: 0.1950 - acc: 0.9273 - val_loss: 0.2398 - val_acc: 0.9154\n",
      "Epoch 8/30\n",
      "1313/1313 [==============================] - 23s 17ms/step - loss: 0.1786 - acc: 0.9346 - val_loss: 0.2411 - val_acc: 0.9137\n",
      "Epoch 9/30\n",
      "1313/1313 [==============================] - 22s 17ms/step - loss: 0.1631 - acc: 0.9400 - val_loss: 0.2422 - val_acc: 0.9151\n",
      "Epoch 10/30\n",
      "1313/1313 [==============================] - 20s 15ms/step - loss: 0.1488 - acc: 0.9442 - val_loss: 0.2353 - val_acc: 0.9139\n",
      "Epoch 11/30\n",
      "1313/1313 [==============================] - 21s 16ms/step - loss: 0.1363 - acc: 0.9500 - val_loss: 0.2492 - val_acc: 0.9198\n",
      "Epoch 12/30\n",
      "1313/1313 [==============================] - 23s 17ms/step - loss: 0.1238 - acc: 0.9542 - val_loss: 0.2597 - val_acc: 0.9175\n",
      "Epoch 13/30\n",
      "1313/1313 [==============================] - 26s 20ms/step - loss: 0.1115 - acc: 0.9582 - val_loss: 0.2594 - val_acc: 0.9179\n",
      "Epoch 14/30\n",
      "1313/1313 [==============================] - 26s 20ms/step - loss: 0.1043 - acc: 0.9607 - val_loss: 0.2916 - val_acc: 0.9169\n",
      "Epoch 15/30\n",
      "1313/1313 [==============================] - 22s 17ms/step - loss: 0.0947 - acc: 0.9646 - val_loss: 0.3234 - val_acc: 0.9066\n",
      "Epoch 16/30\n",
      "1313/1313 [==============================] - 20s 15ms/step - loss: 0.0844 - acc: 0.9678 - val_loss: 0.3096 - val_acc: 0.9149\n",
      "Epoch 17/30\n",
      "1313/1313 [==============================] - 21s 16ms/step - loss: 0.0805 - acc: 0.9690 - val_loss: 0.3149 - val_acc: 0.9168\n",
      "Epoch 18/30\n",
      "1313/1313 [==============================] - 21s 16ms/step - loss: 0.0731 - acc: 0.9723 - val_loss: 0.3365 - val_acc: 0.9163\n",
      "Epoch 19/30\n",
      "1313/1313 [==============================] - 21s 16ms/step - loss: 0.0685 - acc: 0.9739 - val_loss: 0.3393 - val_acc: 0.9204\n",
      "Epoch 20/30\n",
      "1313/1313 [==============================] - 21s 16ms/step - loss: 0.0645 - acc: 0.9757 - val_loss: 0.3428 - val_acc: 0.9176\n",
      "Epoch 21/30\n",
      "1313/1313 [==============================] - 21s 16ms/step - loss: 0.0574 - acc: 0.9786 - val_loss: 0.3537 - val_acc: 0.9114\n",
      "Epoch 22/30\n",
      "1313/1313 [==============================] - 21s 16ms/step - loss: 0.0545 - acc: 0.9792 - val_loss: 0.3903 - val_acc: 0.9173\n",
      "Epoch 23/30\n",
      "1313/1313 [==============================] - 21s 16ms/step - loss: 0.0571 - acc: 0.9782 - val_loss: 0.3896 - val_acc: 0.9178\n",
      "Epoch 24/30\n",
      "1313/1313 [==============================] - 21s 16ms/step - loss: 0.0499 - acc: 0.9816 - val_loss: 0.4056 - val_acc: 0.9173\n",
      "Epoch 25/30\n",
      "1313/1313 [==============================] - 21s 16ms/step - loss: 0.0438 - acc: 0.9832 - val_loss: 0.3933 - val_acc: 0.9194\n",
      "Epoch 26/30\n",
      "1313/1313 [==============================] - 21s 16ms/step - loss: 0.0443 - acc: 0.9832 - val_loss: 0.4431 - val_acc: 0.9147\n",
      "Epoch 27/30\n",
      "1313/1313 [==============================] - 22s 16ms/step - loss: 0.0398 - acc: 0.9848 - val_loss: 0.4653 - val_acc: 0.9160\n",
      "Epoch 28/30\n",
      "1313/1313 [==============================] - 21s 16ms/step - loss: 0.0412 - acc: 0.9851 - val_loss: 0.4959 - val_acc: 0.9093\n",
      "Epoch 29/30\n",
      "1313/1313 [==============================] - 21s 16ms/step - loss: 0.0442 - acc: 0.9841 - val_loss: 0.4852 - val_acc: 0.9166\n",
      "Epoch 30/30\n",
      "1313/1313 [==============================] - 21s 16ms/step - loss: 0.0359 - acc: 0.9870 - val_loss: 0.5161 - val_acc: 0.9144\n"
     ]
    },
    {
     "data": {
      "text/plain": [
       "<tensorflow.python.keras.callbacks.History at 0x2b52cbadb08>"
      ]
     },
     "execution_count": 3,
     "metadata": {},
     "output_type": "execute_result"
    }
   ],
   "source": [
    "model.compile(optimizer = 'adam', \n",
    "              loss = 'categorical_crossentropy', \n",
    "              metrics = ['acc'])\n",
    "\n",
    "model.fit(x_train, y_train, \n",
    "          epochs = 30, \n",
    "          batch_size = 32, \n",
    "          validation_data = (x_val, y_val))"
   ]
  },
  {
   "cell_type": "markdown",
   "metadata": {},
   "source": [
    "- 결과해석)\n",
    "- MLP로 Fashion-MNINST 한 결과는 88~89% 정확도\n",
    "- CNN 모델로 Fashion-MNINST 한 결과는 92% 정확도\n",
    "- Dense층으로만 구성한 모델보다 컨볼루션 신경망으로 구성한 모델이 향상된 성능을 보여준다."
   ]
  },
  {
   "cell_type": "markdown",
   "metadata": {},
   "source": [
    "## 컨볼루션 신경망(Convolutional Neural Network, CNN, 합성곱)"
   ]
  },
  {
   "cell_type": "markdown",
   "metadata": {},
   "source": [
    "## 컨볼루션층을 사용하는 이유\n",
    "### 완전연결층 단점\n",
    "- 완전연결층(fully-connected layer)은 1차원 배열 형태의 데이타를 통해 학습\n",
    "- 데이타를 단순히 1차원으로 펼쳐서 사용하기 때문에 각 이미지 픽셀의 관계를 고려하지 않는다.\n",
    "- 2차원 배열 형태(28, 28)를 1차원 배열 형태의 데이타(28*28)로 변환하면서 본래 데이타의 특징을 읽어버리게 된다.\n",
    "- 지역적 특징이 아닌 전역적 특징을 학습하게 되는 것 -> '공간 정보를 손실한다'\n",
    "- 완전연결층의 은닉 노드수를 늘려 문제를 해결할 수도 있지만, 급격히 증가하는 파라미터 수로 인해 과대적합 문제가 발생할 수도 있다."
   ]
  },
  {
   "cell_type": "markdown",
   "metadata": {},
   "source": [
    "### 컨볼루션층을 사용하는 이유\n",
    "- 이미지 픽셀 사이의 관게를 고려하기 때문에 지역적 특징을 학습하게 됨 -> '공간 정보를 유지한다'\n",
    "- 각 필터의 파라미터가 공유되기 때문에 완전연결층에 비해 적은 수의 파라미터를 요구"
   ]
  },
  {
   "cell_type": "markdown",
   "metadata": {},
   "source": [
    "## 컨볼루션 필터\n",
    "- 컨볼루션층에서 '필터'라는 개념 사용\n",
    "- 사진을 찍고 난 후, 틀정 사진 앱을 사용하여 얼굴을 변형해주는 필터와 동일한 개념 -> 이미지 필터\n",
    "- 컨볼루션층은 여러 개의 컨볼루션 필터를 활용하여 이미지에 내포된 다양한 정보를 인식할 수 있다."
   ]
  },
  {
   "cell_type": "markdown",
   "metadata": {},
   "source": [
    "### 이미지 필터 사용해보기\n",
    "- 이미지 가장자리를 검출하는 소벨 필터(Sobel Filter) 사용 "
   ]
  },
  {
   "cell_type": "markdown",
   "metadata": {},
   "source": [
    "#### 1) 이미지 불러오기"
   ]
  },
  {
   "cell_type": "code",
   "execution_count": 4,
   "metadata": {},
   "outputs": [
    {
     "data": {
      "text/plain": [
       "<matplotlib.image.AxesImage at 0x2b52d3c6b88>"
      ]
     },
     "execution_count": 4,
     "metadata": {},
     "output_type": "execute_result"
    },
    {
     "data": {
      "image/png": "[encoded data removed]",
      "text/plain": [
       "<Figure size 432x288 with 1 Axes>"
      ]
     },
     "metadata": {
      "needs_background": "light"
     },
     "output_type": "display_data"
    }
   ],
   "source": [
    "from tensorflow.keras.datasets import fashion_mnist\n",
    "\n",
    "# 데이터를 다운받습니다.\n",
    "(x_train, y_train), (x_test, y_test) = fashion_mnist.load_data()\n",
    "\n",
    "import matplotlib.pyplot as plt\n",
    "\n",
    "plt.imshow(x_train[0]) # 첫 번째 데이터를 그려봅니다. "
   ]
  },
  {
   "cell_type": "markdown",
   "metadata": {},
   "source": [
    "#### 2) 이미지 필터 정의하기\n",
    "- 소벨 필터 \n",
    "    - 두가지 대표적인 필터를 이용하여 가로선과 세로선을 추출하고,\n",
    "    - 이를 더하여 가장자리가 검출된 최종 이미지를 얻는다.\n",
    "- pip install opencv-python"
   ]
  },
  {
   "cell_type": "code",
   "execution_count": 7,
   "metadata": {},
   "outputs": [
    {
     "name": "stdout",
     "output_type": "stream",
     "text": [
      "output의 크기 : 25\n"
     ]
    }
   ],
   "source": [
    "import numpy as np\n",
    "import cv2\n",
    "\n",
    "# 가로선을 추출하기 위한 필터\n",
    "horizontal_filter = np.array([[1., 2., 1.], \n",
    "                             [0., 0., 0.], \n",
    "                             [-1., -2., -1.]])\n",
    "\n",
    "# 세로선을 추출하기 위한 필터\n",
    "vertical_filter = np.array([[1., 0., -1.],\n",
    "                           [2., 0., -2.],\n",
    "                           [1., 0., -1.]])\n",
    "\n",
    "# 계산의 편의를 위해 이미지의 크기를 (27, 27)로 줄입니다.\n",
    "test_image = cv2.resize(x_train[0], (27, 27))\n",
    "image_size = test_image.shape[0]\n",
    "output_size = int((image_size - 3)/1 + 1)\n",
    "\n",
    "print('output의 크기 : %d' % output_size)"
   ]
  },
  {
   "cell_type": "markdown",
   "metadata": {},
   "source": [
    "#### 3) 이미지 필터 적용하기"
   ]
  },
  {
   "cell_type": "code",
   "execution_count": 8,
   "metadata": {},
   "outputs": [
    {
     "data": {
      "image/png": "[encoded data removed]",
      "text/plain": [
       "<Figure size 432x288 with 2 Axes>"
      ]
     },
     "metadata": {
      "needs_background": "light"
     },
     "output_type": "display_data"
    }
   ],
   "source": [
    "filter_size = 3\n",
    "def get_filtered_image(filter):\n",
    "    filtered_image = np.zeros((output_size, output_size))    \n",
    "    for i in range(output_size):\n",
    "        for j in range(output_size):\n",
    "            # 합성곱 연산\n",
    "            indice_image = test_image[i:(i + filter_size), j:(j + filter_size)] * filter\n",
    "            indice_sum = np.sum(indice_image)\n",
    "\n",
    "            if(indice_sum > 255):\n",
    "                indice_sum = 255\n",
    "            filtered_image[i, j] = indice_sum\n",
    "      \n",
    "    return filtered_image\n",
    "\n",
    "vertical_filtered_image = get_filtered_image(vertical_filter)\n",
    "horizontal_filtered_image = get_filtered_image(horizontal_filter)\n",
    "plt.subplot(1, 2, 1)\n",
    "plt.title('vertical')\n",
    "plt.imshow(vertical_filtered_image)\n",
    "plt.subplot(1, 2, 2)\n",
    "plt.title('horizontal')\n",
    "plt.imshow(horizontal_filtered_image)\n",
    "plt.show()"
   ]
  },
  {
   "cell_type": "markdown",
   "metadata": {},
   "source": [
    "#### 4) 이미지 필터를 적용한 최종 결과"
   ]
  },
  {
   "cell_type": "code",
   "execution_count": 9,
   "metadata": {},
   "outputs": [
    {
     "data": {
      "text/plain": [
       "<matplotlib.image.AxesImage at 0x2b52e6b1948>"
      ]
     },
     "execution_count": 9,
     "metadata": {},
     "output_type": "execute_result"
    },
    {
     "data": {
      "image/png": "[encoded data removed]",
      "text/plain": [
       "<Figure size 432x288 with 1 Axes>"
      ]
     },
     "metadata": {
      "needs_background": "light"
     },
     "output_type": "display_data"
    }
   ],
   "source": [
    "sobel_image = np.sqrt(np.square(horizontal_filtered_image) + np.square(vertical_filtered_image))\n",
    "\n",
    "plt.title('vertical + horizontal')\n",
    "plt.imshow(sobel_image)"
   ]
  },
  {
   "cell_type": "markdown",
   "metadata": {},
   "source": [
    "- 이미지 필터 실습을 통해 가로선 필터와 세로선 필터를 직접 정의하여 사용\n",
    "- 하지만, 컨볼루션층을 사용하면 필터를 직접 정의할 필요가 없다.\n",
    "- 컨볼루션 필터의 파라미터가 학습을 통해 적절히 조정되기 때문\n",
    "- 여러개의 필터를 사용하여 다수의 특징을 학습하고, 인식할 수 있다."
   ]
  },
  {
   "cell_type": "markdown",
   "metadata": {},
   "source": [
    "## 컨볼루션 신경망(CNN) 개념\n",
    "- 컨볼루션 필터 = 커널 = 윈도우\n",
    "- 컨볼루션 연산\n",
    "- 스트라이드\n",
    "- 패팅\n",
    "\n",
    "### 컨볼루션 연산과 스트라이드\n",
    "- 컨볼루션층은 주어진 입력 데이타에서 컨볼루션 필터를 활용하여 원소별 곱과 윈도우 슬라이딩을 행하는 컨볼루션 연산을 통해 특징맵(Feature Map)을 만들게 된다.\n",
    "- 스트라이드 : 필터가 움직일 때 몇 칸씩 뛰면서 움직이는 지의 수치"
   ]
  },
  {
   "cell_type": "markdown",
   "metadata": {},
   "source": [
    "<img src=\"./img/cnn1.png\" width=650 align=left>"
   ]
  },
  {
   "cell_type": "markdown",
   "metadata": {},
   "source": [
    "- 컨볼루션 필터의 크기는 2X2, 3X3을 이용\n",
    "- 컨볼루션 필터는 지정해준 스트라이드 크기만큼 움직이게 된다.\n",
    "- 입력 (4X4) -> 특징맵 (3X3)"
   ]
  },
  {
   "cell_type": "markdown",
   "metadata": {},
   "source": [
    "<img src=\"./img/cnn2.png\" width=650 align=left>"
   ]
  },
  {
   "cell_type": "markdown",
   "metadata": {},
   "source": [
    "## 케라스에서 컨볼루션 층을 추가 : Conv2D() "
   ]
  },
  {
   "cell_type": "markdown",
   "metadata": {},
   "source": [
    "<img src=\"./img/cnn3.png\" width=650 align=left>"
   ]
  },
  {
   "cell_type": "markdown",
   "metadata": {},
   "source": [
    "### 패딩\n",
    "- 특징맵의 크기가 감소하지 않고, 입력 데이타의 형태와 동일한 형태를 출력값으로 얻고 싶을 경우 패딩을 사용\n",
    "- 패딩을 사용하게 되면 이미지 가장자리 부분에 해당하는 정보를 손실하지 않고 전달해줄 수 있는 효과가 있다.\n",
    "- 패딩은 행과 열에 특정 숫자를 추가하는 것"
   ]
  },
  {
   "cell_type": "markdown",
   "metadata": {},
   "source": [
    "<img src=\"./img/padding.jpg\" width=500 align=left>"
   ]
  },
  {
   "cell_type": "markdown",
   "metadata": {},
   "source": [
    "### 풀링 연산\n",
    "- 풀링 연산 종류 - 평균 풀링(Average Pooling), 맥스 풀링(Max Pooling)\n",
    "- 평균 풀링(Average Pooling) : 폴링 연산에 평균값을 사용\n",
    "- 맥스 풀링(Max Pooling) : 폴링 연산에 최댓값을 사용\n",
    "- 컨볼루션 신경망에서 맥스풀링은 일반적으로 2X2 스트라이드와 2X2 윈도우 크기를 사용하여 특징맵의 크기를 절반으로 줄이는 역할을 함(다운 샘플링)\n"
   ]
  },
  {
   "cell_type": "markdown",
   "metadata": {},
   "source": [
    "### 맥스 풀링(max pooling)의 장점\n",
    "- 모델이 물체의 주요한 특징을 학습할 수 있도록 도와주며, 컨볼루션 신경망이 이동 불변성 특성을 가지도록 한다.\n",
    "    - 이동 불변성 : 물체가 어느 위치에 있어도 그 물체를 인식할 수 있다는 것을 의미\n",
    "    - 크기 불변성, 회전 불변성 특징에는 취약하므로\n",
    "    - 이를 해결하기 위해서 일반적으로 데이타 증식(Data Augmentation) 방법을 활용해야 함\n",
    "- 모델 파라미터 수를 줄여준다.\n",
    "    - 계산 속도 향상, 과대적합 문제 노출될 위험을 줄임"
   ]
  },
  {
   "cell_type": "markdown",
   "metadata": {},
   "source": [
    "<img src=\"./img/cnn4.png\" width=650 align=left>\n",
    "<img src=\"./img/cnn5.png\" width=650 align=left>"
   ]
  },
  {
   "cell_type": "markdown",
   "metadata": {},
   "source": [
    "### 맥스 풀링 구현해보기"
   ]
  },
  {
   "cell_type": "code",
   "execution_count": 11,
   "metadata": {},
   "outputs": [
    {
     "name": "stdout",
     "output_type": "stream",
     "text": [
      "original image shape: (28, 28)\n",
      "pooled image shape: (14, 14)\n"
     ]
    },
    {
     "data": {
      "text/plain": [
       "<matplotlib.image.AxesImage at 0x2b52ce5af08>"
      ]
     },
     "execution_count": 11,
     "metadata": {},
     "output_type": "execute_result"
    },
    {
     "data": {
      "image/png": "[encoded data removed]",
      "text/plain": [
       "<Figure size 432x288 with 1 Axes>"
      ]
     },
     "metadata": {
      "needs_background": "light"
     },
     "output_type": "display_data"
    }
   ],
   "source": [
    "import numpy as np\n",
    "\n",
    "image = x_train[0]\n",
    "image_x = image.shape[0]\n",
    "image_y = image.shape[1]\n",
    "new_image_x = int(image_x / 2)\n",
    "new_image_y = int(image_y / 2)\n",
    "\n",
    "pooled_image = np.zeros((new_image_x, new_image_y))\n",
    "\n",
    "print(f'original image shape: ({image_x}, {image_y})')\n",
    "print(f'pooled image shape: ({new_image_x}, {new_image_y})')\n",
    "\n",
    "for x in range(0, image_x, 2):\n",
    "    for y in range(0, image_y, 2):\n",
    "        pooled_image[int(x/2), int(y/2)] = np.max(image[x:x + 2, y:y + 2])\n",
    "        \n",
    "plt.title('pooled image')\n",
    "plt.imshow(pooled_image)"
   ]
  },
  {
   "cell_type": "markdown",
   "metadata": {},
   "source": [
    "## 드롭 아웃(drop out)"
   ]
  },
  {
   "cell_type": "markdown",
   "metadata": {},
   "source": [
    "<img src=\"./img/cnn6.png\" width=650 align=left>"
   ]
  },
  {
   "cell_type": "markdown",
   "metadata": {},
   "source": [
    "## 플래튼 : Flatten() 함수"
   ]
  },
  {
   "cell_type": "markdown",
   "metadata": {},
   "source": [
    "<img src=\"./img/cnn7.png\" width=650 align=left>"
   ]
  },
  {
   "cell_type": "markdown",
   "metadata": {},
   "source": [
    "## CNN으로 Fashoion-MNIST 인식하기"
   ]
  },
  {
   "cell_type": "markdown",
   "metadata": {},
   "source": [
    "### 컨볼루션 신경망의 설정"
   ]
  },
  {
   "cell_type": "code",
   "execution_count": 2,
   "metadata": {},
   "outputs": [],
   "source": [
    "from tensorflow.keras.models import Sequential\n",
    "from tensorflow.keras.layers import Conv2D, MaxPool2D, Dense, Flatten\n",
    "\n",
    "# 5. 모델 구성\n",
    "# Sequential() 함수를 사용하여 모델의 층을 구성\n",
    "# 모델의 층을 구성하기 위해 Sequential() 함수에 리스트 형태로 케라스층을 제공\n",
    "# add() 함수를 이용하여 케라스층을 쌓아도 됨\n",
    "model = Sequential([\n",
    "    # 항상 모델의 첫 번째 층은 입력의 형태를 명시해주어야 합니다.\n",
    "    Conv2D(filters = 16, kernel_size = 3, strides = (1, 1), padding = 'same', activation = 'relu', input_shape = (28, 28, 1)),\n",
    "    MaxPool2D(pool_size = (2, 2), strides = 2, padding = 'same'),  \n",
    "    Conv2D(filters = 32, kernel_size = 3, strides = (1, 1), padding = 'same', activation = 'relu'),\n",
    "    MaxPool2D(pool_size = (2, 2), strides = 2, padding = 'same'), \n",
    "    Conv2D(filters = 64, kernel_size = 3, strides = (1, 1), padding = 'same', activation = 'relu'),\n",
    "    MaxPool2D(pool_size = (2, 2), strides = 2, padding = 'same'), \n",
    "    Flatten(), # Dense 층에 입력하기 위해 데이터를 펼쳐줍니다.\n",
    "    Dense(64, activation = 'relu'),\n",
    "    Dense(10, activation = 'softmax') # 10개의 출력을 가지는 신경망\n",
    "])"
   ]
  },
  {
   "cell_type": "markdown",
   "metadata": {},
   "source": [
    "### 모델 구조 확인하기\n",
    "- summary(), plot_model() 함수 활용"
   ]
  },
  {
   "cell_type": "code",
   "execution_count": 3,
   "metadata": {},
   "outputs": [
    {
     "name": "stdout",
     "output_type": "stream",
     "text": [
      "Model: \"sequential\"\n",
      "_________________________________________________________________\n",
      "Layer (type)                 Output Shape              Param #   \n",
      "=================================================================\n",
      "conv2d (Conv2D)              (None, 28, 28, 16)        160       \n",
      "_________________________________________________________________\n",
      "max_pooling2d (MaxPooling2D) (None, 14, 14, 16)        0         \n",
      "_________________________________________________________________\n",
      "conv2d_1 (Conv2D)            (None, 14, 14, 32)        4640      \n",
      "_________________________________________________________________\n",
      "max_pooling2d_1 (MaxPooling2 (None, 7, 7, 32)          0         \n",
      "_________________________________________________________________\n",
      "conv2d_2 (Conv2D)            (None, 7, 7, 64)          18496     \n",
      "_________________________________________________________________\n",
      "max_pooling2d_2 (MaxPooling2 (None, 4, 4, 64)          0         \n",
      "_________________________________________________________________\n",
      "flatten (Flatten)            (None, 1024)              0         \n",
      "_________________________________________________________________\n",
      "dense (Dense)                (None, 64)                65600     \n",
      "_________________________________________________________________\n",
      "dense_1 (Dense)              (None, 10)                650       \n",
      "=================================================================\n",
      "Total params: 89,546\n",
      "Trainable params: 89,546\n",
      "Non-trainable params: 0\n",
      "_________________________________________________________________\n"
     ]
    }
   ],
   "source": [
    "# 1) summary()\n",
    "model.summary()"
   ]
  },
  {
   "cell_type": "code",
   "execution_count": 4,
   "metadata": {},
   "outputs": [
    {
     "data": {
      "image/png": "[encoded data removed]",
      "text/plain": [
       "<IPython.core.display.Image object>"
      ]
     },
     "execution_count": 4,
     "metadata": {},
     "output_type": "execute_result"
    }
   ],
   "source": [
    "# 2) plot_model() 함수\n",
    "# pip install pydot-ng\n",
    "# pip install graphviz\n",
    "# Graphviz 패키지 설치, 윈도우에서 환경변수에 경로 추가\n",
    "\n",
    "# import os\n",
    "# os.environ[\"PATH\"] += os.pathsep + 'C:/Program Files (x86)/Graphviz2.38/bin'\n",
    "\n",
    "from tensorflow.keras.utils import plot_model\n",
    "plot_model(model, './model.png', show_shapes=True)"
   ]
  },
  {
   "cell_type": "markdown",
   "metadata": {},
   "source": [
    "### CNN 모델 살펴보기"
   ]
  },
  {
   "cell_type": "markdown",
   "metadata": {},
   "source": [
    "#### Conv2D(filters = 16, kernel_size = 3, strides = (1, 1), padding = 'same', activation = 'relu', input_shape = (28, 28, 1))"
   ]
  },
  {
   "cell_type": "markdown",
   "metadata": {},
   "source": [
    "- filters : 특징맵의 차원을 결정\n",
    "    - filters = 16은 16개의 컨볼루션 필터를 사용한다는 의미\n",
    "    - 특징맵의 형태는 (batch_size, rows, cols, filters)가 된다.\n",
    "- kernel_size : (3, 3)과 같이 튜플 형태로 필터의 크기를 설정\n",
    "    - kernel_size = 3은 kernel_size = (3,3)과 동일\n",
    "- strides : 스트라이드 크기를 지정, 기본값은 (1, 1), kernel_size와 같이 하나의 숫자 형태로도 사용할 수 있다.\n",
    "- padding : 패딩에 대한 결정 여부 지정, 'same', 'valid'가 있으며 'valid'가 기본값 \n",
    "    - 'same' : 출력형태와 입력형태가 동일하도록 조절\n",
    "    - 'valid' : 패딩을 사용하지 않음\n",
    "- activation : 사용할 활성화함수를 문자열 또는 클래스 형태로 제공\n",
    "- input_shape : 입력값의 형태"
   ]
  },
  {
   "cell_type": "markdown",
   "metadata": {},
   "source": [
    "#### MaxPool2D(pool_size = (2, 2), strides = 2, padding = 'same')"
   ]
  },
  {
   "cell_type": "markdown",
   "metadata": {},
   "source": [
    "- pool_size : 풀링층에서 사용할 커널의 크기를 설정, Conv2D의 kernel_size처럼 하나의 숫자형태로도 사용할 수 있음\n",
    "- strides : 스트라이드 크기를 지정, 기본값은 None\n",
    "    - 이 값이 주어지지 않는 경우, pool_size의 크기와 동일한 크기로 지정\n",
    "    - 예를 들어, pool_size=(2,2)이고 strides = None이면 실제 최대 풀링층의 스트라이드는 (2,2)로 적용\n",
    "- padding : Conv2D 층의 내용과 동일"
   ]
  },
  {
   "cell_type": "code",
   "execution_count": null,
   "metadata": {},
   "outputs": [],
   "source": []
  }
 ],
 "metadata": {
  "kernelspec": {
   "display_name": "Python 3",
   "language": "python",
   "name": "python3"
  },
  "language_info": {
   "codemirror_mode": {
    "name": "ipython",
    "version": 3
   },
   "file_extension": ".py",
   "mimetype": "text/x-python",
   "name": "python",
   "nbconvert_exporter": "python",
   "pygments_lexer": "ipython3",
   "version": "3.7.6"
  }
 },
 "nbformat": 4,
 "nbformat_minor": 4
}
