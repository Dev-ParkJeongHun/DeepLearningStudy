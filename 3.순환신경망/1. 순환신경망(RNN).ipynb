{
 "cells": [
  {
   "cell_type": "markdown",
   "metadata": {},
   "source": [
    "# 순환 신경망(RNN, Recurrent Neural Network) "
   ]
  },
  {
   "cell_type": "code",
   "execution_count": 1,
   "metadata": {},
   "outputs": [],
   "source": [
    "# 경고(worning) 무시\n",
    "import warnings\n",
    "warnings.filterwarnings('ignore')"
   ]
  },
  {
   "cell_type": "markdown",
   "metadata": {},
   "source": [
    "## IMDB 데이타 셋을 RNN으로 실행하기\n",
    "### IMDB 데이타 셋\n",
    "- 영어 데이터로 영화 사이트 IMDB의 리뷰 데이터\n",
    "- 영화 리뷰에 대한 텍스트와 해당 리뷰가 긍정인 경우 1을 부정인 경우 0으로 표시한 레이블로 구성된 데이터\n",
    "- 스탠포드 대학교에서 2011년에 낸 논문에서 이 데이터를 소개\n",
    "- 당시 논문에서는 이 데이터를 훈련 데이터와 테스트 데이터를 50:50대 비율로 분할하여 88.89%의 정확도를 얻었다고 소개"
   ]
  },
  {
   "cell_type": "markdown",
   "metadata": {},
   "source": [
    "### 1. 데이타 불러오기"
   ]
  },
  {
   "cell_type": "code",
   "execution_count": 3,
   "metadata": {},
   "outputs": [
    {
     "name": "stdout",
     "output_type": "stream",
     "text": [
      "Downloading data from https://storage.googleapis.com/tensorflow/tf-keras-datasets/imdb.npz\n",
      "17464789/17464789 [==============================] - 1s 0us/step\n"
     ]
    }
   ],
   "source": [
    "from tensorflow.keras.datasets import imdb\n",
    "\n",
    "# 1 ~ 10,000 빈도 순위(빈도가 높은 순위)에 해당하는 단어만 사용\n",
    "num_words = 10000\n",
    "(X_train, y_train), (X_test, y_test) = imdb.load_data(num_words = num_words)"
   ]
  },
  {
   "cell_type": "markdown",
   "metadata": {},
   "source": [
    "### 2. 데이터를 동일한 길이로 맞추기"
   ]
  },
  {
   "cell_type": "code",
   "execution_count": 4,
   "metadata": {},
   "outputs": [],
   "source": [
    "from tensorflow.keras.preprocessing.sequence import pad_sequences\n",
    "\n",
    "# 각 데이터의 최대 길이를 500으로 동일하게 맞춰주기\n",
    "max_len = 500\n",
    "\n",
    "pad_x_train = pad_sequences(X_train, maxlen=max_len)\n",
    "pad_x_test = pad_sequences(X_test, maxlen=max_len)"
   ]
  },
  {
   "cell_type": "markdown",
   "metadata": {},
   "source": [
    "참고) pip install numpy==1.19.5"
   ]
  },
  {
   "cell_type": "markdown",
   "metadata": {},
   "source": [
    "### 3. SimpleRNN 모델 정의\n",
    "#### 1) Embedding 층 \n",
    "- 임베딩(Embedding) : 데이타의 표현을 학습하여 데이타 사전을 구축하는 것\n",
    "- 유사한 의미의 단어를 비슷한 공간에 매핑할 수 있지만, \n",
    "    - 시퀀스 데이타의 중요한 특성인 순서와 맥락까지 고려하지 못함 \n",
    "    - -> 순환신경망을 이용하여 해결\n",
    "    \n",
    "#### 2)  SimpleRNN 층을 여러개 쌓아 구성\n",
    "- return_sequences, dropout, recurrent_dropout 인자\n",
    "- 1) return_sequences \n",
    "    - SimpleRNN 층을 여러 개 사용하기 위해서는  return_sequences 인자를 사용\n",
    "    - return_sequences = True : 이전 상태의 연결을 위해 전체 상태 시퀀스를 반환하는 것\n",
    "- 2) dropout, recurrent_dropout 인자\n",
    "    - 케라스가 제공하는 모든 순환층에는 드롭아웃 사용을 위한 dropout, recurrent_dropout 인자가 존재\n",
    "    - 이를 사용하면 별도의 dropout 층을 추가하지 않아도 드룹아웃 방식을 적용할 수 있다."
   ]
  },
  {
   "cell_type": "code",
   "execution_count": 5,
   "metadata": {},
   "outputs": [
    {
     "name": "stdout",
     "output_type": "stream",
     "text": [
      "Model: \"sequential\"\n",
      "_________________________________________________________________\n",
      " Layer (type)                Output Shape              Param #   \n",
      "=================================================================\n",
      " embedding (Embedding)       (None, None, 32)          320000    \n",
      "                                                                 \n",
      " simple_rnn (SimpleRNN)      (None, None, 32)          2080      \n",
      "                                                                 \n",
      " simple_rnn_1 (SimpleRNN)    (None, 32)                2080      \n",
      "                                                                 \n",
      " dense (Dense)               (None, 1)                 33        \n",
      "                                                                 \n",
      "=================================================================\n",
      "Total params: 324,193\n",
      "Trainable params: 324,193\n",
      "Non-trainable params: 0\n",
      "_________________________________________________________________\n"
     ]
    }
   ],
   "source": [
    "# 모델 불러오기\n",
    "from tensorflow.keras.models import Sequential\n",
    "from tensorflow.keras.layers import SimpleRNN, Dense, Embedding  \n",
    "\n",
    "# 빈도가 높은 10000개 단어 사용\n",
    "num_words = 10000\n",
    "\n",
    "# RNN 모델 구성\n",
    "model = Sequential()\n",
    "model.add(Embedding(input_dim = num_words, output_dim = 32)) # 입력층\n",
    "\n",
    "# 새로운 인자 3개 사용 \n",
    "# - return_sequences, dropout, recurrent_dropout\n",
    "model.add(SimpleRNN(32, return_sequences = True))  # RNN 층\n",
    "model.add(SimpleRNN(32)) # RNN 층\n",
    "model.add(Dense(1, activation = 'sigmoid'))        # 출력층\n",
    "\n",
    "# 모델 요약\n",
    "model.summary()"
   ]
  },
  {
   "cell_type": "markdown",
   "metadata": {},
   "source": [
    "### 4. 컴파일 설정"
   ]
  },
  {
   "cell_type": "code",
   "execution_count": 6,
   "metadata": {},
   "outputs": [],
   "source": [
    "# 컴파일 설정\n",
    "model.compile(optimizer='adam',\n",
    "             loss = 'binary_crossentropy',\n",
    "             metrics = ['acc'])"
   ]
  },
  {
   "cell_type": "markdown",
   "metadata": {},
   "source": [
    "### 5. 모델 학습"
   ]
  },
  {
   "cell_type": "code",
   "execution_count": 7,
   "metadata": {},
   "outputs": [
    {
     "name": "stdout",
     "output_type": "stream",
     "text": [
      "Epoch 1/15\n",
      "625/625 [==============================] - 84s 131ms/step - loss: 0.5410 - acc: 0.7041 - val_loss: 0.4315 - val_acc: 0.8000\n",
      "Epoch 2/15\n",
      "625/625 [==============================] - 77s 123ms/step - loss: 0.3395 - acc: 0.8604 - val_loss: 0.3851 - val_acc: 0.8424\n",
      "Epoch 3/15\n",
      "625/625 [==============================] - 75s 119ms/step - loss: 0.2827 - acc: 0.8817 - val_loss: 0.4046 - val_acc: 0.8264\n",
      "Epoch 4/15\n",
      "625/625 [==============================] - 74s 119ms/step - loss: 0.1797 - acc: 0.9342 - val_loss: 0.5004 - val_acc: 0.8102\n",
      "Epoch 5/15\n",
      "625/625 [==============================] - 74s 119ms/step - loss: 0.2161 - acc: 0.9128 - val_loss: 0.5370 - val_acc: 0.8258\n",
      "Epoch 6/15\n",
      "625/625 [==============================] - 76s 122ms/step - loss: 0.0728 - acc: 0.9758 - val_loss: 0.6387 - val_acc: 0.8158\n",
      "Epoch 7/15\n",
      "625/625 [==============================] - 80s 129ms/step - loss: 0.0466 - acc: 0.9844 - val_loss: 0.7853 - val_acc: 0.7846\n",
      "Epoch 8/15\n",
      "625/625 [==============================] - 81s 130ms/step - loss: 0.0394 - acc: 0.9875 - val_loss: 0.8484 - val_acc: 0.7988\n",
      "Epoch 9/15\n",
      "625/625 [==============================] - 79s 126ms/step - loss: 0.0322 - acc: 0.9894 - val_loss: 0.8438 - val_acc: 0.8156\n",
      "Epoch 10/15\n",
      "625/625 [==============================] - 74s 119ms/step - loss: 0.0341 - acc: 0.9889 - val_loss: 0.9664 - val_acc: 0.7696\n",
      "Epoch 11/15\n",
      "625/625 [==============================] - 75s 120ms/step - loss: 0.0338 - acc: 0.9883 - val_loss: 0.9612 - val_acc: 0.7922\n",
      "Epoch 12/15\n",
      "625/625 [==============================] - 75s 119ms/step - loss: 0.1586 - acc: 0.9327 - val_loss: 0.5452 - val_acc: 0.7944\n",
      "Epoch 13/15\n",
      "625/625 [==============================] - 78s 124ms/step - loss: 0.1792 - acc: 0.9283 - val_loss: 0.6221 - val_acc: 0.8002\n",
      "Epoch 14/15\n",
      "625/625 [==============================] - 82s 131ms/step - loss: 0.0644 - acc: 0.9792 - val_loss: 0.8157 - val_acc: 0.7692\n",
      "Epoch 15/15\n",
      "625/625 [==============================] - 82s 132ms/step - loss: 0.0344 - acc: 0.9894 - val_loss: 0.9141 - val_acc: 0.7870\n"
     ]
    }
   ],
   "source": [
    "# 모델 학습\n",
    "history = model.fit(pad_x_train, y_train, \n",
    "                    batch_size = 32, \n",
    "                    epochs = 15, \n",
    "                    validation_split = 0.2) # 검증 데이타를 훈련데이타의 20% 할당"
   ]
  },
  {
   "cell_type": "markdown",
   "metadata": {},
   "source": [
    "### 6. 모델 평가"
   ]
  },
  {
   "cell_type": "code",
   "execution_count": 8,
   "metadata": {},
   "outputs": [
    {
     "name": "stdout",
     "output_type": "stream",
     "text": [
      "782/782 [==============================] - 24s 31ms/step - loss: 0.9581 - acc: 0.7772\n"
     ]
    },
    {
     "data": {
      "text/plain": [
       "[0.9581300020217896, 0.777239978313446]"
      ]
     },
     "execution_count": 8,
     "metadata": {},
     "output_type": "execute_result"
    }
   ],
   "source": [
    "# 모델 평가 - test dataset\n",
    "model.evaluate(pad_x_test, y_test)"
   ]
  },
  {
   "cell_type": "code",
   "execution_count": 9,
   "metadata": {},
   "outputs": [
    {
     "name": "stdout",
     "output_type": "stream",
     "text": [
      "782/782 [==============================] - 24s 31ms/step - loss: 0.1937 - acc: 0.9546\n"
     ]
    },
    {
     "data": {
      "text/plain": [
       "[0.19372475147247314, 0.9546399712562561]"
      ]
     },
     "execution_count": 9,
     "metadata": {},
     "output_type": "execute_result"
    }
   ],
   "source": [
    "# 모델 평가 - train dataset\n",
    "model.evaluate(pad_x_train, y_train)"
   ]
  },
  {
   "cell_type": "markdown",
   "metadata": {},
   "source": [
    "### 7. 학습 과정 그리기"
   ]
  },
  {
   "cell_type": "code",
   "execution_count": 10,
   "metadata": {},
   "outputs": [
    {
     "data": {
      "image/png": "[encoded data removed]",
      "text/plain": [
       "<Figure size 1000x500 with 2 Axes>"
      ]
     },
     "metadata": {},
     "output_type": "display_data"
    }
   ],
   "source": [
    "import matplotlib.pyplot as plt\n",
    "\n",
    "his_dict = history.history\n",
    "loss = his_dict['loss']\n",
    "val_loss = his_dict['val_loss'] \n",
    "\n",
    "epochs = range(1, len(loss) + 1)\n",
    "fig = plt.figure(figsize = (10, 5))\n",
    "\n",
    "# 훈련 및 검증 손실 그리기\n",
    "ax1 = fig.add_subplot(1, 2, 1)\n",
    "ax1.plot(epochs, loss, color = 'blue', label = 'train_loss')\n",
    "ax1.plot(epochs, val_loss, color = 'orange', label = 'val_loss')\n",
    "ax1.set_title('train and val loss')\n",
    "ax1.set_xlabel('epochs')\n",
    "ax1.set_ylabel('loss')\n",
    "ax1.legend()\n",
    "\n",
    "acc = his_dict['acc']\n",
    "val_acc = his_dict['val_acc']\n",
    "\n",
    "# 훈련 및 검증 정확도 그리기\n",
    "ax2 = fig.add_subplot(1, 2, 2)\n",
    "ax2.plot(epochs, acc, color = 'blue', label = 'train_acc')\n",
    "ax2.plot(epochs, val_acc, color = 'orange', label = 'val_acc')\n",
    "ax2.set_title('train and val acc')\n",
    "ax2.set_xlabel('epochs')\n",
    "ax2.set_ylabel('acc')\n",
    "ax2.legend()\n",
    "\n",
    "plt.show()"
   ]
  },
  {
   "cell_type": "markdown",
   "metadata": {},
   "source": [
    "- 결과 해석)\n",
    "    - SimpleRNN층은 영화 리뷰와 같이 긴 문장의 데이타를 처리하기에는 문제가 있음\n",
    "    - 앞부분에 존재하는 몇 개의 시점은 기억할 수 있지만, \n",
    "        - 시점이 흐를수록 지속해서 기억하지 못하기 때문에 성능이 낮음\n",
    "    - 대부분 실제 환경에서는 SimpleRNN층을 사용하지 않음"
   ]
  }
 ],
 "metadata": {
  "kernelspec": {
   "display_name": "Python 3 (ipykernel)",
   "language": "python",
   "name": "python3"
  },
  "language_info": {
   "codemirror_mode": {
    "name": "ipython",
    "version": 3
   },
   "file_extension": ".py",
   "mimetype": "text/x-python",
   "name": "python",
   "nbconvert_exporter": "python",
   "pygments_lexer": "ipython3",
   "version": "3.7.6"
  }
 },
 "nbformat": 4,
 "nbformat_minor": 4
}
